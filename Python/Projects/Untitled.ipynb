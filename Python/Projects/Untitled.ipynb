{
 "cells": [
  {
   "cell_type": "code",
   "execution_count": 329,
   "metadata": {},
   "outputs": [],
   "source": [
    "#!/usr/bin/env python3\n",
    "# -*- coding:utf-8 -*-\n",
    "################################################################################\n",
    "# Title: Machine Learning Iris.py                                              #\n",
    "# File: /Users/zacks/Desktop/Code/Python/Projects/Machine Learning Iris.ipynb  #\n",
    "# Project: /Users/zacks/Desktop/Code/Python/Projects                           #\n",
    "# Created Date: 2020-03-14                                                     #\n",
    "# -----                                                                        #\n",
    "# Author: Zacks Shen                                                           #\n",
    "# Blog: https://zacks.one                                                      #\n",
    "# Email: <zacks.shen@gmail.com>                                                #\n",
    "# Github: https://github.com/ZacksAmber                                        #\n",
    "# -----                                                                        #\n",
    "# Last Modified: 2020-03-14 22:25:01 pm                                        #\n",
    "# Modified By: Zacks Shen <zacks.shen@gmail.com>                               #\n",
    "# -----                                                                        #\n",
    "# Copyright (c) 2020 Zacks Shen                                                #\n",
    "################################################################################"
   ]
  },
  {
   "cell_type": "code",
   "execution_count": 330,
   "metadata": {},
   "outputs": [],
   "source": [
    "# Clear all variables\n",
    "%reset -f"
   ]
  },
  {
   "cell_type": "code",
   "execution_count": 331,
   "metadata": {},
   "outputs": [
    {
     "data": {
      "text/html": [
       "<div>\n",
       "<style scoped>\n",
       "    .dataframe tbody tr th:only-of-type {\n",
       "        vertical-align: middle;\n",
       "    }\n",
       "\n",
       "    .dataframe tbody tr th {\n",
       "        vertical-align: top;\n",
       "    }\n",
       "\n",
       "    .dataframe thead th {\n",
       "        text-align: right;\n",
       "    }\n",
       "</style>\n",
       "<table border=\"1\" class=\"dataframe\">\n",
       "  <thead>\n",
       "    <tr style=\"text-align: right;\">\n",
       "      <th></th>\n",
       "      <th>Classification</th>\n",
       "      <th>Alcohol</th>\n",
       "      <th>Malic acid</th>\n",
       "      <th>Ash</th>\n",
       "      <th>Alcalinity of ash</th>\n",
       "      <th>Magnesium</th>\n",
       "      <th>Total phenols</th>\n",
       "      <th>Flavanoids</th>\n",
       "      <th>Nonflavanoid phenols</th>\n",
       "      <th>Proanthocyanins</th>\n",
       "      <th>Color intensity</th>\n",
       "      <th>Hue</th>\n",
       "      <th>OD280/OD315 of diluted wines</th>\n",
       "      <th>Proline</th>\n",
       "    </tr>\n",
       "  </thead>\n",
       "  <tbody>\n",
       "    <tr>\n",
       "      <th>0</th>\n",
       "      <td>1</td>\n",
       "      <td>14.23</td>\n",
       "      <td>1.71</td>\n",
       "      <td>2.43</td>\n",
       "      <td>15.6</td>\n",
       "      <td>127</td>\n",
       "      <td>2.80</td>\n",
       "      <td>3.06</td>\n",
       "      <td>0.28</td>\n",
       "      <td>2.29</td>\n",
       "      <td>5.64</td>\n",
       "      <td>1.04</td>\n",
       "      <td>3.92</td>\n",
       "      <td>1065</td>\n",
       "    </tr>\n",
       "    <tr>\n",
       "      <th>1</th>\n",
       "      <td>1</td>\n",
       "      <td>13.20</td>\n",
       "      <td>1.78</td>\n",
       "      <td>2.14</td>\n",
       "      <td>11.2</td>\n",
       "      <td>100</td>\n",
       "      <td>2.65</td>\n",
       "      <td>2.76</td>\n",
       "      <td>0.26</td>\n",
       "      <td>1.28</td>\n",
       "      <td>4.38</td>\n",
       "      <td>1.05</td>\n",
       "      <td>3.40</td>\n",
       "      <td>1050</td>\n",
       "    </tr>\n",
       "    <tr>\n",
       "      <th>2</th>\n",
       "      <td>1</td>\n",
       "      <td>13.16</td>\n",
       "      <td>2.36</td>\n",
       "      <td>2.67</td>\n",
       "      <td>18.6</td>\n",
       "      <td>101</td>\n",
       "      <td>2.80</td>\n",
       "      <td>3.24</td>\n",
       "      <td>0.30</td>\n",
       "      <td>2.81</td>\n",
       "      <td>5.68</td>\n",
       "      <td>1.03</td>\n",
       "      <td>3.17</td>\n",
       "      <td>1185</td>\n",
       "    </tr>\n",
       "    <tr>\n",
       "      <th>3</th>\n",
       "      <td>1</td>\n",
       "      <td>14.37</td>\n",
       "      <td>1.95</td>\n",
       "      <td>2.50</td>\n",
       "      <td>16.8</td>\n",
       "      <td>113</td>\n",
       "      <td>3.85</td>\n",
       "      <td>3.49</td>\n",
       "      <td>0.24</td>\n",
       "      <td>2.18</td>\n",
       "      <td>7.80</td>\n",
       "      <td>0.86</td>\n",
       "      <td>3.45</td>\n",
       "      <td>1480</td>\n",
       "    </tr>\n",
       "    <tr>\n",
       "      <th>4</th>\n",
       "      <td>1</td>\n",
       "      <td>13.24</td>\n",
       "      <td>2.59</td>\n",
       "      <td>2.87</td>\n",
       "      <td>21.0</td>\n",
       "      <td>118</td>\n",
       "      <td>2.80</td>\n",
       "      <td>2.69</td>\n",
       "      <td>0.39</td>\n",
       "      <td>1.82</td>\n",
       "      <td>4.32</td>\n",
       "      <td>1.04</td>\n",
       "      <td>2.93</td>\n",
       "      <td>735</td>\n",
       "    </tr>\n",
       "  </tbody>\n",
       "</table>\n",
       "</div>"
      ],
      "text/plain": [
       "   Classification  Alcohol  Malic acid   Ash  Alcalinity of ash  Magnesium  \\\n",
       "0               1    14.23        1.71  2.43               15.6        127   \n",
       "1               1    13.20        1.78  2.14               11.2        100   \n",
       "2               1    13.16        2.36  2.67               18.6        101   \n",
       "3               1    14.37        1.95  2.50               16.8        113   \n",
       "4               1    13.24        2.59  2.87               21.0        118   \n",
       "\n",
       "   Total phenols  Flavanoids  Nonflavanoid phenols  Proanthocyanins  \\\n",
       "0           2.80        3.06                  0.28             2.29   \n",
       "1           2.65        2.76                  0.26             1.28   \n",
       "2           2.80        3.24                  0.30             2.81   \n",
       "3           3.85        3.49                  0.24             2.18   \n",
       "4           2.80        2.69                  0.39             1.82   \n",
       "\n",
       "   Color intensity   Hue  OD280/OD315 of diluted wines  Proline  \n",
       "0             5.64  1.04                          3.92     1065  \n",
       "1             4.38  1.05                          3.40     1050  \n",
       "2             5.68  1.03                          3.17     1185  \n",
       "3             7.80  0.86                          3.45     1480  \n",
       "4             4.32  1.04                          2.93      735  "
      ]
     },
     "execution_count": 331,
     "metadata": {},
     "output_type": "execute_result"
    }
   ],
   "source": [
    "# import data and modules\n",
    "import plotly.express as px\n",
    "import numpy as np\n",
    "import pandas as pd\n",
    "\n",
    "# data source https://archive.ics.uci.edu/ml/datasets/Wine\n",
    "df = pd.read_csv('https://raw.githubusercontent.com/ZacksAmber/Code/master/Python/DataCamp/Python/Machine%20Learning/Unsupervised%20Learning%20in%20Python/wine.data', sep = \",\", header = None) # df is the original dataset, don't modify it!\n",
    "# rename the columns\n",
    "df.columns = ['Classification', \n",
    "                'Alcohol', \n",
    "                'Malic acid', \n",
    "                'Ash', \n",
    "                'Alcalinity of ash', \n",
    "                'Magnesium', \n",
    "                'Total phenols', \n",
    "                'Flavanoids', \n",
    "                'Nonflavanoid phenols', \n",
    "                'Proanthocyanins', \n",
    "                'Color intensity', \n",
    "                'Hue', \n",
    "                'OD280/OD315 of diluted wines', \n",
    "                'Proline']\n",
    "\n",
    "df.head()"
   ]
  },
  {
   "cell_type": "code",
   "execution_count": 332,
   "metadata": {},
   "outputs": [
    {
     "data": {
      "text/html": [
       "<div>\n",
       "<style scoped>\n",
       "    .dataframe tbody tr th:only-of-type {\n",
       "        vertical-align: middle;\n",
       "    }\n",
       "\n",
       "    .dataframe tbody tr th {\n",
       "        vertical-align: top;\n",
       "    }\n",
       "\n",
       "    .dataframe thead th {\n",
       "        text-align: right;\n",
       "    }\n",
       "</style>\n",
       "<table border=\"1\" class=\"dataframe\">\n",
       "  <thead>\n",
       "    <tr style=\"text-align: right;\">\n",
       "      <th></th>\n",
       "      <th>Classification</th>\n",
       "      <th>Alcohol</th>\n",
       "      <th>Malic acid</th>\n",
       "      <th>Ash</th>\n",
       "      <th>Alcalinity of ash</th>\n",
       "      <th>Magnesium</th>\n",
       "      <th>Total phenols</th>\n",
       "      <th>Flavanoids</th>\n",
       "      <th>Nonflavanoid phenols</th>\n",
       "      <th>Proanthocyanins</th>\n",
       "      <th>Color intensity</th>\n",
       "      <th>Hue</th>\n",
       "      <th>OD280/OD315 of diluted wines</th>\n",
       "      <th>Proline</th>\n",
       "    </tr>\n",
       "  </thead>\n",
       "  <tbody>\n",
       "    <tr>\n",
       "      <th>0</th>\n",
       "      <td>Barolo</td>\n",
       "      <td>14.23</td>\n",
       "      <td>1.71</td>\n",
       "      <td>2.43</td>\n",
       "      <td>15.6</td>\n",
       "      <td>127</td>\n",
       "      <td>2.80</td>\n",
       "      <td>3.06</td>\n",
       "      <td>0.28</td>\n",
       "      <td>2.29</td>\n",
       "      <td>5.64</td>\n",
       "      <td>1.04</td>\n",
       "      <td>3.92</td>\n",
       "      <td>1065</td>\n",
       "    </tr>\n",
       "    <tr>\n",
       "      <th>1</th>\n",
       "      <td>Barolo</td>\n",
       "      <td>13.20</td>\n",
       "      <td>1.78</td>\n",
       "      <td>2.14</td>\n",
       "      <td>11.2</td>\n",
       "      <td>100</td>\n",
       "      <td>2.65</td>\n",
       "      <td>2.76</td>\n",
       "      <td>0.26</td>\n",
       "      <td>1.28</td>\n",
       "      <td>4.38</td>\n",
       "      <td>1.05</td>\n",
       "      <td>3.40</td>\n",
       "      <td>1050</td>\n",
       "    </tr>\n",
       "    <tr>\n",
       "      <th>2</th>\n",
       "      <td>Barolo</td>\n",
       "      <td>13.16</td>\n",
       "      <td>2.36</td>\n",
       "      <td>2.67</td>\n",
       "      <td>18.6</td>\n",
       "      <td>101</td>\n",
       "      <td>2.80</td>\n",
       "      <td>3.24</td>\n",
       "      <td>0.30</td>\n",
       "      <td>2.81</td>\n",
       "      <td>5.68</td>\n",
       "      <td>1.03</td>\n",
       "      <td>3.17</td>\n",
       "      <td>1185</td>\n",
       "    </tr>\n",
       "    <tr>\n",
       "      <th>3</th>\n",
       "      <td>Barolo</td>\n",
       "      <td>14.37</td>\n",
       "      <td>1.95</td>\n",
       "      <td>2.50</td>\n",
       "      <td>16.8</td>\n",
       "      <td>113</td>\n",
       "      <td>3.85</td>\n",
       "      <td>3.49</td>\n",
       "      <td>0.24</td>\n",
       "      <td>2.18</td>\n",
       "      <td>7.80</td>\n",
       "      <td>0.86</td>\n",
       "      <td>3.45</td>\n",
       "      <td>1480</td>\n",
       "    </tr>\n",
       "    <tr>\n",
       "      <th>4</th>\n",
       "      <td>Barolo</td>\n",
       "      <td>13.24</td>\n",
       "      <td>2.59</td>\n",
       "      <td>2.87</td>\n",
       "      <td>21.0</td>\n",
       "      <td>118</td>\n",
       "      <td>2.80</td>\n",
       "      <td>2.69</td>\n",
       "      <td>0.39</td>\n",
       "      <td>1.82</td>\n",
       "      <td>4.32</td>\n",
       "      <td>1.04</td>\n",
       "      <td>2.93</td>\n",
       "      <td>735</td>\n",
       "    </tr>\n",
       "  </tbody>\n",
       "</table>\n",
       "</div>"
      ],
      "text/plain": [
       "  Classification  Alcohol  Malic acid   Ash  Alcalinity of ash  Magnesium  \\\n",
       "0         Barolo    14.23        1.71  2.43               15.6        127   \n",
       "1         Barolo    13.20        1.78  2.14               11.2        100   \n",
       "2         Barolo    13.16        2.36  2.67               18.6        101   \n",
       "3         Barolo    14.37        1.95  2.50               16.8        113   \n",
       "4         Barolo    13.24        2.59  2.87               21.0        118   \n",
       "\n",
       "   Total phenols  Flavanoids  Nonflavanoid phenols  Proanthocyanins  \\\n",
       "0           2.80        3.06                  0.28             2.29   \n",
       "1           2.65        2.76                  0.26             1.28   \n",
       "2           2.80        3.24                  0.30             2.81   \n",
       "3           3.85        3.49                  0.24             2.18   \n",
       "4           2.80        2.69                  0.39             1.82   \n",
       "\n",
       "   Color intensity   Hue  OD280/OD315 of diluted wines  Proline  \n",
       "0             5.64  1.04                          3.92     1065  \n",
       "1             4.38  1.05                          3.40     1050  \n",
       "2             5.68  1.03                          3.17     1185  \n",
       "3             7.80  0.86                          3.45     1480  \n",
       "4             4.32  1.04                          2.93      735  "
      ]
     },
     "execution_count": 332,
     "metadata": {},
     "output_type": "execute_result"
    }
   ],
   "source": [
    "# Replace the Classification value from number to wine name\n",
    "df2 = df.copy()\n",
    "df2['Classification'].replace([1, 2, 3], ['Barolo', 'Grignolino', 'Barbera'], inplace = True)\n",
    "df2.head()"
   ]
  },
  {
   "cell_type": "code",
   "execution_count": 333,
   "metadata": {},
   "outputs": [],
   "source": [
    "# k-means clustering without standardization\n",
    "from sklearn.cluster import KMeans\n",
    "\n",
    "model = KMeans(n_clusters = 3) # Define the number of clusters\n",
    "labels = model.fit_predict(df2.iloc[:, 1:14]) # skip the Classification"
   ]
  },
  {
   "cell_type": "code",
   "execution_count": 334,
   "metadata": {},
   "outputs": [
    {
     "name": "stdout",
     "output_type": "stream",
     "text": [
      "[0 0 0 0 1 0 0 0 0 0 0 0 0 0 0 0 0 0 0 1 1 1 0 0 1 1 0 0 1 0 0 0 0 0 0 1 1\n",
      " 0 0 1 1 0 0 1 1 0 0 0 0 0 0 0 0 0 0 0 0 0 0 2 1 2 1 2 2 1 2 2 1 1 1 2 2 0\n",
      " 1 2 2 2 1 2 2 1 1 2 2 2 2 2 1 1 2 2 2 2 2 1 1 2 1 2 1 2 2 2 1 2 2 2 2 1 2\n",
      " 2 1 2 2 2 2 2 2 2 1 2 2 2 2 2 2 2 2 2 1 2 2 1 1 1 1 2 2 2 1 1 2 2 1 1 2 1\n",
      " 1 2 2 2 2 1 1 1 2 1 1 1 2 1 2 1 1 2 1 1 1 1 2 2 1 1 1 1 1 2]\n"
     ]
    }
   ],
   "source": [
    "print(labels)"
   ]
  },
  {
   "cell_type": "code",
   "execution_count": 335,
   "metadata": {},
   "outputs": [
    {
     "name": "stdout",
     "output_type": "stream",
     "text": [
      "varieties  Barbera  Barolo  Grignolino\n",
      "labels                                \n",
      "0                0      46           1\n",
      "1               29      13          20\n",
      "2               19       0          50\n"
     ]
    }
   ],
   "source": [
    "df3 = pd.DataFrame({'labels': labels, 'varieties': df2['Classification']})\n",
    "\n",
    "ct = pd.crosstab(df3['labels'], df3['varieties'])\n",
    "print(ct)"
   ]
  },
  {
   "cell_type": "code",
   "execution_count": 336,
   "metadata": {},
   "outputs": [
    {
     "data": {
      "text/html": [
       "<div>\n",
       "<style scoped>\n",
       "    .dataframe tbody tr th:only-of-type {\n",
       "        vertical-align: middle;\n",
       "    }\n",
       "\n",
       "    .dataframe tbody tr th {\n",
       "        vertical-align: top;\n",
       "    }\n",
       "\n",
       "    .dataframe thead th {\n",
       "        text-align: right;\n",
       "    }\n",
       "</style>\n",
       "<table border=\"1\" class=\"dataframe\">\n",
       "  <thead>\n",
       "    <tr style=\"text-align: right;\">\n",
       "      <th></th>\n",
       "      <th>Alcohol</th>\n",
       "      <th>Malic acid</th>\n",
       "      <th>Ash</th>\n",
       "      <th>Alcalinity of ash</th>\n",
       "      <th>Magnesium</th>\n",
       "      <th>Total phenols</th>\n",
       "      <th>Flavanoids</th>\n",
       "      <th>Nonflavanoid phenols</th>\n",
       "      <th>Proanthocyanins</th>\n",
       "      <th>Color intensity</th>\n",
       "      <th>Hue</th>\n",
       "      <th>OD280/OD315 of diluted wines</th>\n",
       "      <th>Proline</th>\n",
       "    </tr>\n",
       "  </thead>\n",
       "  <tbody>\n",
       "    <tr>\n",
       "      <th>count</th>\n",
       "      <td>178.000000</td>\n",
       "      <td>178.000000</td>\n",
       "      <td>178.000000</td>\n",
       "      <td>178.000000</td>\n",
       "      <td>178.000000</td>\n",
       "      <td>178.000000</td>\n",
       "      <td>178.000000</td>\n",
       "      <td>178.000000</td>\n",
       "      <td>178.000000</td>\n",
       "      <td>178.000000</td>\n",
       "      <td>178.000000</td>\n",
       "      <td>178.000000</td>\n",
       "      <td>178.000000</td>\n",
       "    </tr>\n",
       "    <tr>\n",
       "      <th>mean</th>\n",
       "      <td>13.000618</td>\n",
       "      <td>2.336348</td>\n",
       "      <td>2.366517</td>\n",
       "      <td>19.494944</td>\n",
       "      <td>99.741573</td>\n",
       "      <td>2.295112</td>\n",
       "      <td>2.029270</td>\n",
       "      <td>0.361854</td>\n",
       "      <td>1.590899</td>\n",
       "      <td>5.058090</td>\n",
       "      <td>0.957449</td>\n",
       "      <td>2.611685</td>\n",
       "      <td>746.893258</td>\n",
       "    </tr>\n",
       "    <tr>\n",
       "      <th>std</th>\n",
       "      <td>0.811827</td>\n",
       "      <td>1.117146</td>\n",
       "      <td>0.274344</td>\n",
       "      <td>3.339564</td>\n",
       "      <td>14.282484</td>\n",
       "      <td>0.625851</td>\n",
       "      <td>0.998859</td>\n",
       "      <td>0.124453</td>\n",
       "      <td>0.572359</td>\n",
       "      <td>2.318286</td>\n",
       "      <td>0.228572</td>\n",
       "      <td>0.709990</td>\n",
       "      <td>314.907474</td>\n",
       "    </tr>\n",
       "    <tr>\n",
       "      <th>min</th>\n",
       "      <td>11.030000</td>\n",
       "      <td>0.740000</td>\n",
       "      <td>1.360000</td>\n",
       "      <td>10.600000</td>\n",
       "      <td>70.000000</td>\n",
       "      <td>0.980000</td>\n",
       "      <td>0.340000</td>\n",
       "      <td>0.130000</td>\n",
       "      <td>0.410000</td>\n",
       "      <td>1.280000</td>\n",
       "      <td>0.480000</td>\n",
       "      <td>1.270000</td>\n",
       "      <td>278.000000</td>\n",
       "    </tr>\n",
       "    <tr>\n",
       "      <th>25%</th>\n",
       "      <td>12.362500</td>\n",
       "      <td>1.602500</td>\n",
       "      <td>2.210000</td>\n",
       "      <td>17.200000</td>\n",
       "      <td>88.000000</td>\n",
       "      <td>1.742500</td>\n",
       "      <td>1.205000</td>\n",
       "      <td>0.270000</td>\n",
       "      <td>1.250000</td>\n",
       "      <td>3.220000</td>\n",
       "      <td>0.782500</td>\n",
       "      <td>1.937500</td>\n",
       "      <td>500.500000</td>\n",
       "    </tr>\n",
       "    <tr>\n",
       "      <th>50%</th>\n",
       "      <td>13.050000</td>\n",
       "      <td>1.865000</td>\n",
       "      <td>2.360000</td>\n",
       "      <td>19.500000</td>\n",
       "      <td>98.000000</td>\n",
       "      <td>2.355000</td>\n",
       "      <td>2.135000</td>\n",
       "      <td>0.340000</td>\n",
       "      <td>1.555000</td>\n",
       "      <td>4.690000</td>\n",
       "      <td>0.965000</td>\n",
       "      <td>2.780000</td>\n",
       "      <td>673.500000</td>\n",
       "    </tr>\n",
       "    <tr>\n",
       "      <th>75%</th>\n",
       "      <td>13.677500</td>\n",
       "      <td>3.082500</td>\n",
       "      <td>2.557500</td>\n",
       "      <td>21.500000</td>\n",
       "      <td>107.000000</td>\n",
       "      <td>2.800000</td>\n",
       "      <td>2.875000</td>\n",
       "      <td>0.437500</td>\n",
       "      <td>1.950000</td>\n",
       "      <td>6.200000</td>\n",
       "      <td>1.120000</td>\n",
       "      <td>3.170000</td>\n",
       "      <td>985.000000</td>\n",
       "    </tr>\n",
       "    <tr>\n",
       "      <th>max</th>\n",
       "      <td>14.830000</td>\n",
       "      <td>5.800000</td>\n",
       "      <td>3.230000</td>\n",
       "      <td>30.000000</td>\n",
       "      <td>162.000000</td>\n",
       "      <td>3.880000</td>\n",
       "      <td>5.080000</td>\n",
       "      <td>0.660000</td>\n",
       "      <td>3.580000</td>\n",
       "      <td>13.000000</td>\n",
       "      <td>1.710000</td>\n",
       "      <td>4.000000</td>\n",
       "      <td>1680.000000</td>\n",
       "    </tr>\n",
       "  </tbody>\n",
       "</table>\n",
       "</div>"
      ],
      "text/plain": [
       "          Alcohol  Malic acid         Ash  Alcalinity of ash   Magnesium  \\\n",
       "count  178.000000  178.000000  178.000000         178.000000  178.000000   \n",
       "mean    13.000618    2.336348    2.366517          19.494944   99.741573   \n",
       "std      0.811827    1.117146    0.274344           3.339564   14.282484   \n",
       "min     11.030000    0.740000    1.360000          10.600000   70.000000   \n",
       "25%     12.362500    1.602500    2.210000          17.200000   88.000000   \n",
       "50%     13.050000    1.865000    2.360000          19.500000   98.000000   \n",
       "75%     13.677500    3.082500    2.557500          21.500000  107.000000   \n",
       "max     14.830000    5.800000    3.230000          30.000000  162.000000   \n",
       "\n",
       "       Total phenols  Flavanoids  Nonflavanoid phenols  Proanthocyanins  \\\n",
       "count     178.000000  178.000000            178.000000       178.000000   \n",
       "mean        2.295112    2.029270              0.361854         1.590899   \n",
       "std         0.625851    0.998859              0.124453         0.572359   \n",
       "min         0.980000    0.340000              0.130000         0.410000   \n",
       "25%         1.742500    1.205000              0.270000         1.250000   \n",
       "50%         2.355000    2.135000              0.340000         1.555000   \n",
       "75%         2.800000    2.875000              0.437500         1.950000   \n",
       "max         3.880000    5.080000              0.660000         3.580000   \n",
       "\n",
       "       Color intensity         Hue  OD280/OD315 of diluted wines      Proline  \n",
       "count       178.000000  178.000000                    178.000000   178.000000  \n",
       "mean          5.058090    0.957449                      2.611685   746.893258  \n",
       "std           2.318286    0.228572                      0.709990   314.907474  \n",
       "min           1.280000    0.480000                      1.270000   278.000000  \n",
       "25%           3.220000    0.782500                      1.937500   500.500000  \n",
       "50%           4.690000    0.965000                      2.780000   673.500000  \n",
       "75%           6.200000    1.120000                      3.170000   985.000000  \n",
       "max          13.000000    1.710000                      4.000000  1680.000000  "
      ]
     },
     "execution_count": 336,
     "metadata": {},
     "output_type": "execute_result"
    }
   ],
   "source": [
    "# descriptive analytics\n",
    "df2.iloc[:, 1:14].describe()"
   ]
  },
  {
   "cell_type": "code",
   "execution_count": 337,
   "metadata": {},
   "outputs": [
    {
     "data": {
      "text/plain": [
       "Alcohol                             0.659062\n",
       "Malic acid                          1.248015\n",
       "Ash                                 0.075265\n",
       "Alcalinity of ash                  11.152686\n",
       "Magnesium                         203.989335\n",
       "Total phenols                       0.391690\n",
       "Flavanoids                          0.997719\n",
       "Nonflavanoid phenols                0.015489\n",
       "Proanthocyanins                     0.327595\n",
       "Color intensity                     5.374449\n",
       "Hue                                 0.052245\n",
       "OD280/OD315 of diluted wines        0.504086\n",
       "Proline                         99166.717355\n",
       "dtype: float64"
      ]
     },
     "execution_count": 337,
     "metadata": {},
     "output_type": "execute_result"
    }
   ],
   "source": [
    "# descriptive analytics\n",
    "df2.iloc[:, 1:14].var()"
   ]
  },
  {
   "cell_type": "code",
   "execution_count": 338,
   "metadata": {},
   "outputs": [
    {
     "data": {
      "application/vnd.plotly.v1+json": {
       "config": {
        "plotlyServerURL": "https://plot.ly"
       },
       "data": [
        {
         "hoverlabel": {
          "namelength": 0
         },
         "hovertemplate": "Classification=Barolo<br>OD280/OD315 of diluted wines=%{x}<br>Proline=%{y}",
         "legendgroup": "Barolo",
         "marker": {
          "color": "#636efa",
          "symbol": "circle"
         },
         "mode": "markers",
         "name": "Barolo",
         "showlegend": true,
         "type": "scatter",
         "x": [
          3.92,
          3.4,
          3.17,
          3.45,
          2.93,
          2.85,
          3.58,
          3.58,
          2.85,
          3.55,
          3.17,
          2.82,
          2.9,
          2.73,
          3,
          2.88,
          2.65,
          2.57,
          2.82,
          3.36,
          3.71,
          3.52,
          4,
          3.63,
          3.82,
          3.2,
          3.22,
          2.77,
          3.4,
          3.59,
          2.71,
          2.88,
          2.87,
          3,
          2.87,
          3.47,
          2.78,
          2.51,
          2.69,
          3.53,
          3.38,
          3,
          3.56,
          3,
          3.35,
          3.33,
          3.44,
          3.33,
          2.75,
          3.1,
          2.91,
          3.37,
          3.26,
          2.93,
          3.2,
          3.03,
          3.31,
          2.84,
          2.87
         ],
         "xaxis": "x",
         "y": [
          1065,
          1050,
          1185,
          1480,
          735,
          1450,
          1290,
          1295,
          1045,
          1045,
          1510,
          1280,
          1320,
          1150,
          1547,
          1310,
          1280,
          1130,
          1680,
          845,
          780,
          770,
          1035,
          1015,
          845,
          830,
          1195,
          1285,
          915,
          1035,
          1285,
          1515,
          990,
          1235,
          1095,
          920,
          880,
          1105,
          1020,
          760,
          795,
          1035,
          1095,
          680,
          885,
          1080,
          1065,
          985,
          1060,
          1260,
          1150,
          1265,
          1190,
          1375,
          1060,
          1120,
          970,
          1270,
          1285
         ],
         "yaxis": "y"
        },
        {
         "hoverlabel": {
          "namelength": 0
         },
         "hovertemplate": "Classification=Grignolino<br>OD280/OD315 of diluted wines=%{x}<br>Proline=%{y}",
         "legendgroup": "Grignolino",
         "marker": {
          "color": "#EF553B",
          "symbol": "circle"
         },
         "mode": "markers",
         "name": "Grignolino",
         "showlegend": true,
         "type": "scatter",
         "x": [
          1.82,
          1.67,
          1.59,
          2.46,
          2.87,
          2.23,
          2.3,
          3.18,
          3.48,
          1.93,
          3.07,
          1.82,
          3.16,
          2.78,
          3.5,
          3.13,
          2.14,
          2.48,
          2.52,
          2.31,
          3.13,
          3.12,
          3.14,
          2.72,
          2.01,
          3.08,
          3.16,
          2.26,
          3.21,
          2.75,
          3.21,
          2.27,
          2.65,
          2.06,
          3.3,
          2.96,
          2.63,
          2.26,
          2.74,
          2.77,
          2.83,
          2.96,
          2.77,
          3.38,
          2.44,
          3.57,
          3.3,
          3.17,
          2.42,
          3.02,
          3.26,
          2.81,
          2.78,
          2.5,
          2.31,
          3.19,
          2.87,
          3.33,
          2.96,
          2.12,
          3.05,
          3.39,
          3.69,
          3.12,
          3.1,
          3.64,
          3.28,
          2.84,
          2.44,
          2.78,
          2.57
         ],
         "xaxis": "x",
         "y": [
          520,
          680,
          450,
          630,
          420,
          355,
          678,
          502,
          510,
          750,
          718,
          870,
          410,
          472,
          985,
          886,
          428,
          392,
          500,
          750,
          463,
          278,
          714,
          630,
          515,
          520,
          450,
          495,
          562,
          680,
          625,
          480,
          450,
          495,
          290,
          345,
          937,
          625,
          428,
          660,
          406,
          710,
          562,
          438,
          415,
          672,
          315,
          510,
          488,
          312,
          680,
          562,
          325,
          607,
          434,
          385,
          407,
          495,
          345,
          372,
          564,
          625,
          465,
          365,
          380,
          380,
          378,
          352,
          466,
          342,
          580
         ],
         "yaxis": "y"
        },
        {
         "hoverlabel": {
          "namelength": 0
         },
         "hovertemplate": "Classification=Barbera<br>OD280/OD315 of diluted wines=%{x}<br>Proline=%{y}",
         "legendgroup": "Barbera",
         "marker": {
          "color": "#00cc96",
          "symbol": "circle"
         },
         "mode": "markers",
         "name": "Barbera",
         "showlegend": true,
         "type": "scatter",
         "x": [
          1.29,
          1.42,
          1.36,
          1.29,
          1.51,
          1.58,
          1.27,
          1.69,
          1.82,
          2.15,
          2.31,
          2.47,
          2.06,
          2.05,
          2,
          1.68,
          1.33,
          1.86,
          1.62,
          1.33,
          1.3,
          1.47,
          1.33,
          1.51,
          1.55,
          1.48,
          1.64,
          1.73,
          1.96,
          1.78,
          1.58,
          1.82,
          2.11,
          1.75,
          1.68,
          1.75,
          1.56,
          1.75,
          1.8,
          1.92,
          1.83,
          1.63,
          1.71,
          1.74,
          1.56,
          1.56,
          1.62,
          1.6
         ],
         "xaxis": "x",
         "y": [
          630,
          530,
          560,
          600,
          650,
          695,
          720,
          515,
          580,
          590,
          600,
          780,
          520,
          550,
          855,
          830,
          415,
          625,
          650,
          550,
          500,
          480,
          425,
          675,
          640,
          725,
          480,
          880,
          660,
          620,
          520,
          680,
          570,
          675,
          615,
          520,
          695,
          685,
          750,
          630,
          510,
          470,
          660,
          740,
          750,
          835,
          840,
          560
         ],
         "yaxis": "y"
        }
       ],
       "layout": {
        "autosize": true,
        "legend": {
         "title": {
          "text": "Classification"
         },
         "tracegroupgap": 0
        },
        "margin": {
         "t": 60
        },
        "template": {
         "data": {
          "bar": [
           {
            "error_x": {
             "color": "#2a3f5f"
            },
            "error_y": {
             "color": "#2a3f5f"
            },
            "marker": {
             "line": {
              "color": "#E5ECF6",
              "width": 0.5
             }
            },
            "type": "bar"
           }
          ],
          "barpolar": [
           {
            "marker": {
             "line": {
              "color": "#E5ECF6",
              "width": 0.5
             }
            },
            "type": "barpolar"
           }
          ],
          "carpet": [
           {
            "aaxis": {
             "endlinecolor": "#2a3f5f",
             "gridcolor": "white",
             "linecolor": "white",
             "minorgridcolor": "white",
             "startlinecolor": "#2a3f5f"
            },
            "baxis": {
             "endlinecolor": "#2a3f5f",
             "gridcolor": "white",
             "linecolor": "white",
             "minorgridcolor": "white",
             "startlinecolor": "#2a3f5f"
            },
            "type": "carpet"
           }
          ],
          "choropleth": [
           {
            "colorbar": {
             "outlinewidth": 0,
             "ticks": ""
            },
            "type": "choropleth"
           }
          ],
          "contour": [
           {
            "colorbar": {
             "outlinewidth": 0,
             "ticks": ""
            },
            "colorscale": [
             [
              0,
              "#0d0887"
             ],
             [
              0.1111111111111111,
              "#46039f"
             ],
             [
              0.2222222222222222,
              "#7201a8"
             ],
             [
              0.3333333333333333,
              "#9c179e"
             ],
             [
              0.4444444444444444,
              "#bd3786"
             ],
             [
              0.5555555555555556,
              "#d8576b"
             ],
             [
              0.6666666666666666,
              "#ed7953"
             ],
             [
              0.7777777777777778,
              "#fb9f3a"
             ],
             [
              0.8888888888888888,
              "#fdca26"
             ],
             [
              1,
              "#f0f921"
             ]
            ],
            "type": "contour"
           }
          ],
          "contourcarpet": [
           {
            "colorbar": {
             "outlinewidth": 0,
             "ticks": ""
            },
            "type": "contourcarpet"
           }
          ],
          "heatmap": [
           {
            "colorbar": {
             "outlinewidth": 0,
             "ticks": ""
            },
            "colorscale": [
             [
              0,
              "#0d0887"
             ],
             [
              0.1111111111111111,
              "#46039f"
             ],
             [
              0.2222222222222222,
              "#7201a8"
             ],
             [
              0.3333333333333333,
              "#9c179e"
             ],
             [
              0.4444444444444444,
              "#bd3786"
             ],
             [
              0.5555555555555556,
              "#d8576b"
             ],
             [
              0.6666666666666666,
              "#ed7953"
             ],
             [
              0.7777777777777778,
              "#fb9f3a"
             ],
             [
              0.8888888888888888,
              "#fdca26"
             ],
             [
              1,
              "#f0f921"
             ]
            ],
            "type": "heatmap"
           }
          ],
          "heatmapgl": [
           {
            "colorbar": {
             "outlinewidth": 0,
             "ticks": ""
            },
            "colorscale": [
             [
              0,
              "#0d0887"
             ],
             [
              0.1111111111111111,
              "#46039f"
             ],
             [
              0.2222222222222222,
              "#7201a8"
             ],
             [
              0.3333333333333333,
              "#9c179e"
             ],
             [
              0.4444444444444444,
              "#bd3786"
             ],
             [
              0.5555555555555556,
              "#d8576b"
             ],
             [
              0.6666666666666666,
              "#ed7953"
             ],
             [
              0.7777777777777778,
              "#fb9f3a"
             ],
             [
              0.8888888888888888,
              "#fdca26"
             ],
             [
              1,
              "#f0f921"
             ]
            ],
            "type": "heatmapgl"
           }
          ],
          "histogram": [
           {
            "marker": {
             "colorbar": {
              "outlinewidth": 0,
              "ticks": ""
             }
            },
            "type": "histogram"
           }
          ],
          "histogram2d": [
           {
            "colorbar": {
             "outlinewidth": 0,
             "ticks": ""
            },
            "colorscale": [
             [
              0,
              "#0d0887"
             ],
             [
              0.1111111111111111,
              "#46039f"
             ],
             [
              0.2222222222222222,
              "#7201a8"
             ],
             [
              0.3333333333333333,
              "#9c179e"
             ],
             [
              0.4444444444444444,
              "#bd3786"
             ],
             [
              0.5555555555555556,
              "#d8576b"
             ],
             [
              0.6666666666666666,
              "#ed7953"
             ],
             [
              0.7777777777777778,
              "#fb9f3a"
             ],
             [
              0.8888888888888888,
              "#fdca26"
             ],
             [
              1,
              "#f0f921"
             ]
            ],
            "type": "histogram2d"
           }
          ],
          "histogram2dcontour": [
           {
            "colorbar": {
             "outlinewidth": 0,
             "ticks": ""
            },
            "colorscale": [
             [
              0,
              "#0d0887"
             ],
             [
              0.1111111111111111,
              "#46039f"
             ],
             [
              0.2222222222222222,
              "#7201a8"
             ],
             [
              0.3333333333333333,
              "#9c179e"
             ],
             [
              0.4444444444444444,
              "#bd3786"
             ],
             [
              0.5555555555555556,
              "#d8576b"
             ],
             [
              0.6666666666666666,
              "#ed7953"
             ],
             [
              0.7777777777777778,
              "#fb9f3a"
             ],
             [
              0.8888888888888888,
              "#fdca26"
             ],
             [
              1,
              "#f0f921"
             ]
            ],
            "type": "histogram2dcontour"
           }
          ],
          "mesh3d": [
           {
            "colorbar": {
             "outlinewidth": 0,
             "ticks": ""
            },
            "type": "mesh3d"
           }
          ],
          "parcoords": [
           {
            "line": {
             "colorbar": {
              "outlinewidth": 0,
              "ticks": ""
             }
            },
            "type": "parcoords"
           }
          ],
          "pie": [
           {
            "automargin": true,
            "type": "pie"
           }
          ],
          "scatter": [
           {
            "marker": {
             "colorbar": {
              "outlinewidth": 0,
              "ticks": ""
             }
            },
            "type": "scatter"
           }
          ],
          "scatter3d": [
           {
            "line": {
             "colorbar": {
              "outlinewidth": 0,
              "ticks": ""
             }
            },
            "marker": {
             "colorbar": {
              "outlinewidth": 0,
              "ticks": ""
             }
            },
            "type": "scatter3d"
           }
          ],
          "scattercarpet": [
           {
            "marker": {
             "colorbar": {
              "outlinewidth": 0,
              "ticks": ""
             }
            },
            "type": "scattercarpet"
           }
          ],
          "scattergeo": [
           {
            "marker": {
             "colorbar": {
              "outlinewidth": 0,
              "ticks": ""
             }
            },
            "type": "scattergeo"
           }
          ],
          "scattergl": [
           {
            "marker": {
             "colorbar": {
              "outlinewidth": 0,
              "ticks": ""
             }
            },
            "type": "scattergl"
           }
          ],
          "scattermapbox": [
           {
            "marker": {
             "colorbar": {
              "outlinewidth": 0,
              "ticks": ""
             }
            },
            "type": "scattermapbox"
           }
          ],
          "scatterpolar": [
           {
            "marker": {
             "colorbar": {
              "outlinewidth": 0,
              "ticks": ""
             }
            },
            "type": "scatterpolar"
           }
          ],
          "scatterpolargl": [
           {
            "marker": {
             "colorbar": {
              "outlinewidth": 0,
              "ticks": ""
             }
            },
            "type": "scatterpolargl"
           }
          ],
          "scatterternary": [
           {
            "marker": {
             "colorbar": {
              "outlinewidth": 0,
              "ticks": ""
             }
            },
            "type": "scatterternary"
           }
          ],
          "surface": [
           {
            "colorbar": {
             "outlinewidth": 0,
             "ticks": ""
            },
            "colorscale": [
             [
              0,
              "#0d0887"
             ],
             [
              0.1111111111111111,
              "#46039f"
             ],
             [
              0.2222222222222222,
              "#7201a8"
             ],
             [
              0.3333333333333333,
              "#9c179e"
             ],
             [
              0.4444444444444444,
              "#bd3786"
             ],
             [
              0.5555555555555556,
              "#d8576b"
             ],
             [
              0.6666666666666666,
              "#ed7953"
             ],
             [
              0.7777777777777778,
              "#fb9f3a"
             ],
             [
              0.8888888888888888,
              "#fdca26"
             ],
             [
              1,
              "#f0f921"
             ]
            ],
            "type": "surface"
           }
          ],
          "table": [
           {
            "cells": {
             "fill": {
              "color": "#EBF0F8"
             },
             "line": {
              "color": "white"
             }
            },
            "header": {
             "fill": {
              "color": "#C8D4E3"
             },
             "line": {
              "color": "white"
             }
            },
            "type": "table"
           }
          ]
         },
         "layout": {
          "annotationdefaults": {
           "arrowcolor": "#2a3f5f",
           "arrowhead": 0,
           "arrowwidth": 1
          },
          "coloraxis": {
           "colorbar": {
            "outlinewidth": 0,
            "ticks": ""
           }
          },
          "colorscale": {
           "diverging": [
            [
             0,
             "#8e0152"
            ],
            [
             0.1,
             "#c51b7d"
            ],
            [
             0.2,
             "#de77ae"
            ],
            [
             0.3,
             "#f1b6da"
            ],
            [
             0.4,
             "#fde0ef"
            ],
            [
             0.5,
             "#f7f7f7"
            ],
            [
             0.6,
             "#e6f5d0"
            ],
            [
             0.7,
             "#b8e186"
            ],
            [
             0.8,
             "#7fbc41"
            ],
            [
             0.9,
             "#4d9221"
            ],
            [
             1,
             "#276419"
            ]
           ],
           "sequential": [
            [
             0,
             "#0d0887"
            ],
            [
             0.1111111111111111,
             "#46039f"
            ],
            [
             0.2222222222222222,
             "#7201a8"
            ],
            [
             0.3333333333333333,
             "#9c179e"
            ],
            [
             0.4444444444444444,
             "#bd3786"
            ],
            [
             0.5555555555555556,
             "#d8576b"
            ],
            [
             0.6666666666666666,
             "#ed7953"
            ],
            [
             0.7777777777777778,
             "#fb9f3a"
            ],
            [
             0.8888888888888888,
             "#fdca26"
            ],
            [
             1,
             "#f0f921"
            ]
           ],
           "sequentialminus": [
            [
             0,
             "#0d0887"
            ],
            [
             0.1111111111111111,
             "#46039f"
            ],
            [
             0.2222222222222222,
             "#7201a8"
            ],
            [
             0.3333333333333333,
             "#9c179e"
            ],
            [
             0.4444444444444444,
             "#bd3786"
            ],
            [
             0.5555555555555556,
             "#d8576b"
            ],
            [
             0.6666666666666666,
             "#ed7953"
            ],
            [
             0.7777777777777778,
             "#fb9f3a"
            ],
            [
             0.8888888888888888,
             "#fdca26"
            ],
            [
             1,
             "#f0f921"
            ]
           ]
          },
          "colorway": [
           "#636efa",
           "#EF553B",
           "#00cc96",
           "#ab63fa",
           "#FFA15A",
           "#19d3f3",
           "#FF6692",
           "#B6E880",
           "#FF97FF",
           "#FECB52"
          ],
          "font": {
           "color": "#2a3f5f"
          },
          "geo": {
           "bgcolor": "white",
           "lakecolor": "white",
           "landcolor": "#E5ECF6",
           "showlakes": true,
           "showland": true,
           "subunitcolor": "white"
          },
          "hoverlabel": {
           "align": "left"
          },
          "hovermode": "closest",
          "mapbox": {
           "style": "light"
          },
          "paper_bgcolor": "white",
          "plot_bgcolor": "#E5ECF6",
          "polar": {
           "angularaxis": {
            "gridcolor": "white",
            "linecolor": "white",
            "ticks": ""
           },
           "bgcolor": "#E5ECF6",
           "radialaxis": {
            "gridcolor": "white",
            "linecolor": "white",
            "ticks": ""
           }
          },
          "scene": {
           "xaxis": {
            "backgroundcolor": "#E5ECF6",
            "gridcolor": "white",
            "gridwidth": 2,
            "linecolor": "white",
            "showbackground": true,
            "ticks": "",
            "zerolinecolor": "white"
           },
           "yaxis": {
            "backgroundcolor": "#E5ECF6",
            "gridcolor": "white",
            "gridwidth": 2,
            "linecolor": "white",
            "showbackground": true,
            "ticks": "",
            "zerolinecolor": "white"
           },
           "zaxis": {
            "backgroundcolor": "#E5ECF6",
            "gridcolor": "white",
            "gridwidth": 2,
            "linecolor": "white",
            "showbackground": true,
            "ticks": "",
            "zerolinecolor": "white"
           }
          },
          "shapedefaults": {
           "line": {
            "color": "#2a3f5f"
           }
          },
          "ternary": {
           "aaxis": {
            "gridcolor": "white",
            "linecolor": "white",
            "ticks": ""
           },
           "baxis": {
            "gridcolor": "white",
            "linecolor": "white",
            "ticks": ""
           },
           "bgcolor": "#E5ECF6",
           "caxis": {
            "gridcolor": "white",
            "linecolor": "white",
            "ticks": ""
           }
          },
          "title": {
           "x": 0.05
          },
          "xaxis": {
           "automargin": true,
           "gridcolor": "white",
           "linecolor": "white",
           "ticks": "",
           "title": {
            "standoff": 15
           },
           "zerolinecolor": "white",
           "zerolinewidth": 2
          },
          "yaxis": {
           "automargin": true,
           "gridcolor": "white",
           "linecolor": "white",
           "ticks": "",
           "title": {
            "standoff": 15
           },
           "zerolinecolor": "white",
           "zerolinewidth": 2
          }
         }
        },
        "title": {
         "text": "OD280/OD315 of diluted wines vs. Proline"
        },
        "xaxis": {
         "anchor": "y",
         "constrain": "domain",
         "domain": [
          0,
          1
         ],
         "range": [
          -1800,
          1800
         ],
         "title": {
          "text": "OD280/OD315 of diluted wines"
         },
         "type": "linear"
        },
        "yaxis": {
         "anchor": "x",
         "domain": [
          0,
          1
         ],
         "range": [
          0,
          1800
         ],
         "title": {
          "text": "Proline"
         },
         "type": "linear"
        }
       }
      },
      "image/png": "[encoded data removed]"
     },
     "metadata": {},
     "output_type": "display_data"
    }
   ],
   "source": [
    "fig = px.scatter(df2, x = 'OD280/OD315 of diluted wines', y = 'Proline', color = 'Classification',\n",
    "                 height = 800)\n",
    "\n",
    "fig.update_layout(title = 'OD280/OD315 of diluted wines vs. Proline',\n",
    "                  xaxis_title = 'OD280/OD315 of diluted wines',\n",
    "                  yaxis_title = 'Proline',\n",
    "                  xaxis = dict(\n",
    "                  range = [-1800, 1800],  # sets the range of xaxis\n",
    "                  constrain = \"domain\",  # meanwhile compresses the xaxis by decreasing its \"domain\"\n",
    "                    ),\n",
    "                  yaxis = dict(\n",
    "                  range = [0, 1800]))\n",
    "fig.show()"
   ]
  },
  {
   "cell_type": "code",
   "execution_count": 339,
   "metadata": {},
   "outputs": [],
   "source": [
    "# Standardization\n",
    "from sklearn.preprocessing import StandardScaler\n",
    "\n",
    "scaler = StandardScaler()\n",
    "scaler.fit(df)\n",
    "StandardScaler(copy = True, with_mean = True, with_std = True)\n",
    "df_scaled = scaler.transform(df)"
   ]
  },
  {
   "cell_type": "code",
   "execution_count": 340,
   "metadata": {},
   "outputs": [],
   "source": [
    "df_scaled = pd.DataFrame(df_scaled)\n",
    "\n",
    "df_scaled.columns = ['Classification', \n",
    "                'Alcohol', \n",
    "                'Malic acid', \n",
    "                'Ash', \n",
    "                'Alcalinity of ash', \n",
    "                'Magnesium', \n",
    "                'Total phenols', \n",
    "                'Flavanoids', \n",
    "                'Nonflavanoid phenols', \n",
    "                'Proanthocyanins', \n",
    "                'Color intensity', \n",
    "                'Hue', \n",
    "                'OD280/OD315 of diluted wines', \n",
    "                'Proline']"
   ]
  },
  {
   "cell_type": "code",
   "execution_count": 341,
   "metadata": {},
   "outputs": [
    {
     "data": {
      "text/plain": [
       "Classification                  1.00565\n",
       "Alcohol                         1.00565\n",
       "Malic acid                      1.00565\n",
       "Ash                             1.00565\n",
       "Alcalinity of ash               1.00565\n",
       "Magnesium                       1.00565\n",
       "Total phenols                   1.00565\n",
       "Flavanoids                      1.00565\n",
       "Nonflavanoid phenols            1.00565\n",
       "Proanthocyanins                 1.00565\n",
       "Color intensity                 1.00565\n",
       "Hue                             1.00565\n",
       "OD280/OD315 of diluted wines    1.00565\n",
       "Proline                         1.00565\n",
       "dtype: float64"
      ]
     },
     "execution_count": 341,
     "metadata": {},
     "output_type": "execute_result"
    }
   ],
   "source": [
    "df_scaled.var()"
   ]
  },
  {
   "cell_type": "code",
   "execution_count": 342,
   "metadata": {},
   "outputs": [
    {
     "data": {
      "application/vnd.plotly.v1+json": {
       "config": {
        "plotlyServerURL": "https://plot.ly"
       },
       "data": [
        {
         "hoverlabel": {
          "namelength": 0
         },
         "hovertemplate": "Classification=Barolo<br>x=%{x}<br>y=%{y}",
         "legendgroup": "Barolo",
         "marker": {
          "color": "#636efa",
          "symbol": "circle"
         },
         "mode": "markers",
         "name": "Barolo",
         "showlegend": true,
         "type": "scatter",
         "x": [
          1.8479195665066517,
          1.1134493025258219,
          0.7885874549958394,
          1.1840714432932098,
          0.44960117931237975,
          0.33660575408455967,
          1.367689009288417,
          1.367689009288417,
          0.33660575408455967,
          1.325315724827984,
          0.7885874549958394,
          0.29423246962412686,
          0.40722789485194694,
          0.16711261624282955,
          0.5484721763867221,
          0.37897903854499193,
          0.054117191015009475,
          -0.05887823421281061,
          0.29423246962412686,
          1.0569515899119117,
          1.5513065752836244,
          1.282942440367552,
          1.960914991734472,
          1.4383111500558043,
          1.7066752849718767,
          0.8309607394562722,
          0.8592095957632273,
          0.2236103288567396,
          1.1134493025258219,
          1.3818134374418942,
          0.13886375993587455,
          0.37897903854499193,
          0.36485461039151473,
          0.5484721763867221,
          0.36485461039151473,
          1.2123202996001647,
          0.2377347570102168,
          -0.14362480313367568,
          0.11061490362891951,
          1.2970668685210291,
          1.085200446218867,
          0.5484721763867221,
          1.339440152981462,
          0.5484721763867221,
          1.0428271617584346,
          1.0145783054514796,
          1.169947015139732,
          1.0145783054514796,
          0.1953614725497846,
          0.6897164579214972,
          0.42135232300542474,
          1.0710760180653895,
          0.9157073083771367,
          0.44960117931237975,
          0.8309607394562722,
          0.5908454608471543,
          0.9863294491445246,
          0.32248132593108186,
          0.36485461039151473
         ],
         "xaxis": "x",
         "y": [
          1.0130089267476907,
          0.9652415206686003,
          1.3951481753804136,
          2.3345738282691912,
          -0.03787400699229761,
          2.2390390161110103,
          1.7295200179340462,
          1.7454424866270764,
          0.9493190519755701,
          0.9493190519755701,
          2.4301086404273717,
          1.697675080547986,
          1.825054830092227,
          1.2836908945292027,
          2.5479349087557948,
          1.7932098927061668,
          1.697675080547986,
          1.2200010197570823,
          2.971472575990396,
          0.3124203042543651,
          0.10542821124497352,
          0.07358327385891326,
          0.9174741145895099,
          0.8537842398173894,
          0.3124203042543651,
          0.26465289817527476,
          1.426993112766474,
          1.713597549241016,
          0.5353348659567869,
          0.9174741145895099,
          1.713597549241016,
          2.446031109120402,
          0.7741718963522388,
          1.554372862310715,
          1.1085437389058714,
          0.551257334649817,
          0.423877585105576,
          1.1403886762919317,
          0.8697067085104195,
          0.041738336472853015,
          0.1531956173240639,
          0.9174741145895099,
          1.1085437389058714,
          -0.21302116261562898,
          0.43980005379860615,
          1.060776332826781,
          1.0130089267476907,
          0.7582494276592087,
          0.9970864580546606,
          1.6339852057758655,
          1.2836908945292027,
          1.6499076744688956,
          1.4110706440734437,
          2.000201985715558,
          0.9970864580546606,
          1.188156082371022,
          0.7104820215801183,
          1.6658301431619258,
          1.713597549241016
         ],
         "yaxis": "y"
        },
        {
         "hoverlabel": {
          "namelength": 0
         },
         "hovertemplate": "Classification=Grignolino<br>x=%{x}<br>y=%{y}",
         "legendgroup": "Grignolino",
         "marker": {
          "color": "#EF553B",
          "symbol": "circle"
         },
         "mode": "markers",
         "name": "Grignolino",
         "showlegend": true,
         "type": "scatter",
         "x": [
          -1.1182103457236228,
          -1.3300767680257852,
          -1.443072193253605,
          -0.21424694390106291,
          0.36485461039151473,
          -0.5391087914310454,
          -0.44023779435670307,
          0.8027118831493172,
          1.2264447277536419,
          -0.9628416360353703,
          0.6473431734610643,
          -1.1182103457236228,
          0.7744630268423622,
          0.2377347570102168,
          1.254693584060597,
          0.7320897423819294,
          -0.6662286448123427,
          -0.18599808759410788,
          -0.12950037498019784,
          -0.42611336620322526,
          0.7320897423819294,
          0.7179653142284521,
          0.7462141705354072,
          0.15298818808935236,
          -0.8498462108075506,
          0.6614676016145421,
          0.7744630268423622,
          -0.49673550697061314,
          0.8450851676097495,
          0.1953614725497846,
          0.8450851676097495,
          -0.48261107881713533,
          0.054117191015009475,
          -0.7792240700401627,
          0.9722050209910468,
          0.491974463772812,
          0.025868334708054455,
          -0.49673550697061314,
          0.1812370443963074,
          0.2236103288567396,
          0.30835689777760467,
          0.491974463772812,
          0.2236103288567396,
          1.085200446218867,
          -0.24249580020801795,
          1.3535645811349393,
          0.9722050209910468,
          0.7885874549958394,
          -0.270744656514973,
          0.576721032693677,
          0.9157073083771367,
          0.28010804147064966,
          0.2377347570102168,
          -0.15774923128715287,
          -0.42611336620322526,
          0.8168363113027944,
          0.36485461039151473,
          1.0145783054514796,
          0.491974463772812,
          -0.6944775011192976,
          0.6190943171541092,
          1.0993248743723447,
          1.5230577189766694,
          0.7179653142284521,
          0.6897164579214972,
          1.4524355782092822,
          0.9439561646840917,
          0.32248132593108186,
          -0.24249580020801795,
          0.2377347570102168,
          -0.05887823421281061
         ],
         "xaxis": "x",
         "y": [
          -0.722540160792593,
          -0.21302116261562898,
          -0.9454547224950147,
          -0.37224584954593026,
          -1.0409895346531954,
          -1.247981627662587,
          -0.21939015009284105,
          -0.7798610480875015,
          -0.7543850981786533,
          0.009893399086792766,
          -0.09201040054860003,
          0.3920326477195158,
          -1.0728344720392557,
          -0.8753958602456822,
          0.7582494276592087,
          0.44298454753721217,
          -1.0155135847443473,
          -1.1301553593341642,
          -0.7862300355647135,
          0.009893399086792766,
          -0.9040563038931364,
          -1.493187645535251,
          -0.10474837550302414,
          -0.37224584954593026,
          -0.7384626294856231,
          -0.722540160792593,
          -0.9454547224950147,
          -0.8021525042577436,
          -0.5887914237711399,
          -0.21302116261562898,
          -0.38816831823896036,
          -0.849919910336834,
          -0.9454547224950147,
          -0.8021525042577436,
          -1.4549737206719788,
          -1.2798265650486473,
          0.6053937282061195,
          -0.38816831823896036,
          -1.0155135847443473,
          -0.2767110373877495,
          -1.0855724469936798,
          -0.11748635045744824,
          -0.5887914237711399,
          -0.9836686473582871,
          -1.0569120033462256,
          -0.2384971125244772,
          -1.375361377206828,
          -0.7543850981786533,
          -0.8244439604279857,
          -1.3849148584226463,
          -0.21302116261562898,
          -0.5887914237711399,
          -1.343516439820768,
          -0.44548920553386884,
          -0.9964066223127112,
          -1.1524468155044063,
          -1.0823879532550738,
          -0.8021525042577436,
          -1.2798265650486473,
          -1.1938452341062846,
          -0.5824224362939279,
          -0.38816831823896036,
          -0.8976873164159244,
          -1.216136690276527,
          -1.1683692841974365,
          -1.1683692841974365,
          -1.1747382716746486,
          -1.2575351088784053,
          -0.8945028226773183,
          -1.2893800462644653,
          -0.5314705364762314
         ],
         "yaxis": "y"
        },
        {
         "hoverlabel": {
          "namelength": 0
         },
         "hovertemplate": "Classification=Barbera<br>x=%{x}<br>y=%{y}",
         "legendgroup": "Barbera",
         "marker": {
          "color": "#00cc96",
          "symbol": "circle"
         },
         "mode": "markers",
         "name": "Barbera",
         "showlegend": true,
         "type": "scatter",
         "x": [
          -1.8668050378579302,
          -1.6831874718627227,
          -1.7679340407835875,
          -1.8668050378579302,
          -1.5560676184814253,
          -1.4571966214070826,
          -1.8950538941648851,
          -1.3018279117188303,
          -1.1182103457236228,
          -0.6521042166588654,
          -0.42611336620322526,
          -0.20012251574758508,
          -0.7792240700401627,
          -0.7933484981936405,
          -0.8639706389610278,
          -1.3159523398723079,
          -1.81030732524402,
          -1.0617126331097126,
          -1.4006989087931725,
          -1.81030732524402,
          -1.8526806097044526,
          -1.6125653310953352,
          -1.81030732524402,
          -1.5560676184814253,
          -1.4995699058675152,
          -1.5984409029418578,
          -1.3724500524862178,
          -1.2453301991049202,
          -0.9204683515749378,
          -1.1747080583375327,
          -1.4571966214070826,
          -1.1182103457236228,
          -0.7086019292727754,
          -1.2170813427979652,
          -1.3159523398723079,
          -1.2170813427979652,
          -1.4854454777140376,
          -1.2170813427979652,
          -1.1464592020305777,
          -0.9769660641888479,
          -1.1040859175701452,
          -1.3865744806396954,
          -1.2735790554118753,
          -1.2312057709514428,
          -1.4854454777140376,
          -1.4854454777140376,
          -1.4006989087931725,
          -1.4289477651001277
         ],
         "xaxis": "x",
         "y": [
          -0.37224584954593026,
          -0.6906952234065328,
          -0.595160411248352,
          -0.467780661704111,
          -0.30855597477380975,
          -0.16525375653653862,
          -0.08564141307138798,
          -0.7384626294856231,
          -0.5314705364762314,
          -0.49962559909017124,
          -0.467780661704111,
          0.10542821124497352,
          -0.722540160792593,
          -0.6270053486344123,
          0.3442652416404254,
          0.26465289817527476,
          -1.0569120033462256,
          -0.38816831823896036,
          -0.30855597477380975,
          -0.6270053486344123,
          -0.7862300355647135,
          -0.849919910336834,
          -1.0250670659601653,
          -0.2289436313086591,
          -0.34040091215987,
          -0.06971894437835786,
          -0.849919910336834,
          0.423877585105576,
          -0.2767110373877495,
          -0.40409078693199046,
          -0.722540160792593,
          -0.21302116261562898,
          -0.5633154738622917,
          -0.2289436313086591,
          -0.4200132556250206,
          -0.722540160792593,
          -0.16525375653653862,
          -0.19709869392259885,
          0.009893399086792766,
          -0.37224584954593026,
          -0.7543850981786533,
          -0.8817648477228942,
          -0.2767110373877495,
          -0.021951538299267485,
          0.009893399086792766,
          0.28057536686830487,
          0.296497835561335,
          -0.595160411248352
         ],
         "yaxis": "y"
        }
       ],
       "layout": {
        "autosize": true,
        "legend": {
         "title": {
          "text": "Classification"
         },
         "tracegroupgap": 0
        },
        "margin": {
         "t": 60
        },
        "template": {
         "data": {
          "bar": [
           {
            "error_x": {
             "color": "#2a3f5f"
            },
            "error_y": {
             "color": "#2a3f5f"
            },
            "marker": {
             "line": {
              "color": "#E5ECF6",
              "width": 0.5
             }
            },
            "type": "bar"
           }
          ],
          "barpolar": [
           {
            "marker": {
             "line": {
              "color": "#E5ECF6",
              "width": 0.5
             }
            },
            "type": "barpolar"
           }
          ],
          "carpet": [
           {
            "aaxis": {
             "endlinecolor": "#2a3f5f",
             "gridcolor": "white",
             "linecolor": "white",
             "minorgridcolor": "white",
             "startlinecolor": "#2a3f5f"
            },
            "baxis": {
             "endlinecolor": "#2a3f5f",
             "gridcolor": "white",
             "linecolor": "white",
             "minorgridcolor": "white",
             "startlinecolor": "#2a3f5f"
            },
            "type": "carpet"
           }
          ],
          "choropleth": [
           {
            "colorbar": {
             "outlinewidth": 0,
             "ticks": ""
            },
            "type": "choropleth"
           }
          ],
          "contour": [
           {
            "colorbar": {
             "outlinewidth": 0,
             "ticks": ""
            },
            "colorscale": [
             [
              0,
              "#0d0887"
             ],
             [
              0.1111111111111111,
              "#46039f"
             ],
             [
              0.2222222222222222,
              "#7201a8"
             ],
             [
              0.3333333333333333,
              "#9c179e"
             ],
             [
              0.4444444444444444,
              "#bd3786"
             ],
             [
              0.5555555555555556,
              "#d8576b"
             ],
             [
              0.6666666666666666,
              "#ed7953"
             ],
             [
              0.7777777777777778,
              "#fb9f3a"
             ],
             [
              0.8888888888888888,
              "#fdca26"
             ],
             [
              1,
              "#f0f921"
             ]
            ],
            "type": "contour"
           }
          ],
          "contourcarpet": [
           {
            "colorbar": {
             "outlinewidth": 0,
             "ticks": ""
            },
            "type": "contourcarpet"
           }
          ],
          "heatmap": [
           {
            "colorbar": {
             "outlinewidth": 0,
             "ticks": ""
            },
            "colorscale": [
             [
              0,
              "#0d0887"
             ],
             [
              0.1111111111111111,
              "#46039f"
             ],
             [
              0.2222222222222222,
              "#7201a8"
             ],
             [
              0.3333333333333333,
              "#9c179e"
             ],
             [
              0.4444444444444444,
              "#bd3786"
             ],
             [
              0.5555555555555556,
              "#d8576b"
             ],
             [
              0.6666666666666666,
              "#ed7953"
             ],
             [
              0.7777777777777778,
              "#fb9f3a"
             ],
             [
              0.8888888888888888,
              "#fdca26"
             ],
             [
              1,
              "#f0f921"
             ]
            ],
            "type": "heatmap"
           }
          ],
          "heatmapgl": [
           {
            "colorbar": {
             "outlinewidth": 0,
             "ticks": ""
            },
            "colorscale": [
             [
              0,
              "#0d0887"
             ],
             [
              0.1111111111111111,
              "#46039f"
             ],
             [
              0.2222222222222222,
              "#7201a8"
             ],
             [
              0.3333333333333333,
              "#9c179e"
             ],
             [
              0.4444444444444444,
              "#bd3786"
             ],
             [
              0.5555555555555556,
              "#d8576b"
             ],
             [
              0.6666666666666666,
              "#ed7953"
             ],
             [
              0.7777777777777778,
              "#fb9f3a"
             ],
             [
              0.8888888888888888,
              "#fdca26"
             ],
             [
              1,
              "#f0f921"
             ]
            ],
            "type": "heatmapgl"
           }
          ],
          "histogram": [
           {
            "marker": {
             "colorbar": {
              "outlinewidth": 0,
              "ticks": ""
             }
            },
            "type": "histogram"
           }
          ],
          "histogram2d": [
           {
            "colorbar": {
             "outlinewidth": 0,
             "ticks": ""
            },
            "colorscale": [
             [
              0,
              "#0d0887"
             ],
             [
              0.1111111111111111,
              "#46039f"
             ],
             [
              0.2222222222222222,
              "#7201a8"
             ],
             [
              0.3333333333333333,
              "#9c179e"
             ],
             [
              0.4444444444444444,
              "#bd3786"
             ],
             [
              0.5555555555555556,
              "#d8576b"
             ],
             [
              0.6666666666666666,
              "#ed7953"
             ],
             [
              0.7777777777777778,
              "#fb9f3a"
             ],
             [
              0.8888888888888888,
              "#fdca26"
             ],
             [
              1,
              "#f0f921"
             ]
            ],
            "type": "histogram2d"
           }
          ],
          "histogram2dcontour": [
           {
            "colorbar": {
             "outlinewidth": 0,
             "ticks": ""
            },
            "colorscale": [
             [
              0,
              "#0d0887"
             ],
             [
              0.1111111111111111,
              "#46039f"
             ],
             [
              0.2222222222222222,
              "#7201a8"
             ],
             [
              0.3333333333333333,
              "#9c179e"
             ],
             [
              0.4444444444444444,
              "#bd3786"
             ],
             [
              0.5555555555555556,
              "#d8576b"
             ],
             [
              0.6666666666666666,
              "#ed7953"
             ],
             [
              0.7777777777777778,
              "#fb9f3a"
             ],
             [
              0.8888888888888888,
              "#fdca26"
             ],
             [
              1,
              "#f0f921"
             ]
            ],
            "type": "histogram2dcontour"
           }
          ],
          "mesh3d": [
           {
            "colorbar": {
             "outlinewidth": 0,
             "ticks": ""
            },
            "type": "mesh3d"
           }
          ],
          "parcoords": [
           {
            "line": {
             "colorbar": {
              "outlinewidth": 0,
              "ticks": ""
             }
            },
            "type": "parcoords"
           }
          ],
          "pie": [
           {
            "automargin": true,
            "type": "pie"
           }
          ],
          "scatter": [
           {
            "marker": {
             "colorbar": {
              "outlinewidth": 0,
              "ticks": ""
             }
            },
            "type": "scatter"
           }
          ],
          "scatter3d": [
           {
            "line": {
             "colorbar": {
              "outlinewidth": 0,
              "ticks": ""
             }
            },
            "marker": {
             "colorbar": {
              "outlinewidth": 0,
              "ticks": ""
             }
            },
            "type": "scatter3d"
           }
          ],
          "scattercarpet": [
           {
            "marker": {
             "colorbar": {
              "outlinewidth": 0,
              "ticks": ""
             }
            },
            "type": "scattercarpet"
           }
          ],
          "scattergeo": [
           {
            "marker": {
             "colorbar": {
              "outlinewidth": 0,
              "ticks": ""
             }
            },
            "type": "scattergeo"
           }
          ],
          "scattergl": [
           {
            "marker": {
             "colorbar": {
              "outlinewidth": 0,
              "ticks": ""
             }
            },
            "type": "scattergl"
           }
          ],
          "scattermapbox": [
           {
            "marker": {
             "colorbar": {
              "outlinewidth": 0,
              "ticks": ""
             }
            },
            "type": "scattermapbox"
           }
          ],
          "scatterpolar": [
           {
            "marker": {
             "colorbar": {
              "outlinewidth": 0,
              "ticks": ""
             }
            },
            "type": "scatterpolar"
           }
          ],
          "scatterpolargl": [
           {
            "marker": {
             "colorbar": {
              "outlinewidth": 0,
              "ticks": ""
             }
            },
            "type": "scatterpolargl"
           }
          ],
          "scatterternary": [
           {
            "marker": {
             "colorbar": {
              "outlinewidth": 0,
              "ticks": ""
             }
            },
            "type": "scatterternary"
           }
          ],
          "surface": [
           {
            "colorbar": {
             "outlinewidth": 0,
             "ticks": ""
            },
            "colorscale": [
             [
              0,
              "#0d0887"
             ],
             [
              0.1111111111111111,
              "#46039f"
             ],
             [
              0.2222222222222222,
              "#7201a8"
             ],
             [
              0.3333333333333333,
              "#9c179e"
             ],
             [
              0.4444444444444444,
              "#bd3786"
             ],
             [
              0.5555555555555556,
              "#d8576b"
             ],
             [
              0.6666666666666666,
              "#ed7953"
             ],
             [
              0.7777777777777778,
              "#fb9f3a"
             ],
             [
              0.8888888888888888,
              "#fdca26"
             ],
             [
              1,
              "#f0f921"
             ]
            ],
            "type": "surface"
           }
          ],
          "table": [
           {
            "cells": {
             "fill": {
              "color": "#EBF0F8"
             },
             "line": {
              "color": "white"
             }
            },
            "header": {
             "fill": {
              "color": "#C8D4E3"
             },
             "line": {
              "color": "white"
             }
            },
            "type": "table"
           }
          ]
         },
         "layout": {
          "annotationdefaults": {
           "arrowcolor": "#2a3f5f",
           "arrowhead": 0,
           "arrowwidth": 1
          },
          "coloraxis": {
           "colorbar": {
            "outlinewidth": 0,
            "ticks": ""
           }
          },
          "colorscale": {
           "diverging": [
            [
             0,
             "#8e0152"
            ],
            [
             0.1,
             "#c51b7d"
            ],
            [
             0.2,
             "#de77ae"
            ],
            [
             0.3,
             "#f1b6da"
            ],
            [
             0.4,
             "#fde0ef"
            ],
            [
             0.5,
             "#f7f7f7"
            ],
            [
             0.6,
             "#e6f5d0"
            ],
            [
             0.7,
             "#b8e186"
            ],
            [
             0.8,
             "#7fbc41"
            ],
            [
             0.9,
             "#4d9221"
            ],
            [
             1,
             "#276419"
            ]
           ],
           "sequential": [
            [
             0,
             "#0d0887"
            ],
            [
             0.1111111111111111,
             "#46039f"
            ],
            [
             0.2222222222222222,
             "#7201a8"
            ],
            [
             0.3333333333333333,
             "#9c179e"
            ],
            [
             0.4444444444444444,
             "#bd3786"
            ],
            [
             0.5555555555555556,
             "#d8576b"
            ],
            [
             0.6666666666666666,
             "#ed7953"
            ],
            [
             0.7777777777777778,
             "#fb9f3a"
            ],
            [
             0.8888888888888888,
             "#fdca26"
            ],
            [
             1,
             "#f0f921"
            ]
           ],
           "sequentialminus": [
            [
             0,
             "#0d0887"
            ],
            [
             0.1111111111111111,
             "#46039f"
            ],
            [
             0.2222222222222222,
             "#7201a8"
            ],
            [
             0.3333333333333333,
             "#9c179e"
            ],
            [
             0.4444444444444444,
             "#bd3786"
            ],
            [
             0.5555555555555556,
             "#d8576b"
            ],
            [
             0.6666666666666666,
             "#ed7953"
            ],
            [
             0.7777777777777778,
             "#fb9f3a"
            ],
            [
             0.8888888888888888,
             "#fdca26"
            ],
            [
             1,
             "#f0f921"
            ]
           ]
          },
          "colorway": [
           "#636efa",
           "#EF553B",
           "#00cc96",
           "#ab63fa",
           "#FFA15A",
           "#19d3f3",
           "#FF6692",
           "#B6E880",
           "#FF97FF",
           "#FECB52"
          ],
          "font": {
           "color": "#2a3f5f"
          },
          "geo": {
           "bgcolor": "white",
           "lakecolor": "white",
           "landcolor": "#E5ECF6",
           "showlakes": true,
           "showland": true,
           "subunitcolor": "white"
          },
          "hoverlabel": {
           "align": "left"
          },
          "hovermode": "closest",
          "mapbox": {
           "style": "light"
          },
          "paper_bgcolor": "white",
          "plot_bgcolor": "#E5ECF6",
          "polar": {
           "angularaxis": {
            "gridcolor": "white",
            "linecolor": "white",
            "ticks": ""
           },
           "bgcolor": "#E5ECF6",
           "radialaxis": {
            "gridcolor": "white",
            "linecolor": "white",
            "ticks": ""
           }
          },
          "scene": {
           "xaxis": {
            "backgroundcolor": "#E5ECF6",
            "gridcolor": "white",
            "gridwidth": 2,
            "linecolor": "white",
            "showbackground": true,
            "ticks": "",
            "zerolinecolor": "white"
           },
           "yaxis": {
            "backgroundcolor": "#E5ECF6",
            "gridcolor": "white",
            "gridwidth": 2,
            "linecolor": "white",
            "showbackground": true,
            "ticks": "",
            "zerolinecolor": "white"
           },
           "zaxis": {
            "backgroundcolor": "#E5ECF6",
            "gridcolor": "white",
            "gridwidth": 2,
            "linecolor": "white",
            "showbackground": true,
            "ticks": "",
            "zerolinecolor": "white"
           }
          },
          "shapedefaults": {
           "line": {
            "color": "#2a3f5f"
           }
          },
          "ternary": {
           "aaxis": {
            "gridcolor": "white",
            "linecolor": "white",
            "ticks": ""
           },
           "baxis": {
            "gridcolor": "white",
            "linecolor": "white",
            "ticks": ""
           },
           "bgcolor": "#E5ECF6",
           "caxis": {
            "gridcolor": "white",
            "linecolor": "white",
            "ticks": ""
           }
          },
          "title": {
           "x": 0.05
          },
          "xaxis": {
           "automargin": true,
           "gridcolor": "white",
           "linecolor": "white",
           "ticks": "",
           "title": {
            "standoff": 15
           },
           "zerolinecolor": "white",
           "zerolinewidth": 2
          },
          "yaxis": {
           "automargin": true,
           "gridcolor": "white",
           "linecolor": "white",
           "ticks": "",
           "title": {
            "standoff": 15
           },
           "zerolinecolor": "white",
           "zerolinewidth": 2
          }
         }
        },
        "title": {
         "text": "Standardized OD280/OD315 of diluted wines vs. Proline"
        },
        "xaxis": {
         "anchor": "y",
         "autorange": true,
         "domain": [
          0,
          1
         ],
         "range": [
          -2.1284148894039694,
          2.194275986973556
         ],
         "title": {
          "text": "Standardized OD280/OD315 of diluted wines"
         },
         "type": "linear"
        },
        "yaxis": {
         "anchor": "x",
         "autorange": true,
         "domain": [
          0,
          1
         ],
         "range": [
          -1.7729425699019477,
          3.2512275003570927
         ],
         "title": {
          "text": "Standardized Proline"
         },
         "type": "linear"
        }
       }
      },
      "image/png": "[encoded data removed]"
     },
     "metadata": {},
     "output_type": "display_data"
    }
   ],
   "source": [
    "fig = px.scatter(df2, x = df_scaled['OD280/OD315 of diluted wines'], y = df_scaled['Proline'], color = 'Classification',\n",
    "                 height = 800)\n",
    "\n",
    "fig.update_layout(title = 'Standardized OD280/OD315 of diluted wines vs. Proline',\n",
    "                  xaxis_title = 'Standardized OD280/OD315 of diluted wines',\n",
    "                  yaxis_title = 'Standardized Proline',\n",
    "                  )\n",
    "\n",
    "fig.show()"
   ]
  },
  {
   "cell_type": "code",
   "execution_count": 343,
   "metadata": {},
   "outputs": [
    {
     "data": {
      "text/plain": [
       "Pipeline(memory=None,\n",
       "         steps=[('standardscaler',\n",
       "                 StandardScaler(copy=True, with_mean=True, with_std=True)),\n",
       "                ('kmeans',\n",
       "                 KMeans(algorithm='auto', copy_x=True, init='k-means++',\n",
       "                        max_iter=300, n_clusters=3, n_init=10, n_jobs=None,\n",
       "                        precompute_distances='auto', random_state=None,\n",
       "                        tol=0.0001, verbose=0))],\n",
       "         verbose=False)"
      ]
     },
     "execution_count": 343,
     "metadata": {},
     "output_type": "execute_result"
    }
   ],
   "source": [
    "# K-means clustering with standardization\n",
    "from sklearn.preprocessing import StandardScaler\n",
    "from sklearn.cluster import KMeans\n",
    "\n",
    "scaler = StandardScaler()\n",
    "kmeans = KMeans(n_clusters = 3)\n",
    "\n",
    "from sklearn.pipeline import make_pipeline\n",
    "\n",
    "pipeline = make_pipeline(scaler, kmeans) # use pipline to combine scaler & kmeans\n",
    "pipeline.fit(df.iloc[:, 1:14])"
   ]
  },
  {
   "cell_type": "code",
   "execution_count": 344,
   "metadata": {},
   "outputs": [],
   "source": [
    "scaled_labels = pipeline.predict(df.iloc[:, 1:14])"
   ]
  },
  {
   "cell_type": "code",
   "execution_count": 345,
   "metadata": {},
   "outputs": [
    {
     "name": "stdout",
     "output_type": "stream",
     "text": [
      "[1 1 1 1 1 1 1 1 1 1 1 1 1 1 1 1 1 1 1 1 1 1 1 1 1 1 1 1 1 1 1 1 1 1 1 1 1\n",
      " 1 1 1 1 1 1 1 1 1 1 1 1 1 1 1 1 1 1 1 1 1 1 2 2 0 2 2 2 2 2 2 2 2 2 2 2 1\n",
      " 2 2 2 2 2 2 2 2 2 0 2 2 2 2 2 2 2 2 2 2 2 1 2 2 2 2 2 2 2 2 2 2 2 2 2 2 2\n",
      " 2 2 2 2 2 2 2 0 2 2 1 2 2 2 2 2 2 2 2 0 0 0 0 0 0 0 0 0 0 0 0 0 0 0 0 0 0\n",
      " 0 0 0 0 0 0 0 0 0 0 0 0 0 0 0 0 0 0 0 0 0 0 0 0 0 0 0 0 0 0]\n"
     ]
    }
   ],
   "source": [
    "print(scaled_labels)"
   ]
  },
  {
   "cell_type": "code",
   "execution_count": 346,
   "metadata": {},
   "outputs": [
    {
     "name": "stdout",
     "output_type": "stream",
     "text": [
      "varieties  Barbera  Barolo  Grignolino\n",
      "labels                                \n",
      "0               48       0           3\n",
      "1                0      59           3\n",
      "2                0       0          65\n"
     ]
    }
   ],
   "source": [
    "df_scaled = pd.DataFrame({'labels': scaled_labels, 'varieties': df2['Classification']})\n",
    "\n",
    "ct = pd.crosstab(df_scaled['labels'], df_scaled['varieties'])\n",
    "print(ct)"
   ]
  },
  {
   "cell_type": "code",
   "execution_count": 347,
   "metadata": {},
   "outputs": [],
   "source": [
    "# Another option: Normalization\n",
    "\n",
    "# Import Normalizer\n",
    "from sklearn.preprocessing import Normalizer\n",
    "from sklearn.pipeline import make_pipeline\n",
    "\n",
    "# Create a normalizer: normalizer\n",
    "normalizer = Normalizer()\n",
    "\n",
    "# Create a KMeans model with 3 clusters: kmeans\n",
    "kmeans = KMeans(n_clusters = 3)\n",
    "\n",
    "df_norm = normalizer.transform(df)"
   ]
  },
  {
   "cell_type": "code",
   "execution_count": 348,
   "metadata": {},
   "outputs": [],
   "source": [
    "df_norm = pd.DataFrame(df_norm)\n",
    "\n",
    "df_norm.columns = ['Classification', \n",
    "                'Alcohol', \n",
    "                'Malic acid', \n",
    "                'Ash', \n",
    "                'Alcalinity of ash', \n",
    "                'Magnesium', \n",
    "                'Total phenols', \n",
    "                'Flavanoids', \n",
    "                'Nonflavanoid phenols', \n",
    "                'Proanthocyanins', \n",
    "                'Color intensity', \n",
    "                'Hue', \n",
    "                'OD280/OD315 of diluted wines', \n",
    "                'Proline']"
   ]
  },
  {
   "cell_type": "code",
   "execution_count": 349,
   "metadata": {},
   "outputs": [
    {
     "data": {
      "text/html": [
       "<div>\n",
       "<style scoped>\n",
       "    .dataframe tbody tr th:only-of-type {\n",
       "        vertical-align: middle;\n",
       "    }\n",
       "\n",
       "    .dataframe tbody tr th {\n",
       "        vertical-align: top;\n",
       "    }\n",
       "\n",
       "    .dataframe thead th {\n",
       "        text-align: right;\n",
       "    }\n",
       "</style>\n",
       "<table border=\"1\" class=\"dataframe\">\n",
       "  <thead>\n",
       "    <tr style=\"text-align: right;\">\n",
       "      <th></th>\n",
       "      <th>Classification</th>\n",
       "      <th>Alcohol</th>\n",
       "      <th>Malic acid</th>\n",
       "      <th>Ash</th>\n",
       "      <th>Alcalinity of ash</th>\n",
       "      <th>Magnesium</th>\n",
       "      <th>Total phenols</th>\n",
       "      <th>Flavanoids</th>\n",
       "      <th>Nonflavanoid phenols</th>\n",
       "      <th>Proanthocyanins</th>\n",
       "      <th>Color intensity</th>\n",
       "      <th>Hue</th>\n",
       "      <th>OD280/OD315 of diluted wines</th>\n",
       "      <th>Proline</th>\n",
       "    </tr>\n",
       "  </thead>\n",
       "  <tbody>\n",
       "    <tr>\n",
       "      <th>0</th>\n",
       "      <td>0.000932</td>\n",
       "      <td>0.013264</td>\n",
       "      <td>0.001594</td>\n",
       "      <td>0.002265</td>\n",
       "      <td>0.014542</td>\n",
       "      <td>0.118383</td>\n",
       "      <td>0.002610</td>\n",
       "      <td>0.002852</td>\n",
       "      <td>0.000261</td>\n",
       "      <td>0.002135</td>\n",
       "      <td>0.005257</td>\n",
       "      <td>0.000969</td>\n",
       "      <td>0.003654</td>\n",
       "      <td>0.992738</td>\n",
       "    </tr>\n",
       "    <tr>\n",
       "      <th>1</th>\n",
       "      <td>0.000948</td>\n",
       "      <td>0.012513</td>\n",
       "      <td>0.001687</td>\n",
       "      <td>0.002029</td>\n",
       "      <td>0.010617</td>\n",
       "      <td>0.094794</td>\n",
       "      <td>0.002512</td>\n",
       "      <td>0.002616</td>\n",
       "      <td>0.000246</td>\n",
       "      <td>0.001213</td>\n",
       "      <td>0.004152</td>\n",
       "      <td>0.000995</td>\n",
       "      <td>0.003223</td>\n",
       "      <td>0.995336</td>\n",
       "    </tr>\n",
       "    <tr>\n",
       "      <th>2</th>\n",
       "      <td>0.000841</td>\n",
       "      <td>0.011063</td>\n",
       "      <td>0.001984</td>\n",
       "      <td>0.002245</td>\n",
       "      <td>0.015636</td>\n",
       "      <td>0.084906</td>\n",
       "      <td>0.002354</td>\n",
       "      <td>0.002724</td>\n",
       "      <td>0.000252</td>\n",
       "      <td>0.002362</td>\n",
       "      <td>0.004775</td>\n",
       "      <td>0.000866</td>\n",
       "      <td>0.002665</td>\n",
       "      <td>0.996175</td>\n",
       "    </tr>\n",
       "    <tr>\n",
       "      <th>3</th>\n",
       "      <td>0.000674</td>\n",
       "      <td>0.009680</td>\n",
       "      <td>0.001314</td>\n",
       "      <td>0.001684</td>\n",
       "      <td>0.011317</td>\n",
       "      <td>0.076119</td>\n",
       "      <td>0.002593</td>\n",
       "      <td>0.002351</td>\n",
       "      <td>0.000162</td>\n",
       "      <td>0.001468</td>\n",
       "      <td>0.005254</td>\n",
       "      <td>0.000579</td>\n",
       "      <td>0.002324</td>\n",
       "      <td>0.996961</td>\n",
       "    </tr>\n",
       "    <tr>\n",
       "      <th>4</th>\n",
       "      <td>0.001343</td>\n",
       "      <td>0.017775</td>\n",
       "      <td>0.003477</td>\n",
       "      <td>0.003853</td>\n",
       "      <td>0.028193</td>\n",
       "      <td>0.158417</td>\n",
       "      <td>0.003759</td>\n",
       "      <td>0.003611</td>\n",
       "      <td>0.000524</td>\n",
       "      <td>0.002443</td>\n",
       "      <td>0.005800</td>\n",
       "      <td>0.001396</td>\n",
       "      <td>0.003934</td>\n",
       "      <td>0.986752</td>\n",
       "    </tr>\n",
       "  </tbody>\n",
       "</table>\n",
       "</div>"
      ],
      "text/plain": [
       "   Classification   Alcohol  Malic acid       Ash  Alcalinity of ash  \\\n",
       "0        0.000932  0.013264    0.001594  0.002265           0.014542   \n",
       "1        0.000948  0.012513    0.001687  0.002029           0.010617   \n",
       "2        0.000841  0.011063    0.001984  0.002245           0.015636   \n",
       "3        0.000674  0.009680    0.001314  0.001684           0.011317   \n",
       "4        0.001343  0.017775    0.003477  0.003853           0.028193   \n",
       "\n",
       "   Magnesium  Total phenols  Flavanoids  Nonflavanoid phenols  \\\n",
       "0   0.118383       0.002610    0.002852              0.000261   \n",
       "1   0.094794       0.002512    0.002616              0.000246   \n",
       "2   0.084906       0.002354    0.002724              0.000252   \n",
       "3   0.076119       0.002593    0.002351              0.000162   \n",
       "4   0.158417       0.003759    0.003611              0.000524   \n",
       "\n",
       "   Proanthocyanins  Color intensity       Hue  OD280/OD315 of diluted wines  \\\n",
       "0         0.002135         0.005257  0.000969                      0.003654   \n",
       "1         0.001213         0.004152  0.000995                      0.003223   \n",
       "2         0.002362         0.004775  0.000866                      0.002665   \n",
       "3         0.001468         0.005254  0.000579                      0.002324   \n",
       "4         0.002443         0.005800  0.001396                      0.003934   \n",
       "\n",
       "    Proline  \n",
       "0  0.992738  \n",
       "1  0.995336  \n",
       "2  0.996175  \n",
       "3  0.996961  \n",
       "4  0.986752  "
      ]
     },
     "execution_count": 349,
     "metadata": {},
     "output_type": "execute_result"
    }
   ],
   "source": [
    "df_norm.head()"
   ]
  },
  {
   "cell_type": "code",
   "execution_count": 350,
   "metadata": {},
   "outputs": [
    {
     "data": {
      "text/plain": [
       "Pipeline(memory=None,\n",
       "         steps=[('normalizer', Normalizer(copy=True, norm='l2')),\n",
       "                ('kmeans',\n",
       "                 KMeans(algorithm='auto', copy_x=True, init='k-means++',\n",
       "                        max_iter=300, n_clusters=3, n_init=10, n_jobs=None,\n",
       "                        precompute_distances='auto', random_state=None,\n",
       "                        tol=0.0001, verbose=0))],\n",
       "         verbose=False)"
      ]
     },
     "execution_count": 350,
     "metadata": {},
     "output_type": "execute_result"
    }
   ],
   "source": [
    "# Make a pipeline chaining normalizer and kmeans: pipeline\n",
    "pipeline = make_pipeline(normalizer, kmeans)\n",
    "\n",
    "# Fit pipeline to the daily price movements\n",
    "pipeline.fit(df.iloc[:, 1:14])"
   ]
  },
  {
   "cell_type": "code",
   "execution_count": 351,
   "metadata": {},
   "outputs": [],
   "source": [
    "norm_labels = pipeline.predict(df.iloc[:, 1:14])"
   ]
  },
  {
   "cell_type": "code",
   "execution_count": 352,
   "metadata": {},
   "outputs": [
    {
     "name": "stdout",
     "output_type": "stream",
     "text": [
      "[2 2 2 2 0 2 2 2 2 2 2 2 2 2 2 2 2 2 2 0 0 0 2 2 2 0 2 2 2 2 2 2 2 2 2 2 2\n",
      " 2 2 0 0 2 2 0 2 2 2 2 2 2 2 2 2 2 2 2 2 2 2 0 0 1 0 1 1 0 0 0 0 1 2 1 0 0\n",
      " 2 1 1 1 0 1 1 2 0 0 0 1 0 0 2 2 0 0 0 1 1 0 1 0 0 1 0 0 1 1 0 1 0 0 1 0 0\n",
      " 1 0 1 1 1 0 1 1 0 0 1 1 1 1 1 1 1 1 0 0 0 0 0 0 0 2 0 0 0 0 2 0 0 0 2 0 0\n",
      " 0 1 1 1 1 0 0 0 0 2 0 0 0 0 0 0 0 0 0 0 0 0 0 0 0 0 0 0 0 0]\n"
     ]
    }
   ],
   "source": [
    "print(norm_labels)"
   ]
  },
  {
   "cell_type": "code",
   "execution_count": 353,
   "metadata": {},
   "outputs": [
    {
     "name": "stdout",
     "output_type": "stream",
     "text": [
      "varieties  Barbera  Barolo  Grignolino\n",
      "labels                                \n",
      "0               40       8          33\n",
      "1                4       0          33\n",
      "2                4      51           5\n"
     ]
    }
   ],
   "source": [
    "df_norm = pd.DataFrame({'labels': norm_labels, 'varieties': df2['Classification']})\n",
    "\n",
    "ct = pd.crosstab(df_norm['labels'], df_norm['varieties'])\n",
    "print(ct)"
   ]
  },
  {
   "cell_type": "code",
   "execution_count": null,
   "metadata": {},
   "outputs": [],
   "source": []
  }
 ],
 "metadata": {
  "kernelspec": {
   "display_name": "Python 3.7.4 64-bit ('anaconda3': virtualenv)",
   "language": "python",
   "name": "python37464bitanaconda3virtualenv03289b9f3e044ac7aa6154d011db7413"
  },
  "language_info": {
   "codemirror_mode": {
    "name": "ipython",
    "version": 3
   },
   "file_extension": ".py",
   "mimetype": "text/x-python",
   "name": "python",
   "nbconvert_exporter": "python",
   "pygments_lexer": "ipython3",
   "version": "3.7.6"
  }
 },
 "nbformat": 4,
 "nbformat_minor": 4
}
