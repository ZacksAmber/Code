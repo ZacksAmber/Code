{
 "cells": [
  {
   "cell_type": "code",
   "execution_count": 2,
   "metadata": {},
   "outputs": [
    {
     "data": {
      "application/vnd.plotly.v1+json": {
       "config": {
        "plotlyServerURL": "https://plot.ly"
       },
       "data": [
        {
         "hoverlabel": {
          "namelength": 0
         },
         "hovertemplate": "x_value=%{x}<br>y_value=%{y}",
         "legendgroup": "",
         "marker": {
          "color": "#636efa",
          "symbol": "circle"
         },
         "mode": "markers",
         "name": "",
         "showlegend": false,
         "type": "scatter",
         "x": [
          0,
          1
         ],
         "xaxis": "x",
         "y": [
          0,
          1
         ],
         "yaxis": "y"
        }
       ],
       "layout": {
        "autosize": true,
        "legend": {
         "tracegroupgap": 0
        },
        "margin": {
         "t": 60
        },
        "template": {
         "data": {
          "bar": [
           {
            "error_x": {
             "color": "#2a3f5f"
            },
            "error_y": {
             "color": "#2a3f5f"
            },
            "marker": {
             "line": {
              "color": "#E5ECF6",
              "width": 0.5
             }
            },
            "type": "bar"
           }
          ],
          "barpolar": [
           {
            "marker": {
             "line": {
              "color": "#E5ECF6",
              "width": 0.5
             }
            },
            "type": "barpolar"
           }
          ],
          "carpet": [
           {
            "aaxis": {
             "endlinecolor": "#2a3f5f",
             "gridcolor": "white",
             "linecolor": "white",
             "minorgridcolor": "white",
             "startlinecolor": "#2a3f5f"
            },
            "baxis": {
             "endlinecolor": "#2a3f5f",
             "gridcolor": "white",
             "linecolor": "white",
             "minorgridcolor": "white",
             "startlinecolor": "#2a3f5f"
            },
            "type": "carpet"
           }
          ],
          "choropleth": [
           {
            "colorbar": {
             "outlinewidth": 0,
             "ticks": ""
            },
            "type": "choropleth"
           }
          ],
          "contour": [
           {
            "colorbar": {
             "outlinewidth": 0,
             "ticks": ""
            },
            "colorscale": [
             [
              0,
              "#0d0887"
             ],
             [
              0.1111111111111111,
              "#46039f"
             ],
             [
              0.2222222222222222,
              "#7201a8"
             ],
             [
              0.3333333333333333,
              "#9c179e"
             ],
             [
              0.4444444444444444,
              "#bd3786"
             ],
             [
              0.5555555555555556,
              "#d8576b"
             ],
             [
              0.6666666666666666,
              "#ed7953"
             ],
             [
              0.7777777777777778,
              "#fb9f3a"
             ],
             [
              0.8888888888888888,
              "#fdca26"
             ],
             [
              1,
              "#f0f921"
             ]
            ],
            "type": "contour"
           }
          ],
          "contourcarpet": [
           {
            "colorbar": {
             "outlinewidth": 0,
             "ticks": ""
            },
            "type": "contourcarpet"
           }
          ],
          "heatmap": [
           {
            "colorbar": {
             "outlinewidth": 0,
             "ticks": ""
            },
            "colorscale": [
             [
              0,
              "#0d0887"
             ],
             [
              0.1111111111111111,
              "#46039f"
             ],
             [
              0.2222222222222222,
              "#7201a8"
             ],
             [
              0.3333333333333333,
              "#9c179e"
             ],
             [
              0.4444444444444444,
              "#bd3786"
             ],
             [
              0.5555555555555556,
              "#d8576b"
             ],
             [
              0.6666666666666666,
              "#ed7953"
             ],
             [
              0.7777777777777778,
              "#fb9f3a"
             ],
             [
              0.8888888888888888,
              "#fdca26"
             ],
             [
              1,
              "#f0f921"
             ]
            ],
            "type": "heatmap"
           }
          ],
          "heatmapgl": [
           {
            "colorbar": {
             "outlinewidth": 0,
             "ticks": ""
            },
            "colorscale": [
             [
              0,
              "#0d0887"
             ],
             [
              0.1111111111111111,
              "#46039f"
             ],
             [
              0.2222222222222222,
              "#7201a8"
             ],
             [
              0.3333333333333333,
              "#9c179e"
             ],
             [
              0.4444444444444444,
              "#bd3786"
             ],
             [
              0.5555555555555556,
              "#d8576b"
             ],
             [
              0.6666666666666666,
              "#ed7953"
             ],
             [
              0.7777777777777778,
              "#fb9f3a"
             ],
             [
              0.8888888888888888,
              "#fdca26"
             ],
             [
              1,
              "#f0f921"
             ]
            ],
            "type": "heatmapgl"
           }
          ],
          "histogram": [
           {
            "marker": {
             "colorbar": {
              "outlinewidth": 0,
              "ticks": ""
             }
            },
            "type": "histogram"
           }
          ],
          "histogram2d": [
           {
            "colorbar": {
             "outlinewidth": 0,
             "ticks": ""
            },
            "colorscale": [
             [
              0,
              "#0d0887"
             ],
             [
              0.1111111111111111,
              "#46039f"
             ],
             [
              0.2222222222222222,
              "#7201a8"
             ],
             [
              0.3333333333333333,
              "#9c179e"
             ],
             [
              0.4444444444444444,
              "#bd3786"
             ],
             [
              0.5555555555555556,
              "#d8576b"
             ],
             [
              0.6666666666666666,
              "#ed7953"
             ],
             [
              0.7777777777777778,
              "#fb9f3a"
             ],
             [
              0.8888888888888888,
              "#fdca26"
             ],
             [
              1,
              "#f0f921"
             ]
            ],
            "type": "histogram2d"
           }
          ],
          "histogram2dcontour": [
           {
            "colorbar": {
             "outlinewidth": 0,
             "ticks": ""
            },
            "colorscale": [
             [
              0,
              "#0d0887"
             ],
             [
              0.1111111111111111,
              "#46039f"
             ],
             [
              0.2222222222222222,
              "#7201a8"
             ],
             [
              0.3333333333333333,
              "#9c179e"
             ],
             [
              0.4444444444444444,
              "#bd3786"
             ],
             [
              0.5555555555555556,
              "#d8576b"
             ],
             [
              0.6666666666666666,
              "#ed7953"
             ],
             [
              0.7777777777777778,
              "#fb9f3a"
             ],
             [
              0.8888888888888888,
              "#fdca26"
             ],
             [
              1,
              "#f0f921"
             ]
            ],
            "type": "histogram2dcontour"
           }
          ],
          "mesh3d": [
           {
            "colorbar": {
             "outlinewidth": 0,
             "ticks": ""
            },
            "type": "mesh3d"
           }
          ],
          "parcoords": [
           {
            "line": {
             "colorbar": {
              "outlinewidth": 0,
              "ticks": ""
             }
            },
            "type": "parcoords"
           }
          ],
          "pie": [
           {
            "automargin": true,
            "type": "pie"
           }
          ],
          "scatter": [
           {
            "marker": {
             "colorbar": {
              "outlinewidth": 0,
              "ticks": ""
             }
            },
            "type": "scatter"
           }
          ],
          "scatter3d": [
           {
            "line": {
             "colorbar": {
              "outlinewidth": 0,
              "ticks": ""
             }
            },
            "marker": {
             "colorbar": {
              "outlinewidth": 0,
              "ticks": ""
             }
            },
            "type": "scatter3d"
           }
          ],
          "scattercarpet": [
           {
            "marker": {
             "colorbar": {
              "outlinewidth": 0,
              "ticks": ""
             }
            },
            "type": "scattercarpet"
           }
          ],
          "scattergeo": [
           {
            "marker": {
             "colorbar": {
              "outlinewidth": 0,
              "ticks": ""
             }
            },
            "type": "scattergeo"
           }
          ],
          "scattergl": [
           {
            "marker": {
             "colorbar": {
              "outlinewidth": 0,
              "ticks": ""
             }
            },
            "type": "scattergl"
           }
          ],
          "scattermapbox": [
           {
            "marker": {
             "colorbar": {
              "outlinewidth": 0,
              "ticks": ""
             }
            },
            "type": "scattermapbox"
           }
          ],
          "scatterpolar": [
           {
            "marker": {
             "colorbar": {
              "outlinewidth": 0,
              "ticks": ""
             }
            },
            "type": "scatterpolar"
           }
          ],
          "scatterpolargl": [
           {
            "marker": {
             "colorbar": {
              "outlinewidth": 0,
              "ticks": ""
             }
            },
            "type": "scatterpolargl"
           }
          ],
          "scatterternary": [
           {
            "marker": {
             "colorbar": {
              "outlinewidth": 0,
              "ticks": ""
             }
            },
            "type": "scatterternary"
           }
          ],
          "surface": [
           {
            "colorbar": {
             "outlinewidth": 0,
             "ticks": ""
            },
            "colorscale": [
             [
              0,
              "#0d0887"
             ],
             [
              0.1111111111111111,
              "#46039f"
             ],
             [
              0.2222222222222222,
              "#7201a8"
             ],
             [
              0.3333333333333333,
              "#9c179e"
             ],
             [
              0.4444444444444444,
              "#bd3786"
             ],
             [
              0.5555555555555556,
              "#d8576b"
             ],
             [
              0.6666666666666666,
              "#ed7953"
             ],
             [
              0.7777777777777778,
              "#fb9f3a"
             ],
             [
              0.8888888888888888,
              "#fdca26"
             ],
             [
              1,
              "#f0f921"
             ]
            ],
            "type": "surface"
           }
          ],
          "table": [
           {
            "cells": {
             "fill": {
              "color": "#EBF0F8"
             },
             "line": {
              "color": "white"
             }
            },
            "header": {
             "fill": {
              "color": "#C8D4E3"
             },
             "line": {
              "color": "white"
             }
            },
            "type": "table"
           }
          ]
         },
         "layout": {
          "annotationdefaults": {
           "arrowcolor": "#2a3f5f",
           "arrowhead": 0,
           "arrowwidth": 1
          },
          "coloraxis": {
           "colorbar": {
            "outlinewidth": 0,
            "ticks": ""
           }
          },
          "colorscale": {
           "diverging": [
            [
             0,
             "#8e0152"
            ],
            [
             0.1,
             "#c51b7d"
            ],
            [
             0.2,
             "#de77ae"
            ],
            [
             0.3,
             "#f1b6da"
            ],
            [
             0.4,
             "#fde0ef"
            ],
            [
             0.5,
             "#f7f7f7"
            ],
            [
             0.6,
             "#e6f5d0"
            ],
            [
             0.7,
             "#b8e186"
            ],
            [
             0.8,
             "#7fbc41"
            ],
            [
             0.9,
             "#4d9221"
            ],
            [
             1,
             "#276419"
            ]
           ],
           "sequential": [
            [
             0,
             "#0d0887"
            ],
            [
             0.1111111111111111,
             "#46039f"
            ],
            [
             0.2222222222222222,
             "#7201a8"
            ],
            [
             0.3333333333333333,
             "#9c179e"
            ],
            [
             0.4444444444444444,
             "#bd3786"
            ],
            [
             0.5555555555555556,
             "#d8576b"
            ],
            [
             0.6666666666666666,
             "#ed7953"
            ],
            [
             0.7777777777777778,
             "#fb9f3a"
            ],
            [
             0.8888888888888888,
             "#fdca26"
            ],
            [
             1,
             "#f0f921"
            ]
           ],
           "sequentialminus": [
            [
             0,
             "#0d0887"
            ],
            [
             0.1111111111111111,
             "#46039f"
            ],
            [
             0.2222222222222222,
             "#7201a8"
            ],
            [
             0.3333333333333333,
             "#9c179e"
            ],
            [
             0.4444444444444444,
             "#bd3786"
            ],
            [
             0.5555555555555556,
             "#d8576b"
            ],
            [
             0.6666666666666666,
             "#ed7953"
            ],
            [
             0.7777777777777778,
             "#fb9f3a"
            ],
            [
             0.8888888888888888,
             "#fdca26"
            ],
            [
             1,
             "#f0f921"
            ]
           ]
          },
          "colorway": [
           "#636efa",
           "#EF553B",
           "#00cc96",
           "#ab63fa",
           "#FFA15A",
           "#19d3f3",
           "#FF6692",
           "#B6E880",
           "#FF97FF",
           "#FECB52"
          ],
          "font": {
           "color": "#2a3f5f"
          },
          "geo": {
           "bgcolor": "white",
           "lakecolor": "white",
           "landcolor": "#E5ECF6",
           "showlakes": true,
           "showland": true,
           "subunitcolor": "white"
          },
          "hoverlabel": {
           "align": "left"
          },
          "hovermode": "closest",
          "mapbox": {
           "style": "light"
          },
          "paper_bgcolor": "white",
          "plot_bgcolor": "#E5ECF6",
          "polar": {
           "angularaxis": {
            "gridcolor": "white",
            "linecolor": "white",
            "ticks": ""
           },
           "bgcolor": "#E5ECF6",
           "radialaxis": {
            "gridcolor": "white",
            "linecolor": "white",
            "ticks": ""
           }
          },
          "scene": {
           "xaxis": {
            "backgroundcolor": "#E5ECF6",
            "gridcolor": "white",
            "gridwidth": 2,
            "linecolor": "white",
            "showbackground": true,
            "ticks": "",
            "zerolinecolor": "white"
           },
           "yaxis": {
            "backgroundcolor": "#E5ECF6",
            "gridcolor": "white",
            "gridwidth": 2,
            "linecolor": "white",
            "showbackground": true,
            "ticks": "",
            "zerolinecolor": "white"
           },
           "zaxis": {
            "backgroundcolor": "#E5ECF6",
            "gridcolor": "white",
            "gridwidth": 2,
            "linecolor": "white",
            "showbackground": true,
            "ticks": "",
            "zerolinecolor": "white"
           }
          },
          "shapedefaults": {
           "line": {
            "color": "#2a3f5f"
           }
          },
          "ternary": {
           "aaxis": {
            "gridcolor": "white",
            "linecolor": "white",
            "ticks": ""
           },
           "baxis": {
            "gridcolor": "white",
            "linecolor": "white",
            "ticks": ""
           },
           "bgcolor": "#E5ECF6",
           "caxis": {
            "gridcolor": "white",
            "linecolor": "white",
            "ticks": ""
           }
          },
          "title": {
           "x": 0.05
          },
          "xaxis": {
           "automargin": true,
           "gridcolor": "white",
           "linecolor": "white",
           "ticks": "",
           "title": {
            "standoff": 15
           },
           "zerolinecolor": "white",
           "zerolinewidth": 2
          },
          "yaxis": {
           "automargin": true,
           "gridcolor": "white",
           "linecolor": "white",
           "ticks": "",
           "title": {
            "standoff": 15
           },
           "zerolinecolor": "white",
           "zerolinewidth": 2
          }
         }
        },
        "xaxis": {
         "anchor": "y",
         "autorange": true,
         "domain": [
          0,
          1
         ],
         "range": [
          -0.06022880215343204,
          1.060228802153432
         ],
         "title": {
          "text": "x_value"
         },
         "type": "linear"
        },
        "yaxis": {
         "anchor": "x",
         "autorange": true,
         "domain": [
          0,
          1
         ],
         "range": [
          -0.070902394106814,
          1.070902394106814
         ],
         "title": {
          "text": "y_value"
         },
         "type": "linear"
        }
       }
      },
      "image/png": "[encoded data removed]"
     },
     "metadata": {},
     "output_type": "display_data"
    }
   ],
   "source": [
    "import pandas as pd\n",
    "import numpy as py\n",
    "import plotly.express as px\n",
    "\n",
    "# Define data as dictionary\n",
    "d = {'x_value': [0, 1], 'y_value': [0, 1]}\n",
    "\n",
    "# Convert dict to data frame\n",
    "two_points = pd.DataFrame(data = d)\n",
    "\n",
    "# Draw two points\n",
    "px.scatter( # Geometric Objects in ggplot: Tell ggplot what kind of plot you need.\n",
    "    two_points, # Data in ggplot: tell ggplot the data source.\n",
    "    x = 'x_value', y = 'y_value' # Aesthetics in ggplot: Define x variables and y variables.\n",
    ")\n"
   ]
  },
  {
   "cell_type": "code",
   "execution_count": 3,
   "metadata": {},
   "outputs": [
    {
     "data": {
      "application/vnd.plotly.v1+json": {
       "config": {
        "plotlyServerURL": "https://plot.ly"
       },
       "data": [
        {
         "hoverlabel": {
          "namelength": 0
         },
         "hovertemplate": "x_value=%{x}<br>y_value=%{y}",
         "legendgroup": "",
         "marker": {
          "color": "#636efa",
          "symbol": "circle"
         },
         "mode": "markers",
         "name": "",
         "showlegend": false,
         "type": "scatter",
         "x": [
          0,
          1
         ],
         "xaxis": "x",
         "y": [
          0,
          1
         ],
         "yaxis": "y"
        }
       ],
       "layout": {
        "autosize": true,
        "legend": {
         "tracegroupgap": 0
        },
        "margin": {
         "t": 60
        },
        "template": {
         "data": {
          "bar": [
           {
            "error_x": {
             "color": "#2a3f5f"
            },
            "error_y": {
             "color": "#2a3f5f"
            },
            "marker": {
             "line": {
              "color": "#E5ECF6",
              "width": 0.5
             }
            },
            "type": "bar"
           }
          ],
          "barpolar": [
           {
            "marker": {
             "line": {
              "color": "#E5ECF6",
              "width": 0.5
             }
            },
            "type": "barpolar"
           }
          ],
          "carpet": [
           {
            "aaxis": {
             "endlinecolor": "#2a3f5f",
             "gridcolor": "white",
             "linecolor": "white",
             "minorgridcolor": "white",
             "startlinecolor": "#2a3f5f"
            },
            "baxis": {
             "endlinecolor": "#2a3f5f",
             "gridcolor": "white",
             "linecolor": "white",
             "minorgridcolor": "white",
             "startlinecolor": "#2a3f5f"
            },
            "type": "carpet"
           }
          ],
          "choropleth": [
           {
            "colorbar": {
             "outlinewidth": 0,
             "ticks": ""
            },
            "type": "choropleth"
           }
          ],
          "contour": [
           {
            "colorbar": {
             "outlinewidth": 0,
             "ticks": ""
            },
            "colorscale": [
             [
              0,
              "#0d0887"
             ],
             [
              0.1111111111111111,
              "#46039f"
             ],
             [
              0.2222222222222222,
              "#7201a8"
             ],
             [
              0.3333333333333333,
              "#9c179e"
             ],
             [
              0.4444444444444444,
              "#bd3786"
             ],
             [
              0.5555555555555556,
              "#d8576b"
             ],
             [
              0.6666666666666666,
              "#ed7953"
             ],
             [
              0.7777777777777778,
              "#fb9f3a"
             ],
             [
              0.8888888888888888,
              "#fdca26"
             ],
             [
              1,
              "#f0f921"
             ]
            ],
            "type": "contour"
           }
          ],
          "contourcarpet": [
           {
            "colorbar": {
             "outlinewidth": 0,
             "ticks": ""
            },
            "type": "contourcarpet"
           }
          ],
          "heatmap": [
           {
            "colorbar": {
             "outlinewidth": 0,
             "ticks": ""
            },
            "colorscale": [
             [
              0,
              "#0d0887"
             ],
             [
              0.1111111111111111,
              "#46039f"
             ],
             [
              0.2222222222222222,
              "#7201a8"
             ],
             [
              0.3333333333333333,
              "#9c179e"
             ],
             [
              0.4444444444444444,
              "#bd3786"
             ],
             [
              0.5555555555555556,
              "#d8576b"
             ],
             [
              0.6666666666666666,
              "#ed7953"
             ],
             [
              0.7777777777777778,
              "#fb9f3a"
             ],
             [
              0.8888888888888888,
              "#fdca26"
             ],
             [
              1,
              "#f0f921"
             ]
            ],
            "type": "heatmap"
           }
          ],
          "heatmapgl": [
           {
            "colorbar": {
             "outlinewidth": 0,
             "ticks": ""
            },
            "colorscale": [
             [
              0,
              "#0d0887"
             ],
             [
              0.1111111111111111,
              "#46039f"
             ],
             [
              0.2222222222222222,
              "#7201a8"
             ],
             [
              0.3333333333333333,
              "#9c179e"
             ],
             [
              0.4444444444444444,
              "#bd3786"
             ],
             [
              0.5555555555555556,
              "#d8576b"
             ],
             [
              0.6666666666666666,
              "#ed7953"
             ],
             [
              0.7777777777777778,
              "#fb9f3a"
             ],
             [
              0.8888888888888888,
              "#fdca26"
             ],
             [
              1,
              "#f0f921"
             ]
            ],
            "type": "heatmapgl"
           }
          ],
          "histogram": [
           {
            "marker": {
             "colorbar": {
              "outlinewidth": 0,
              "ticks": ""
             }
            },
            "type": "histogram"
           }
          ],
          "histogram2d": [
           {
            "colorbar": {
             "outlinewidth": 0,
             "ticks": ""
            },
            "colorscale": [
             [
              0,
              "#0d0887"
             ],
             [
              0.1111111111111111,
              "#46039f"
             ],
             [
              0.2222222222222222,
              "#7201a8"
             ],
             [
              0.3333333333333333,
              "#9c179e"
             ],
             [
              0.4444444444444444,
              "#bd3786"
             ],
             [
              0.5555555555555556,
              "#d8576b"
             ],
             [
              0.6666666666666666,
              "#ed7953"
             ],
             [
              0.7777777777777778,
              "#fb9f3a"
             ],
             [
              0.8888888888888888,
              "#fdca26"
             ],
             [
              1,
              "#f0f921"
             ]
            ],
            "type": "histogram2d"
           }
          ],
          "histogram2dcontour": [
           {
            "colorbar": {
             "outlinewidth": 0,
             "ticks": ""
            },
            "colorscale": [
             [
              0,
              "#0d0887"
             ],
             [
              0.1111111111111111,
              "#46039f"
             ],
             [
              0.2222222222222222,
              "#7201a8"
             ],
             [
              0.3333333333333333,
              "#9c179e"
             ],
             [
              0.4444444444444444,
              "#bd3786"
             ],
             [
              0.5555555555555556,
              "#d8576b"
             ],
             [
              0.6666666666666666,
              "#ed7953"
             ],
             [
              0.7777777777777778,
              "#fb9f3a"
             ],
             [
              0.8888888888888888,
              "#fdca26"
             ],
             [
              1,
              "#f0f921"
             ]
            ],
            "type": "histogram2dcontour"
           }
          ],
          "mesh3d": [
           {
            "colorbar": {
             "outlinewidth": 0,
             "ticks": ""
            },
            "type": "mesh3d"
           }
          ],
          "parcoords": [
           {
            "line": {
             "colorbar": {
              "outlinewidth": 0,
              "ticks": ""
             }
            },
            "type": "parcoords"
           }
          ],
          "pie": [
           {
            "automargin": true,
            "type": "pie"
           }
          ],
          "scatter": [
           {
            "marker": {
             "colorbar": {
              "outlinewidth": 0,
              "ticks": ""
             }
            },
            "type": "scatter"
           }
          ],
          "scatter3d": [
           {
            "line": {
             "colorbar": {
              "outlinewidth": 0,
              "ticks": ""
             }
            },
            "marker": {
             "colorbar": {
              "outlinewidth": 0,
              "ticks": ""
             }
            },
            "type": "scatter3d"
           }
          ],
          "scattercarpet": [
           {
            "marker": {
             "colorbar": {
              "outlinewidth": 0,
              "ticks": ""
             }
            },
            "type": "scattercarpet"
           }
          ],
          "scattergeo": [
           {
            "marker": {
             "colorbar": {
              "outlinewidth": 0,
              "ticks": ""
             }
            },
            "type": "scattergeo"
           }
          ],
          "scattergl": [
           {
            "marker": {
             "colorbar": {
              "outlinewidth": 0,
              "ticks": ""
             }
            },
            "type": "scattergl"
           }
          ],
          "scattermapbox": [
           {
            "marker": {
             "colorbar": {
              "outlinewidth": 0,
              "ticks": ""
             }
            },
            "type": "scattermapbox"
           }
          ],
          "scatterpolar": [
           {
            "marker": {
             "colorbar": {
              "outlinewidth": 0,
              "ticks": ""
             }
            },
            "type": "scatterpolar"
           }
          ],
          "scatterpolargl": [
           {
            "marker": {
             "colorbar": {
              "outlinewidth": 0,
              "ticks": ""
             }
            },
            "type": "scatterpolargl"
           }
          ],
          "scatterternary": [
           {
            "marker": {
             "colorbar": {
              "outlinewidth": 0,
              "ticks": ""
             }
            },
            "type": "scatterternary"
           }
          ],
          "surface": [
           {
            "colorbar": {
             "outlinewidth": 0,
             "ticks": ""
            },
            "colorscale": [
             [
              0,
              "#0d0887"
             ],
             [
              0.1111111111111111,
              "#46039f"
             ],
             [
              0.2222222222222222,
              "#7201a8"
             ],
             [
              0.3333333333333333,
              "#9c179e"
             ],
             [
              0.4444444444444444,
              "#bd3786"
             ],
             [
              0.5555555555555556,
              "#d8576b"
             ],
             [
              0.6666666666666666,
              "#ed7953"
             ],
             [
              0.7777777777777778,
              "#fb9f3a"
             ],
             [
              0.8888888888888888,
              "#fdca26"
             ],
             [
              1,
              "#f0f921"
             ]
            ],
            "type": "surface"
           }
          ],
          "table": [
           {
            "cells": {
             "fill": {
              "color": "#EBF0F8"
             },
             "line": {
              "color": "white"
             }
            },
            "header": {
             "fill": {
              "color": "#C8D4E3"
             },
             "line": {
              "color": "white"
             }
            },
            "type": "table"
           }
          ]
         },
         "layout": {
          "annotationdefaults": {
           "arrowcolor": "#2a3f5f",
           "arrowhead": 0,
           "arrowwidth": 1
          },
          "coloraxis": {
           "colorbar": {
            "outlinewidth": 0,
            "ticks": ""
           }
          },
          "colorscale": {
           "diverging": [
            [
             0,
             "#8e0152"
            ],
            [
             0.1,
             "#c51b7d"
            ],
            [
             0.2,
             "#de77ae"
            ],
            [
             0.3,
             "#f1b6da"
            ],
            [
             0.4,
             "#fde0ef"
            ],
            [
             0.5,
             "#f7f7f7"
            ],
            [
             0.6,
             "#e6f5d0"
            ],
            [
             0.7,
             "#b8e186"
            ],
            [
             0.8,
             "#7fbc41"
            ],
            [
             0.9,
             "#4d9221"
            ],
            [
             1,
             "#276419"
            ]
           ],
           "sequential": [
            [
             0,
             "#0d0887"
            ],
            [
             0.1111111111111111,
             "#46039f"
            ],
            [
             0.2222222222222222,
             "#7201a8"
            ],
            [
             0.3333333333333333,
             "#9c179e"
            ],
            [
             0.4444444444444444,
             "#bd3786"
            ],
            [
             0.5555555555555556,
             "#d8576b"
            ],
            [
             0.6666666666666666,
             "#ed7953"
            ],
            [
             0.7777777777777778,
             "#fb9f3a"
            ],
            [
             0.8888888888888888,
             "#fdca26"
            ],
            [
             1,
             "#f0f921"
            ]
           ],
           "sequentialminus": [
            [
             0,
             "#0d0887"
            ],
            [
             0.1111111111111111,
             "#46039f"
            ],
            [
             0.2222222222222222,
             "#7201a8"
            ],
            [
             0.3333333333333333,
             "#9c179e"
            ],
            [
             0.4444444444444444,
             "#bd3786"
            ],
            [
             0.5555555555555556,
             "#d8576b"
            ],
            [
             0.6666666666666666,
             "#ed7953"
            ],
            [
             0.7777777777777778,
             "#fb9f3a"
            ],
            [
             0.8888888888888888,
             "#fdca26"
            ],
            [
             1,
             "#f0f921"
            ]
           ]
          },
          "colorway": [
           "#636efa",
           "#EF553B",
           "#00cc96",
           "#ab63fa",
           "#FFA15A",
           "#19d3f3",
           "#FF6692",
           "#B6E880",
           "#FF97FF",
           "#FECB52"
          ],
          "font": {
           "color": "#2a3f5f"
          },
          "geo": {
           "bgcolor": "white",
           "lakecolor": "white",
           "landcolor": "#E5ECF6",
           "showlakes": true,
           "showland": true,
           "subunitcolor": "white"
          },
          "hoverlabel": {
           "align": "left"
          },
          "hovermode": "closest",
          "mapbox": {
           "style": "light"
          },
          "paper_bgcolor": "white",
          "plot_bgcolor": "#E5ECF6",
          "polar": {
           "angularaxis": {
            "gridcolor": "white",
            "linecolor": "white",
            "ticks": ""
           },
           "bgcolor": "#E5ECF6",
           "radialaxis": {
            "gridcolor": "white",
            "linecolor": "white",
            "ticks": ""
           }
          },
          "scene": {
           "xaxis": {
            "backgroundcolor": "#E5ECF6",
            "gridcolor": "white",
            "gridwidth": 2,
            "linecolor": "white",
            "showbackground": true,
            "ticks": "",
            "zerolinecolor": "white"
           },
           "yaxis": {
            "backgroundcolor": "#E5ECF6",
            "gridcolor": "white",
            "gridwidth": 2,
            "linecolor": "white",
            "showbackground": true,
            "ticks": "",
            "zerolinecolor": "white"
           },
           "zaxis": {
            "backgroundcolor": "#E5ECF6",
            "gridcolor": "white",
            "gridwidth": 2,
            "linecolor": "white",
            "showbackground": true,
            "ticks": "",
            "zerolinecolor": "white"
           }
          },
          "shapedefaults": {
           "line": {
            "color": "#2a3f5f"
           }
          },
          "ternary": {
           "aaxis": {
            "gridcolor": "white",
            "linecolor": "white",
            "ticks": ""
           },
           "baxis": {
            "gridcolor": "white",
            "linecolor": "white",
            "ticks": ""
           },
           "bgcolor": "#E5ECF6",
           "caxis": {
            "gridcolor": "white",
            "linecolor": "white",
            "ticks": ""
           }
          },
          "title": {
           "x": 0.05
          },
          "xaxis": {
           "automargin": true,
           "gridcolor": "white",
           "linecolor": "white",
           "ticks": "",
           "title": {
            "standoff": 15
           },
           "zerolinecolor": "white",
           "zerolinewidth": 2
          },
          "yaxis": {
           "automargin": true,
           "gridcolor": "white",
           "linecolor": "white",
           "ticks": "",
           "title": {
            "standoff": 15
           },
           "zerolinecolor": "white",
           "zerolinewidth": 2
          }
         }
        },
        "xaxis": {
         "anchor": "y",
         "autorange": true,
         "domain": [
          0,
          1
         ],
         "range": [
          -0.06022880215343204,
          1.060228802153432
         ],
         "title": {
          "text": "x_value"
         },
         "type": "linear"
        },
        "yaxis": {
         "anchor": "x",
         "autorange": true,
         "domain": [
          0,
          1
         ],
         "range": [
          -0.070902394106814,
          1.070902394106814
         ],
         "title": {
          "text": "y_value"
         },
         "type": "linear"
        }
       }
      },
      "image/png": "[encoded data removed]"
     },
     "metadata": {},
     "output_type": "display_data"
    }
   ],
   "source": [
    "# Draw two points\n",
    "fig = px.scatter(two_points, x = 'x_value', y = 'y_value')\n",
    "fig.show()"
   ]
  },
  {
   "cell_type": "code",
   "execution_count": 4,
   "metadata": {},
   "outputs": [
    {
     "data": {
      "application/vnd.plotly.v1+json": {
       "config": {
        "plotlyServerURL": "https://plot.ly"
       },
       "data": [
        {
         "hoverlabel": {
          "namelength": 0
         },
         "hovertemplate": "x_value=%{x}<br>y_value=%{y}",
         "legendgroup": "",
         "line": {
          "color": "#636efa",
          "dash": "solid"
         },
         "mode": "lines",
         "name": "",
         "showlegend": false,
         "type": "scatter",
         "x": [
          0,
          1
         ],
         "xaxis": "x",
         "y": [
          0,
          1
         ],
         "yaxis": "y"
        }
       ],
       "layout": {
        "autosize": true,
        "legend": {
         "tracegroupgap": 0
        },
        "margin": {
         "t": 60
        },
        "template": {
         "data": {
          "bar": [
           {
            "error_x": {
             "color": "#2a3f5f"
            },
            "error_y": {
             "color": "#2a3f5f"
            },
            "marker": {
             "line": {
              "color": "#E5ECF6",
              "width": 0.5
             }
            },
            "type": "bar"
           }
          ],
          "barpolar": [
           {
            "marker": {
             "line": {
              "color": "#E5ECF6",
              "width": 0.5
             }
            },
            "type": "barpolar"
           }
          ],
          "carpet": [
           {
            "aaxis": {
             "endlinecolor": "#2a3f5f",
             "gridcolor": "white",
             "linecolor": "white",
             "minorgridcolor": "white",
             "startlinecolor": "#2a3f5f"
            },
            "baxis": {
             "endlinecolor": "#2a3f5f",
             "gridcolor": "white",
             "linecolor": "white",
             "minorgridcolor": "white",
             "startlinecolor": "#2a3f5f"
            },
            "type": "carpet"
           }
          ],
          "choropleth": [
           {
            "colorbar": {
             "outlinewidth": 0,
             "ticks": ""
            },
            "type": "choropleth"
           }
          ],
          "contour": [
           {
            "colorbar": {
             "outlinewidth": 0,
             "ticks": ""
            },
            "colorscale": [
             [
              0,
              "#0d0887"
             ],
             [
              0.1111111111111111,
              "#46039f"
             ],
             [
              0.2222222222222222,
              "#7201a8"
             ],
             [
              0.3333333333333333,
              "#9c179e"
             ],
             [
              0.4444444444444444,
              "#bd3786"
             ],
             [
              0.5555555555555556,
              "#d8576b"
             ],
             [
              0.6666666666666666,
              "#ed7953"
             ],
             [
              0.7777777777777778,
              "#fb9f3a"
             ],
             [
              0.8888888888888888,
              "#fdca26"
             ],
             [
              1,
              "#f0f921"
             ]
            ],
            "type": "contour"
           }
          ],
          "contourcarpet": [
           {
            "colorbar": {
             "outlinewidth": 0,
             "ticks": ""
            },
            "type": "contourcarpet"
           }
          ],
          "heatmap": [
           {
            "colorbar": {
             "outlinewidth": 0,
             "ticks": ""
            },
            "colorscale": [
             [
              0,
              "#0d0887"
             ],
             [
              0.1111111111111111,
              "#46039f"
             ],
             [
              0.2222222222222222,
              "#7201a8"
             ],
             [
              0.3333333333333333,
              "#9c179e"
             ],
             [
              0.4444444444444444,
              "#bd3786"
             ],
             [
              0.5555555555555556,
              "#d8576b"
             ],
             [
              0.6666666666666666,
              "#ed7953"
             ],
             [
              0.7777777777777778,
              "#fb9f3a"
             ],
             [
              0.8888888888888888,
              "#fdca26"
             ],
             [
              1,
              "#f0f921"
             ]
            ],
            "type": "heatmap"
           }
          ],
          "heatmapgl": [
           {
            "colorbar": {
             "outlinewidth": 0,
             "ticks": ""
            },
            "colorscale": [
             [
              0,
              "#0d0887"
             ],
             [
              0.1111111111111111,
              "#46039f"
             ],
             [
              0.2222222222222222,
              "#7201a8"
             ],
             [
              0.3333333333333333,
              "#9c179e"
             ],
             [
              0.4444444444444444,
              "#bd3786"
             ],
             [
              0.5555555555555556,
              "#d8576b"
             ],
             [
              0.6666666666666666,
              "#ed7953"
             ],
             [
              0.7777777777777778,
              "#fb9f3a"
             ],
             [
              0.8888888888888888,
              "#fdca26"
             ],
             [
              1,
              "#f0f921"
             ]
            ],
            "type": "heatmapgl"
           }
          ],
          "histogram": [
           {
            "marker": {
             "colorbar": {
              "outlinewidth": 0,
              "ticks": ""
             }
            },
            "type": "histogram"
           }
          ],
          "histogram2d": [
           {
            "colorbar": {
             "outlinewidth": 0,
             "ticks": ""
            },
            "colorscale": [
             [
              0,
              "#0d0887"
             ],
             [
              0.1111111111111111,
              "#46039f"
             ],
             [
              0.2222222222222222,
              "#7201a8"
             ],
             [
              0.3333333333333333,
              "#9c179e"
             ],
             [
              0.4444444444444444,
              "#bd3786"
             ],
             [
              0.5555555555555556,
              "#d8576b"
             ],
             [
              0.6666666666666666,
              "#ed7953"
             ],
             [
              0.7777777777777778,
              "#fb9f3a"
             ],
             [
              0.8888888888888888,
              "#fdca26"
             ],
             [
              1,
              "#f0f921"
             ]
            ],
            "type": "histogram2d"
           }
          ],
          "histogram2dcontour": [
           {
            "colorbar": {
             "outlinewidth": 0,
             "ticks": ""
            },
            "colorscale": [
             [
              0,
              "#0d0887"
             ],
             [
              0.1111111111111111,
              "#46039f"
             ],
             [
              0.2222222222222222,
              "#7201a8"
             ],
             [
              0.3333333333333333,
              "#9c179e"
             ],
             [
              0.4444444444444444,
              "#bd3786"
             ],
             [
              0.5555555555555556,
              "#d8576b"
             ],
             [
              0.6666666666666666,
              "#ed7953"
             ],
             [
              0.7777777777777778,
              "#fb9f3a"
             ],
             [
              0.8888888888888888,
              "#fdca26"
             ],
             [
              1,
              "#f0f921"
             ]
            ],
            "type": "histogram2dcontour"
           }
          ],
          "mesh3d": [
           {
            "colorbar": {
             "outlinewidth": 0,
             "ticks": ""
            },
            "type": "mesh3d"
           }
          ],
          "parcoords": [
           {
            "line": {
             "colorbar": {
              "outlinewidth": 0,
              "ticks": ""
             }
            },
            "type": "parcoords"
           }
          ],
          "pie": [
           {
            "automargin": true,
            "type": "pie"
           }
          ],
          "scatter": [
           {
            "marker": {
             "colorbar": {
              "outlinewidth": 0,
              "ticks": ""
             }
            },
            "type": "scatter"
           }
          ],
          "scatter3d": [
           {
            "line": {
             "colorbar": {
              "outlinewidth": 0,
              "ticks": ""
             }
            },
            "marker": {
             "colorbar": {
              "outlinewidth": 0,
              "ticks": ""
             }
            },
            "type": "scatter3d"
           }
          ],
          "scattercarpet": [
           {
            "marker": {
             "colorbar": {
              "outlinewidth": 0,
              "ticks": ""
             }
            },
            "type": "scattercarpet"
           }
          ],
          "scattergeo": [
           {
            "marker": {
             "colorbar": {
              "outlinewidth": 0,
              "ticks": ""
             }
            },
            "type": "scattergeo"
           }
          ],
          "scattergl": [
           {
            "marker": {
             "colorbar": {
              "outlinewidth": 0,
              "ticks": ""
             }
            },
            "type": "scattergl"
           }
          ],
          "scattermapbox": [
           {
            "marker": {
             "colorbar": {
              "outlinewidth": 0,
              "ticks": ""
             }
            },
            "type": "scattermapbox"
           }
          ],
          "scatterpolar": [
           {
            "marker": {
             "colorbar": {
              "outlinewidth": 0,
              "ticks": ""
             }
            },
            "type": "scatterpolar"
           }
          ],
          "scatterpolargl": [
           {
            "marker": {
             "colorbar": {
              "outlinewidth": 0,
              "ticks": ""
             }
            },
            "type": "scatterpolargl"
           }
          ],
          "scatterternary": [
           {
            "marker": {
             "colorbar": {
              "outlinewidth": 0,
              "ticks": ""
             }
            },
            "type": "scatterternary"
           }
          ],
          "surface": [
           {
            "colorbar": {
             "outlinewidth": 0,
             "ticks": ""
            },
            "colorscale": [
             [
              0,
              "#0d0887"
             ],
             [
              0.1111111111111111,
              "#46039f"
             ],
             [
              0.2222222222222222,
              "#7201a8"
             ],
             [
              0.3333333333333333,
              "#9c179e"
             ],
             [
              0.4444444444444444,
              "#bd3786"
             ],
             [
              0.5555555555555556,
              "#d8576b"
             ],
             [
              0.6666666666666666,
              "#ed7953"
             ],
             [
              0.7777777777777778,
              "#fb9f3a"
             ],
             [
              0.8888888888888888,
              "#fdca26"
             ],
             [
              1,
              "#f0f921"
             ]
            ],
            "type": "surface"
           }
          ],
          "table": [
           {
            "cells": {
             "fill": {
              "color": "#EBF0F8"
             },
             "line": {
              "color": "white"
             }
            },
            "header": {
             "fill": {
              "color": "#C8D4E3"
             },
             "line": {
              "color": "white"
             }
            },
            "type": "table"
           }
          ]
         },
         "layout": {
          "annotationdefaults": {
           "arrowcolor": "#2a3f5f",
           "arrowhead": 0,
           "arrowwidth": 1
          },
          "coloraxis": {
           "colorbar": {
            "outlinewidth": 0,
            "ticks": ""
           }
          },
          "colorscale": {
           "diverging": [
            [
             0,
             "#8e0152"
            ],
            [
             0.1,
             "#c51b7d"
            ],
            [
             0.2,
             "#de77ae"
            ],
            [
             0.3,
             "#f1b6da"
            ],
            [
             0.4,
             "#fde0ef"
            ],
            [
             0.5,
             "#f7f7f7"
            ],
            [
             0.6,
             "#e6f5d0"
            ],
            [
             0.7,
             "#b8e186"
            ],
            [
             0.8,
             "#7fbc41"
            ],
            [
             0.9,
             "#4d9221"
            ],
            [
             1,
             "#276419"
            ]
           ],
           "sequential": [
            [
             0,
             "#0d0887"
            ],
            [
             0.1111111111111111,
             "#46039f"
            ],
            [
             0.2222222222222222,
             "#7201a8"
            ],
            [
             0.3333333333333333,
             "#9c179e"
            ],
            [
             0.4444444444444444,
             "#bd3786"
            ],
            [
             0.5555555555555556,
             "#d8576b"
            ],
            [
             0.6666666666666666,
             "#ed7953"
            ],
            [
             0.7777777777777778,
             "#fb9f3a"
            ],
            [
             0.8888888888888888,
             "#fdca26"
            ],
            [
             1,
             "#f0f921"
            ]
           ],
           "sequentialminus": [
            [
             0,
             "#0d0887"
            ],
            [
             0.1111111111111111,
             "#46039f"
            ],
            [
             0.2222222222222222,
             "#7201a8"
            ],
            [
             0.3333333333333333,
             "#9c179e"
            ],
            [
             0.4444444444444444,
             "#bd3786"
            ],
            [
             0.5555555555555556,
             "#d8576b"
            ],
            [
             0.6666666666666666,
             "#ed7953"
            ],
            [
             0.7777777777777778,
             "#fb9f3a"
            ],
            [
             0.8888888888888888,
             "#fdca26"
            ],
            [
             1,
             "#f0f921"
            ]
           ]
          },
          "colorway": [
           "#636efa",
           "#EF553B",
           "#00cc96",
           "#ab63fa",
           "#FFA15A",
           "#19d3f3",
           "#FF6692",
           "#B6E880",
           "#FF97FF",
           "#FECB52"
          ],
          "font": {
           "color": "#2a3f5f"
          },
          "geo": {
           "bgcolor": "white",
           "lakecolor": "white",
           "landcolor": "#E5ECF6",
           "showlakes": true,
           "showland": true,
           "subunitcolor": "white"
          },
          "hoverlabel": {
           "align": "left"
          },
          "hovermode": "closest",
          "mapbox": {
           "style": "light"
          },
          "paper_bgcolor": "white",
          "plot_bgcolor": "#E5ECF6",
          "polar": {
           "angularaxis": {
            "gridcolor": "white",
            "linecolor": "white",
            "ticks": ""
           },
           "bgcolor": "#E5ECF6",
           "radialaxis": {
            "gridcolor": "white",
            "linecolor": "white",
            "ticks": ""
           }
          },
          "scene": {
           "xaxis": {
            "backgroundcolor": "#E5ECF6",
            "gridcolor": "white",
            "gridwidth": 2,
            "linecolor": "white",
            "showbackground": true,
            "ticks": "",
            "zerolinecolor": "white"
           },
           "yaxis": {
            "backgroundcolor": "#E5ECF6",
            "gridcolor": "white",
            "gridwidth": 2,
            "linecolor": "white",
            "showbackground": true,
            "ticks": "",
            "zerolinecolor": "white"
           },
           "zaxis": {
            "backgroundcolor": "#E5ECF6",
            "gridcolor": "white",
            "gridwidth": 2,
            "linecolor": "white",
            "showbackground": true,
            "ticks": "",
            "zerolinecolor": "white"
           }
          },
          "shapedefaults": {
           "line": {
            "color": "#2a3f5f"
           }
          },
          "ternary": {
           "aaxis": {
            "gridcolor": "white",
            "linecolor": "white",
            "ticks": ""
           },
           "baxis": {
            "gridcolor": "white",
            "linecolor": "white",
            "ticks": ""
           },
           "bgcolor": "#E5ECF6",
           "caxis": {
            "gridcolor": "white",
            "linecolor": "white",
            "ticks": ""
           }
          },
          "title": {
           "x": 0.05
          },
          "xaxis": {
           "automargin": true,
           "gridcolor": "white",
           "linecolor": "white",
           "ticks": "",
           "title": {
            "standoff": 15
           },
           "zerolinecolor": "white",
           "zerolinewidth": 2
          },
          "yaxis": {
           "automargin": true,
           "gridcolor": "white",
           "linecolor": "white",
           "ticks": "",
           "title": {
            "standoff": 15
           },
           "zerolinecolor": "white",
           "zerolinewidth": 2
          }
         }
        },
        "xaxis": {
         "anchor": "y",
         "autorange": true,
         "domain": [
          0,
          1
         ],
         "range": [
          0,
          1
         ],
         "title": {
          "text": "x_value"
         },
         "type": "linear"
        },
        "yaxis": {
         "anchor": "x",
         "autorange": true,
         "domain": [
          0,
          1
         ],
         "range": [
          -0.05555555555555555,
          1.0555555555555556
         ],
         "title": {
          "text": "y_value"
         },
         "type": "linear"
        }
       }
      },
      "image/png": "[encoded data removed]"
     },
     "metadata": {},
     "output_type": "display_data"
    }
   ],
   "source": [
    "# Connect two points\n",
    "fig = px.line(two_points, x = 'x_value', y = 'y_value') # Change the chart type\n",
    "fig.show()"
   ]
  },
  {
   "cell_type": "code",
   "execution_count": 9,
   "metadata": {},
   "outputs": [
    {
     "data": {
      "application/vnd.plotly.v1+json": {
       "config": {
        "plotlyServerURL": "https://plot.ly"
       },
       "data": [
        {
         "hoverlabel": {
          "namelength": 0
         },
         "hovertemplate": "mpg=%{x}<br>wt=%{y}",
         "legendgroup": "",
         "marker": {
          "color": "#636efa",
          "symbol": "circle"
         },
         "mode": "markers",
         "name": "",
         "showlegend": false,
         "type": "scatter",
         "x": [
          21,
          21,
          22.8,
          21.4,
          18.7,
          18.1,
          14.3,
          24.4,
          22.8,
          19.2,
          17.8,
          16.4,
          17.3,
          15.2,
          10.4,
          10.4,
          14.7,
          32.4,
          30.4,
          33.9,
          21.5,
          15.5,
          15.2,
          13.3,
          19.2,
          27.3,
          26,
          30.4,
          15.8,
          19.7,
          15,
          21.4
         ],
         "xaxis": "x",
         "y": [
          2.62,
          2.875,
          2.32,
          3.215,
          3.44,
          3.46,
          3.57,
          3.19,
          3.15,
          3.44,
          3.44,
          4.07,
          3.73,
          3.78,
          5.25,
          5.4239999999999995,
          5.345,
          2.2,
          1.615,
          1.835,
          2.465,
          3.52,
          3.435,
          3.84,
          3.845,
          1.935,
          2.14,
          1.5130000000000001,
          3.17,
          2.77,
          3.57,
          2.78
         ],
         "yaxis": "y"
        }
       ],
       "layout": {
        "autosize": true,
        "legend": {
         "tracegroupgap": 0
        },
        "margin": {
         "t": 60
        },
        "template": {
         "data": {
          "bar": [
           {
            "error_x": {
             "color": "#2a3f5f"
            },
            "error_y": {
             "color": "#2a3f5f"
            },
            "marker": {
             "line": {
              "color": "#E5ECF6",
              "width": 0.5
             }
            },
            "type": "bar"
           }
          ],
          "barpolar": [
           {
            "marker": {
             "line": {
              "color": "#E5ECF6",
              "width": 0.5
             }
            },
            "type": "barpolar"
           }
          ],
          "carpet": [
           {
            "aaxis": {
             "endlinecolor": "#2a3f5f",
             "gridcolor": "white",
             "linecolor": "white",
             "minorgridcolor": "white",
             "startlinecolor": "#2a3f5f"
            },
            "baxis": {
             "endlinecolor": "#2a3f5f",
             "gridcolor": "white",
             "linecolor": "white",
             "minorgridcolor": "white",
             "startlinecolor": "#2a3f5f"
            },
            "type": "carpet"
           }
          ],
          "choropleth": [
           {
            "colorbar": {
             "outlinewidth": 0,
             "ticks": ""
            },
            "type": "choropleth"
           }
          ],
          "contour": [
           {
            "colorbar": {
             "outlinewidth": 0,
             "ticks": ""
            },
            "colorscale": [
             [
              0,
              "#0d0887"
             ],
             [
              0.1111111111111111,
              "#46039f"
             ],
             [
              0.2222222222222222,
              "#7201a8"
             ],
             [
              0.3333333333333333,
              "#9c179e"
             ],
             [
              0.4444444444444444,
              "#bd3786"
             ],
             [
              0.5555555555555556,
              "#d8576b"
             ],
             [
              0.6666666666666666,
              "#ed7953"
             ],
             [
              0.7777777777777778,
              "#fb9f3a"
             ],
             [
              0.8888888888888888,
              "#fdca26"
             ],
             [
              1,
              "#f0f921"
             ]
            ],
            "type": "contour"
           }
          ],
          "contourcarpet": [
           {
            "colorbar": {
             "outlinewidth": 0,
             "ticks": ""
            },
            "type": "contourcarpet"
           }
          ],
          "heatmap": [
           {
            "colorbar": {
             "outlinewidth": 0,
             "ticks": ""
            },
            "colorscale": [
             [
              0,
              "#0d0887"
             ],
             [
              0.1111111111111111,
              "#46039f"
             ],
             [
              0.2222222222222222,
              "#7201a8"
             ],
             [
              0.3333333333333333,
              "#9c179e"
             ],
             [
              0.4444444444444444,
              "#bd3786"
             ],
             [
              0.5555555555555556,
              "#d8576b"
             ],
             [
              0.6666666666666666,
              "#ed7953"
             ],
             [
              0.7777777777777778,
              "#fb9f3a"
             ],
             [
              0.8888888888888888,
              "#fdca26"
             ],
             [
              1,
              "#f0f921"
             ]
            ],
            "type": "heatmap"
           }
          ],
          "heatmapgl": [
           {
            "colorbar": {
             "outlinewidth": 0,
             "ticks": ""
            },
            "colorscale": [
             [
              0,
              "#0d0887"
             ],
             [
              0.1111111111111111,
              "#46039f"
             ],
             [
              0.2222222222222222,
              "#7201a8"
             ],
             [
              0.3333333333333333,
              "#9c179e"
             ],
             [
              0.4444444444444444,
              "#bd3786"
             ],
             [
              0.5555555555555556,
              "#d8576b"
             ],
             [
              0.6666666666666666,
              "#ed7953"
             ],
             [
              0.7777777777777778,
              "#fb9f3a"
             ],
             [
              0.8888888888888888,
              "#fdca26"
             ],
             [
              1,
              "#f0f921"
             ]
            ],
            "type": "heatmapgl"
           }
          ],
          "histogram": [
           {
            "marker": {
             "colorbar": {
              "outlinewidth": 0,
              "ticks": ""
             }
            },
            "type": "histogram"
           }
          ],
          "histogram2d": [
           {
            "colorbar": {
             "outlinewidth": 0,
             "ticks": ""
            },
            "colorscale": [
             [
              0,
              "#0d0887"
             ],
             [
              0.1111111111111111,
              "#46039f"
             ],
             [
              0.2222222222222222,
              "#7201a8"
             ],
             [
              0.3333333333333333,
              "#9c179e"
             ],
             [
              0.4444444444444444,
              "#bd3786"
             ],
             [
              0.5555555555555556,
              "#d8576b"
             ],
             [
              0.6666666666666666,
              "#ed7953"
             ],
             [
              0.7777777777777778,
              "#fb9f3a"
             ],
             [
              0.8888888888888888,
              "#fdca26"
             ],
             [
              1,
              "#f0f921"
             ]
            ],
            "type": "histogram2d"
           }
          ],
          "histogram2dcontour": [
           {
            "colorbar": {
             "outlinewidth": 0,
             "ticks": ""
            },
            "colorscale": [
             [
              0,
              "#0d0887"
             ],
             [
              0.1111111111111111,
              "#46039f"
             ],
             [
              0.2222222222222222,
              "#7201a8"
             ],
             [
              0.3333333333333333,
              "#9c179e"
             ],
             [
              0.4444444444444444,
              "#bd3786"
             ],
             [
              0.5555555555555556,
              "#d8576b"
             ],
             [
              0.6666666666666666,
              "#ed7953"
             ],
             [
              0.7777777777777778,
              "#fb9f3a"
             ],
             [
              0.8888888888888888,
              "#fdca26"
             ],
             [
              1,
              "#f0f921"
             ]
            ],
            "type": "histogram2dcontour"
           }
          ],
          "mesh3d": [
           {
            "colorbar": {
             "outlinewidth": 0,
             "ticks": ""
            },
            "type": "mesh3d"
           }
          ],
          "parcoords": [
           {
            "line": {
             "colorbar": {
              "outlinewidth": 0,
              "ticks": ""
             }
            },
            "type": "parcoords"
           }
          ],
          "pie": [
           {
            "automargin": true,
            "type": "pie"
           }
          ],
          "scatter": [
           {
            "marker": {
             "colorbar": {
              "outlinewidth": 0,
              "ticks": ""
             }
            },
            "type": "scatter"
           }
          ],
          "scatter3d": [
           {
            "line": {
             "colorbar": {
              "outlinewidth": 0,
              "ticks": ""
             }
            },
            "marker": {
             "colorbar": {
              "outlinewidth": 0,
              "ticks": ""
             }
            },
            "type": "scatter3d"
           }
          ],
          "scattercarpet": [
           {
            "marker": {
             "colorbar": {
              "outlinewidth": 0,
              "ticks": ""
             }
            },
            "type": "scattercarpet"
           }
          ],
          "scattergeo": [
           {
            "marker": {
             "colorbar": {
              "outlinewidth": 0,
              "ticks": ""
             }
            },
            "type": "scattergeo"
           }
          ],
          "scattergl": [
           {
            "marker": {
             "colorbar": {
              "outlinewidth": 0,
              "ticks": ""
             }
            },
            "type": "scattergl"
           }
          ],
          "scattermapbox": [
           {
            "marker": {
             "colorbar": {
              "outlinewidth": 0,
              "ticks": ""
             }
            },
            "type": "scattermapbox"
           }
          ],
          "scatterpolar": [
           {
            "marker": {
             "colorbar": {
              "outlinewidth": 0,
              "ticks": ""
             }
            },
            "type": "scatterpolar"
           }
          ],
          "scatterpolargl": [
           {
            "marker": {
             "colorbar": {
              "outlinewidth": 0,
              "ticks": ""
             }
            },
            "type": "scatterpolargl"
           }
          ],
          "scatterternary": [
           {
            "marker": {
             "colorbar": {
              "outlinewidth": 0,
              "ticks": ""
             }
            },
            "type": "scatterternary"
           }
          ],
          "surface": [
           {
            "colorbar": {
             "outlinewidth": 0,
             "ticks": ""
            },
            "colorscale": [
             [
              0,
              "#0d0887"
             ],
             [
              0.1111111111111111,
              "#46039f"
             ],
             [
              0.2222222222222222,
              "#7201a8"
             ],
             [
              0.3333333333333333,
              "#9c179e"
             ],
             [
              0.4444444444444444,
              "#bd3786"
             ],
             [
              0.5555555555555556,
              "#d8576b"
             ],
             [
              0.6666666666666666,
              "#ed7953"
             ],
             [
              0.7777777777777778,
              "#fb9f3a"
             ],
             [
              0.8888888888888888,
              "#fdca26"
             ],
             [
              1,
              "#f0f921"
             ]
            ],
            "type": "surface"
           }
          ],
          "table": [
           {
            "cells": {
             "fill": {
              "color": "#EBF0F8"
             },
             "line": {
              "color": "white"
             }
            },
            "header": {
             "fill": {
              "color": "#C8D4E3"
             },
             "line": {
              "color": "white"
             }
            },
            "type": "table"
           }
          ]
         },
         "layout": {
          "annotationdefaults": {
           "arrowcolor": "#2a3f5f",
           "arrowhead": 0,
           "arrowwidth": 1
          },
          "coloraxis": {
           "colorbar": {
            "outlinewidth": 0,
            "ticks": ""
           }
          },
          "colorscale": {
           "diverging": [
            [
             0,
             "#8e0152"
            ],
            [
             0.1,
             "#c51b7d"
            ],
            [
             0.2,
             "#de77ae"
            ],
            [
             0.3,
             "#f1b6da"
            ],
            [
             0.4,
             "#fde0ef"
            ],
            [
             0.5,
             "#f7f7f7"
            ],
            [
             0.6,
             "#e6f5d0"
            ],
            [
             0.7,
             "#b8e186"
            ],
            [
             0.8,
             "#7fbc41"
            ],
            [
             0.9,
             "#4d9221"
            ],
            [
             1,
             "#276419"
            ]
           ],
           "sequential": [
            [
             0,
             "#0d0887"
            ],
            [
             0.1111111111111111,
             "#46039f"
            ],
            [
             0.2222222222222222,
             "#7201a8"
            ],
            [
             0.3333333333333333,
             "#9c179e"
            ],
            [
             0.4444444444444444,
             "#bd3786"
            ],
            [
             0.5555555555555556,
             "#d8576b"
            ],
            [
             0.6666666666666666,
             "#ed7953"
            ],
            [
             0.7777777777777778,
             "#fb9f3a"
            ],
            [
             0.8888888888888888,
             "#fdca26"
            ],
            [
             1,
             "#f0f921"
            ]
           ],
           "sequentialminus": [
            [
             0,
             "#0d0887"
            ],
            [
             0.1111111111111111,
             "#46039f"
            ],
            [
             0.2222222222222222,
             "#7201a8"
            ],
            [
             0.3333333333333333,
             "#9c179e"
            ],
            [
             0.4444444444444444,
             "#bd3786"
            ],
            [
             0.5555555555555556,
             "#d8576b"
            ],
            [
             0.6666666666666666,
             "#ed7953"
            ],
            [
             0.7777777777777778,
             "#fb9f3a"
            ],
            [
             0.8888888888888888,
             "#fdca26"
            ],
            [
             1,
             "#f0f921"
            ]
           ]
          },
          "colorway": [
           "#636efa",
           "#EF553B",
           "#00cc96",
           "#ab63fa",
           "#FFA15A",
           "#19d3f3",
           "#FF6692",
           "#B6E880",
           "#FF97FF",
           "#FECB52"
          ],
          "font": {
           "color": "#2a3f5f"
          },
          "geo": {
           "bgcolor": "white",
           "lakecolor": "white",
           "landcolor": "#E5ECF6",
           "showlakes": true,
           "showland": true,
           "subunitcolor": "white"
          },
          "hoverlabel": {
           "align": "left"
          },
          "hovermode": "closest",
          "mapbox": {
           "style": "light"
          },
          "paper_bgcolor": "white",
          "plot_bgcolor": "#E5ECF6",
          "polar": {
           "angularaxis": {
            "gridcolor": "white",
            "linecolor": "white",
            "ticks": ""
           },
           "bgcolor": "#E5ECF6",
           "radialaxis": {
            "gridcolor": "white",
            "linecolor": "white",
            "ticks": ""
           }
          },
          "scene": {
           "xaxis": {
            "backgroundcolor": "#E5ECF6",
            "gridcolor": "white",
            "gridwidth": 2,
            "linecolor": "white",
            "showbackground": true,
            "ticks": "",
            "zerolinecolor": "white"
           },
           "yaxis": {
            "backgroundcolor": "#E5ECF6",
            "gridcolor": "white",
            "gridwidth": 2,
            "linecolor": "white",
            "showbackground": true,
            "ticks": "",
            "zerolinecolor": "white"
           },
           "zaxis": {
            "backgroundcolor": "#E5ECF6",
            "gridcolor": "white",
            "gridwidth": 2,
            "linecolor": "white",
            "showbackground": true,
            "ticks": "",
            "zerolinecolor": "white"
           }
          },
          "shapedefaults": {
           "line": {
            "color": "#2a3f5f"
           }
          },
          "ternary": {
           "aaxis": {
            "gridcolor": "white",
            "linecolor": "white",
            "ticks": ""
           },
           "baxis": {
            "gridcolor": "white",
            "linecolor": "white",
            "ticks": ""
           },
           "bgcolor": "#E5ECF6",
           "caxis": {
            "gridcolor": "white",
            "linecolor": "white",
            "ticks": ""
           }
          },
          "title": {
           "x": 0.05
          },
          "xaxis": {
           "automargin": true,
           "gridcolor": "white",
           "linecolor": "white",
           "ticks": "",
           "title": {
            "standoff": 15
           },
           "zerolinecolor": "white",
           "zerolinewidth": 2
          },
          "yaxis": {
           "automargin": true,
           "gridcolor": "white",
           "linecolor": "white",
           "ticks": "",
           "title": {
            "standoff": 15
           },
           "zerolinecolor": "white",
           "zerolinewidth": 2
          }
         }
        },
        "xaxis": {
         "anchor": "y",
         "autorange": true,
         "domain": [
          0,
          1
         ],
         "range": [
          8.984623149394347,
          35.31537685060565
         ],
         "title": {
          "text": "mpg"
         },
         "type": "linear"
        },
        "yaxis": {
         "anchor": "x",
         "autorange": true,
         "domain": [
          0,
          1
         ],
         "range": [
          1.2357007366482506,
          5.701299263351749
         ],
         "title": {
          "text": "wt"
         },
         "type": "linear"
        }
       }
      },
      "image/png": "[encoded data removed]"
     },
     "metadata": {},
     "output_type": "display_data"
    }
   ],
   "source": [
    "import pandas as pd\n",
    "import numpy as np\n",
    "import plotly.express as px\n",
    "from plotnine.data import mtcars\n",
    "\n",
    "df = mtcars[[\"name\", \"mpg\", \"cyl\", \"wt\"]]\n",
    "df.head(6) # show the first 6 rows of data\n",
    "\n",
    "#               name   mpg  cyl     wt\n",
    "#          Mazda RX4  21.0    6  2.620\n",
    "#      Mazda RX4 Wag  21.0    6  2.875\n",
    "#         Datsun 710  22.8    4  2.320\n",
    "#     Hornet 4 Drive  21.4    6  3.215\n",
    "#  Hornet Sportabout  18.7    8  3.440\n",
    "#            Valiant  18.1    6  3.460\n",
    "\n",
    "fig = px.scatter(df, x = 'mpg', y = 'wt')\n",
    "fig.show()"
   ]
  },
  {
   "cell_type": "code",
   "execution_count": 16,
   "metadata": {},
   "outputs": [
    {
     "data": {
      "application/vnd.plotly.v1+json": {
       "config": {
        "plotlyServerURL": "https://plot.ly"
       },
       "data": [
        {
         "hoverlabel": {
          "namelength": 0
         },
         "hovertemplate": "cyl=%{marker.color}<br>mpg=%{x}<br>wt=%{y}",
         "legendgroup": "6",
         "marker": {
          "color": [
           6,
           6,
           6,
           6,
           6,
           6,
           6
          ],
          "coloraxis": "coloraxis",
          "symbol": "circle"
         },
         "mode": "markers",
         "name": "6",
         "showlegend": true,
         "type": "scatter",
         "visible": "legendonly",
         "x": [
          21,
          21,
          21.4,
          18.1,
          19.2,
          17.8,
          19.7
         ],
         "xaxis": "x",
         "y": [
          2.62,
          2.875,
          3.215,
          3.46,
          3.44,
          3.44,
          2.77
         ],
         "yaxis": "y"
        },
        {
         "hoverlabel": {
          "namelength": 0
         },
         "hovertemplate": "cyl=%{marker.color}<br>mpg=%{x}<br>wt=%{y}",
         "legendgroup": "4",
         "marker": {
          "color": [
           4,
           4,
           4,
           4,
           4,
           4,
           4,
           4,
           4,
           4,
           4
          ],
          "coloraxis": "coloraxis",
          "symbol": "diamond"
         },
         "mode": "markers",
         "name": "4",
         "showlegend": true,
         "type": "scatter",
         "x": [
          22.8,
          24.4,
          22.8,
          32.4,
          30.4,
          33.9,
          21.5,
          27.3,
          26,
          30.4,
          21.4
         ],
         "xaxis": "x",
         "y": [
          2.32,
          3.19,
          3.15,
          2.2,
          1.615,
          1.835,
          2.465,
          1.935,
          2.14,
          1.5130000000000001,
          2.78
         ],
         "yaxis": "y"
        },
        {
         "hoverlabel": {
          "namelength": 0
         },
         "hovertemplate": "cyl=%{marker.color}<br>mpg=%{x}<br>wt=%{y}",
         "legendgroup": "8",
         "marker": {
          "color": [
           8,
           8,
           8,
           8,
           8,
           8,
           8,
           8,
           8,
           8,
           8,
           8,
           8,
           8
          ],
          "coloraxis": "coloraxis",
          "symbol": "square"
         },
         "mode": "markers",
         "name": "8",
         "showlegend": true,
         "type": "scatter",
         "x": [
          18.7,
          14.3,
          16.4,
          17.3,
          15.2,
          10.4,
          10.4,
          14.7,
          15.5,
          15.2,
          13.3,
          19.2,
          15.8,
          15
         ],
         "xaxis": "x",
         "y": [
          3.44,
          3.57,
          4.07,
          3.73,
          3.78,
          5.25,
          5.4239999999999995,
          5.345,
          3.52,
          3.435,
          3.84,
          3.845,
          3.17,
          3.57
         ],
         "yaxis": "y"
        }
       ],
       "layout": {
        "autosize": true,
        "coloraxis": {
         "colorbar": {
          "title": {
           "text": "cyl"
          }
         },
         "colorscale": [
          [
           0,
           "#0d0887"
          ],
          [
           0.1111111111111111,
           "#46039f"
          ],
          [
           0.2222222222222222,
           "#7201a8"
          ],
          [
           0.3333333333333333,
           "#9c179e"
          ],
          [
           0.4444444444444444,
           "#bd3786"
          ],
          [
           0.5555555555555556,
           "#d8576b"
          ],
          [
           0.6666666666666666,
           "#ed7953"
          ],
          [
           0.7777777777777778,
           "#fb9f3a"
          ],
          [
           0.8888888888888888,
           "#fdca26"
          ],
          [
           1,
           "#f0f921"
          ]
         ]
        },
        "legend": {
         "title": {
          "text": "cyl"
         },
         "tracegroupgap": 0
        },
        "margin": {
         "t": 60
        },
        "template": {
         "data": {
          "bar": [
           {
            "error_x": {
             "color": "#2a3f5f"
            },
            "error_y": {
             "color": "#2a3f5f"
            },
            "marker": {
             "line": {
              "color": "#E5ECF6",
              "width": 0.5
             }
            },
            "type": "bar"
           }
          ],
          "barpolar": [
           {
            "marker": {
             "line": {
              "color": "#E5ECF6",
              "width": 0.5
             }
            },
            "type": "barpolar"
           }
          ],
          "carpet": [
           {
            "aaxis": {
             "endlinecolor": "#2a3f5f",
             "gridcolor": "white",
             "linecolor": "white",
             "minorgridcolor": "white",
             "startlinecolor": "#2a3f5f"
            },
            "baxis": {
             "endlinecolor": "#2a3f5f",
             "gridcolor": "white",
             "linecolor": "white",
             "minorgridcolor": "white",
             "startlinecolor": "#2a3f5f"
            },
            "type": "carpet"
           }
          ],
          "choropleth": [
           {
            "colorbar": {
             "outlinewidth": 0,
             "ticks": ""
            },
            "type": "choropleth"
           }
          ],
          "contour": [
           {
            "colorbar": {
             "outlinewidth": 0,
             "ticks": ""
            },
            "colorscale": [
             [
              0,
              "#0d0887"
             ],
             [
              0.1111111111111111,
              "#46039f"
             ],
             [
              0.2222222222222222,
              "#7201a8"
             ],
             [
              0.3333333333333333,
              "#9c179e"
             ],
             [
              0.4444444444444444,
              "#bd3786"
             ],
             [
              0.5555555555555556,
              "#d8576b"
             ],
             [
              0.6666666666666666,
              "#ed7953"
             ],
             [
              0.7777777777777778,
              "#fb9f3a"
             ],
             [
              0.8888888888888888,
              "#fdca26"
             ],
             [
              1,
              "#f0f921"
             ]
            ],
            "type": "contour"
           }
          ],
          "contourcarpet": [
           {
            "colorbar": {
             "outlinewidth": 0,
             "ticks": ""
            },
            "type": "contourcarpet"
           }
          ],
          "heatmap": [
           {
            "colorbar": {
             "outlinewidth": 0,
             "ticks": ""
            },
            "colorscale": [
             [
              0,
              "#0d0887"
             ],
             [
              0.1111111111111111,
              "#46039f"
             ],
             [
              0.2222222222222222,
              "#7201a8"
             ],
             [
              0.3333333333333333,
              "#9c179e"
             ],
             [
              0.4444444444444444,
              "#bd3786"
             ],
             [
              0.5555555555555556,
              "#d8576b"
             ],
             [
              0.6666666666666666,
              "#ed7953"
             ],
             [
              0.7777777777777778,
              "#fb9f3a"
             ],
             [
              0.8888888888888888,
              "#fdca26"
             ],
             [
              1,
              "#f0f921"
             ]
            ],
            "type": "heatmap"
           }
          ],
          "heatmapgl": [
           {
            "colorbar": {
             "outlinewidth": 0,
             "ticks": ""
            },
            "colorscale": [
             [
              0,
              "#0d0887"
             ],
             [
              0.1111111111111111,
              "#46039f"
             ],
             [
              0.2222222222222222,
              "#7201a8"
             ],
             [
              0.3333333333333333,
              "#9c179e"
             ],
             [
              0.4444444444444444,
              "#bd3786"
             ],
             [
              0.5555555555555556,
              "#d8576b"
             ],
             [
              0.6666666666666666,
              "#ed7953"
             ],
             [
              0.7777777777777778,
              "#fb9f3a"
             ],
             [
              0.8888888888888888,
              "#fdca26"
             ],
             [
              1,
              "#f0f921"
             ]
            ],
            "type": "heatmapgl"
           }
          ],
          "histogram": [
           {
            "marker": {
             "colorbar": {
              "outlinewidth": 0,
              "ticks": ""
             }
            },
            "type": "histogram"
           }
          ],
          "histogram2d": [
           {
            "colorbar": {
             "outlinewidth": 0,
             "ticks": ""
            },
            "colorscale": [
             [
              0,
              "#0d0887"
             ],
             [
              0.1111111111111111,
              "#46039f"
             ],
             [
              0.2222222222222222,
              "#7201a8"
             ],
             [
              0.3333333333333333,
              "#9c179e"
             ],
             [
              0.4444444444444444,
              "#bd3786"
             ],
             [
              0.5555555555555556,
              "#d8576b"
             ],
             [
              0.6666666666666666,
              "#ed7953"
             ],
             [
              0.7777777777777778,
              "#fb9f3a"
             ],
             [
              0.8888888888888888,
              "#fdca26"
             ],
             [
              1,
              "#f0f921"
             ]
            ],
            "type": "histogram2d"
           }
          ],
          "histogram2dcontour": [
           {
            "colorbar": {
             "outlinewidth": 0,
             "ticks": ""
            },
            "colorscale": [
             [
              0,
              "#0d0887"
             ],
             [
              0.1111111111111111,
              "#46039f"
             ],
             [
              0.2222222222222222,
              "#7201a8"
             ],
             [
              0.3333333333333333,
              "#9c179e"
             ],
             [
              0.4444444444444444,
              "#bd3786"
             ],
             [
              0.5555555555555556,
              "#d8576b"
             ],
             [
              0.6666666666666666,
              "#ed7953"
             ],
             [
              0.7777777777777778,
              "#fb9f3a"
             ],
             [
              0.8888888888888888,
              "#fdca26"
             ],
             [
              1,
              "#f0f921"
             ]
            ],
            "type": "histogram2dcontour"
           }
          ],
          "mesh3d": [
           {
            "colorbar": {
             "outlinewidth": 0,
             "ticks": ""
            },
            "type": "mesh3d"
           }
          ],
          "parcoords": [
           {
            "line": {
             "colorbar": {
              "outlinewidth": 0,
              "ticks": ""
             }
            },
            "type": "parcoords"
           }
          ],
          "pie": [
           {
            "automargin": true,
            "type": "pie"
           }
          ],
          "scatter": [
           {
            "marker": {
             "colorbar": {
              "outlinewidth": 0,
              "ticks": ""
             }
            },
            "type": "scatter"
           }
          ],
          "scatter3d": [
           {
            "line": {
             "colorbar": {
              "outlinewidth": 0,
              "ticks": ""
             }
            },
            "marker": {
             "colorbar": {
              "outlinewidth": 0,
              "ticks": ""
             }
            },
            "type": "scatter3d"
           }
          ],
          "scattercarpet": [
           {
            "marker": {
             "colorbar": {
              "outlinewidth": 0,
              "ticks": ""
             }
            },
            "type": "scattercarpet"
           }
          ],
          "scattergeo": [
           {
            "marker": {
             "colorbar": {
              "outlinewidth": 0,
              "ticks": ""
             }
            },
            "type": "scattergeo"
           }
          ],
          "scattergl": [
           {
            "marker": {
             "colorbar": {
              "outlinewidth": 0,
              "ticks": ""
             }
            },
            "type": "scattergl"
           }
          ],
          "scattermapbox": [
           {
            "marker": {
             "colorbar": {
              "outlinewidth": 0,
              "ticks": ""
             }
            },
            "type": "scattermapbox"
           }
          ],
          "scatterpolar": [
           {
            "marker": {
             "colorbar": {
              "outlinewidth": 0,
              "ticks": ""
             }
            },
            "type": "scatterpolar"
           }
          ],
          "scatterpolargl": [
           {
            "marker": {
             "colorbar": {
              "outlinewidth": 0,
              "ticks": ""
             }
            },
            "type": "scatterpolargl"
           }
          ],
          "scatterternary": [
           {
            "marker": {
             "colorbar": {
              "outlinewidth": 0,
              "ticks": ""
             }
            },
            "type": "scatterternary"
           }
          ],
          "surface": [
           {
            "colorbar": {
             "outlinewidth": 0,
             "ticks": ""
            },
            "colorscale": [
             [
              0,
              "#0d0887"
             ],
             [
              0.1111111111111111,
              "#46039f"
             ],
             [
              0.2222222222222222,
              "#7201a8"
             ],
             [
              0.3333333333333333,
              "#9c179e"
             ],
             [
              0.4444444444444444,
              "#bd3786"
             ],
             [
              0.5555555555555556,
              "#d8576b"
             ],
             [
              0.6666666666666666,
              "#ed7953"
             ],
             [
              0.7777777777777778,
              "#fb9f3a"
             ],
             [
              0.8888888888888888,
              "#fdca26"
             ],
             [
              1,
              "#f0f921"
             ]
            ],
            "type": "surface"
           }
          ],
          "table": [
           {
            "cells": {
             "fill": {
              "color": "#EBF0F8"
             },
             "line": {
              "color": "white"
             }
            },
            "header": {
             "fill": {
              "color": "#C8D4E3"
             },
             "line": {
              "color": "white"
             }
            },
            "type": "table"
           }
          ]
         },
         "layout": {
          "annotationdefaults": {
           "arrowcolor": "#2a3f5f",
           "arrowhead": 0,
           "arrowwidth": 1
          },
          "coloraxis": {
           "colorbar": {
            "outlinewidth": 0,
            "ticks": ""
           }
          },
          "colorscale": {
           "diverging": [
            [
             0,
             "#8e0152"
            ],
            [
             0.1,
             "#c51b7d"
            ],
            [
             0.2,
             "#de77ae"
            ],
            [
             0.3,
             "#f1b6da"
            ],
            [
             0.4,
             "#fde0ef"
            ],
            [
             0.5,
             "#f7f7f7"
            ],
            [
             0.6,
             "#e6f5d0"
            ],
            [
             0.7,
             "#b8e186"
            ],
            [
             0.8,
             "#7fbc41"
            ],
            [
             0.9,
             "#4d9221"
            ],
            [
             1,
             "#276419"
            ]
           ],
           "sequential": [
            [
             0,
             "#0d0887"
            ],
            [
             0.1111111111111111,
             "#46039f"
            ],
            [
             0.2222222222222222,
             "#7201a8"
            ],
            [
             0.3333333333333333,
             "#9c179e"
            ],
            [
             0.4444444444444444,
             "#bd3786"
            ],
            [
             0.5555555555555556,
             "#d8576b"
            ],
            [
             0.6666666666666666,
             "#ed7953"
            ],
            [
             0.7777777777777778,
             "#fb9f3a"
            ],
            [
             0.8888888888888888,
             "#fdca26"
            ],
            [
             1,
             "#f0f921"
            ]
           ],
           "sequentialminus": [
            [
             0,
             "#0d0887"
            ],
            [
             0.1111111111111111,
             "#46039f"
            ],
            [
             0.2222222222222222,
             "#7201a8"
            ],
            [
             0.3333333333333333,
             "#9c179e"
            ],
            [
             0.4444444444444444,
             "#bd3786"
            ],
            [
             0.5555555555555556,
             "#d8576b"
            ],
            [
             0.6666666666666666,
             "#ed7953"
            ],
            [
             0.7777777777777778,
             "#fb9f3a"
            ],
            [
             0.8888888888888888,
             "#fdca26"
            ],
            [
             1,
             "#f0f921"
            ]
           ]
          },
          "colorway": [
           "#636efa",
           "#EF553B",
           "#00cc96",
           "#ab63fa",
           "#FFA15A",
           "#19d3f3",
           "#FF6692",
           "#B6E880",
           "#FF97FF",
           "#FECB52"
          ],
          "font": {
           "color": "#2a3f5f"
          },
          "geo": {
           "bgcolor": "white",
           "lakecolor": "white",
           "landcolor": "#E5ECF6",
           "showlakes": true,
           "showland": true,
           "subunitcolor": "white"
          },
          "hoverlabel": {
           "align": "left"
          },
          "hovermode": "closest",
          "mapbox": {
           "style": "light"
          },
          "paper_bgcolor": "white",
          "plot_bgcolor": "#E5ECF6",
          "polar": {
           "angularaxis": {
            "gridcolor": "white",
            "linecolor": "white",
            "ticks": ""
           },
           "bgcolor": "#E5ECF6",
           "radialaxis": {
            "gridcolor": "white",
            "linecolor": "white",
            "ticks": ""
           }
          },
          "scene": {
           "xaxis": {
            "backgroundcolor": "#E5ECF6",
            "gridcolor": "white",
            "gridwidth": 2,
            "linecolor": "white",
            "showbackground": true,
            "ticks": "",
            "zerolinecolor": "white"
           },
           "yaxis": {
            "backgroundcolor": "#E5ECF6",
            "gridcolor": "white",
            "gridwidth": 2,
            "linecolor": "white",
            "showbackground": true,
            "ticks": "",
            "zerolinecolor": "white"
           },
           "zaxis": {
            "backgroundcolor": "#E5ECF6",
            "gridcolor": "white",
            "gridwidth": 2,
            "linecolor": "white",
            "showbackground": true,
            "ticks": "",
            "zerolinecolor": "white"
           }
          },
          "shapedefaults": {
           "line": {
            "color": "#2a3f5f"
           }
          },
          "ternary": {
           "aaxis": {
            "gridcolor": "white",
            "linecolor": "white",
            "ticks": ""
           },
           "baxis": {
            "gridcolor": "white",
            "linecolor": "white",
            "ticks": ""
           },
           "bgcolor": "#E5ECF6",
           "caxis": {
            "gridcolor": "white",
            "linecolor": "white",
            "ticks": ""
           }
          },
          "title": {
           "x": 0.05
          },
          "xaxis": {
           "automargin": true,
           "gridcolor": "white",
           "linecolor": "white",
           "ticks": "",
           "title": {
            "standoff": 15
           },
           "zerolinecolor": "white",
           "zerolinewidth": 2
          },
          "yaxis": {
           "automargin": true,
           "gridcolor": "white",
           "linecolor": "white",
           "ticks": "",
           "title": {
            "standoff": 15
           },
           "zerolinecolor": "white",
           "zerolinewidth": 2
          }
         }
        },
        "xaxis": {
         "anchor": "y",
         "autorange": true,
         "domain": [
          0,
          1
         ],
         "range": [
          8.983616298811546,
          35.31638370118846
         ],
         "title": {
          "text": "mpg"
         },
         "type": "linear"
        },
        "yaxis": {
         "anchor": "x",
         "autorange": true,
         "domain": [
          0,
          1
         ],
         "range": [
          1.2357007366482506,
          5.701299263351749
         ],
         "title": {
          "text": "wt"
         },
         "type": "linear"
        }
       }
      },
      "image/png": "[encoded data removed]"
     },
     "metadata": {},
     "output_type": "display_data"
    }
   ],
   "source": [
    "fig = px.scatter(df, x = 'mpg', y = 'wt', color = 'cyl')\n",
    "fig.show()"
   ]
  },
  {
   "cell_type": "code",
   "execution_count": 27,
   "metadata": {},
   "outputs": [
    {
     "data": {
      "text/html": [
       "<div>\n",
       "<style scoped>\n",
       "    .dataframe tbody tr th:only-of-type {\n",
       "        vertical-align: middle;\n",
       "    }\n",
       "\n",
       "    .dataframe tbody tr th {\n",
       "        vertical-align: top;\n",
       "    }\n",
       "\n",
       "    .dataframe thead th {\n",
       "        text-align: right;\n",
       "    }\n",
       "</style>\n",
       "<table border=\"1\" class=\"dataframe\">\n",
       "  <thead>\n",
       "    <tr style=\"text-align: right;\">\n",
       "      <th></th>\n",
       "      <th>Sex</th>\n",
       "      <th>Weight</th>\n",
       "    </tr>\n",
       "  </thead>\n",
       "  <tbody>\n",
       "    <tr>\n",
       "      <th>0</th>\n",
       "      <td>F</td>\n",
       "      <td>55.471435</td>\n",
       "    </tr>\n",
       "    <tr>\n",
       "      <th>1</th>\n",
       "      <td>F</td>\n",
       "      <td>53.809024</td>\n",
       "    </tr>\n",
       "    <tr>\n",
       "      <th>2</th>\n",
       "      <td>F</td>\n",
       "      <td>56.432707</td>\n",
       "    </tr>\n",
       "    <tr>\n",
       "      <th>3</th>\n",
       "      <td>F</td>\n",
       "      <td>54.687348</td>\n",
       "    </tr>\n",
       "    <tr>\n",
       "      <th>4</th>\n",
       "      <td>F</td>\n",
       "      <td>54.279411</td>\n",
       "    </tr>\n",
       "    <tr>\n",
       "      <th>5</th>\n",
       "      <td>F</td>\n",
       "      <td>55.887163</td>\n",
       "    </tr>\n",
       "  </tbody>\n",
       "</table>\n",
       "</div>"
      ],
      "text/plain": [
       "  Sex     Weight\n",
       "0   F  55.471435\n",
       "1   F  53.809024\n",
       "2   F  56.432707\n",
       "3   F  54.687348\n",
       "4   F  54.279411\n",
       "5   F  55.887163"
      ]
     },
     "execution_count": 27,
     "metadata": {},
     "output_type": "execute_result"
    }
   ],
   "source": [
    "import pandas as pd\n",
    "import numpy as np\n",
    "import plotly.express as px\n",
    "\n",
    "# Define Wight\n",
    "np.random.seed(1234)\n",
    "weight1 = np.random.normal(55, size = 200)\n",
    "weight2 = np.random.normal(58, size = 200)\n",
    "weight = np.append(weight1, weight2)\n",
    "\n",
    "# Define sex\n",
    "sex = ['F'] * 200 + ['M'] * 200\n",
    "\n",
    "# Define Data Frame\n",
    "wdata = pd.DataFrame(list(zip(sex, weight)), columns = [\"Sex\", \"Weight\"]) # zip() for zipping two lists\n",
    "\n",
    "wdata.head(6)\n"
   ]
  },
  {
   "cell_type": "code",
   "execution_count": 31,
   "metadata": {},
   "outputs": [
    {
     "data": {
      "application/vnd.plotly.v1+json": {
       "config": {
        "plotlyServerURL": "https://plot.ly"
       },
       "data": [
        {
         "alignmentgroup": "True",
         "hoverlabel": {
          "namelength": 0
         },
         "hovertemplate": "Sex=%{x}<br>Weight=%{y}",
         "legendgroup": "F",
         "marker": {
          "color": "#636efa"
         },
         "name": "F",
         "notched": false,
         "offsetgroup": "F",
         "orientation": "v",
         "showlegend": true,
         "type": "box",
         "x": [
          "F",
          "F",
          "F",
          "F",
          "F",
          "F",
          "F",
          "F",
          "F",
          "F",
          "F",
          "F",
          "F",
          "F",
          "F",
          "F",
          "F",
          "F",
          "F",
          "F",
          "F",
          "F",
          "F",
          "F",
          "F",
          "F",
          "F",
          "F",
          "F",
          "F",
          "F",
          "F",
          "F",
          "F",
          "F",
          "F",
          "F",
          "F",
          "F",
          "F",
          "F",
          "F",
          "F",
          "F",
          "F",
          "F",
          "F",
          "F",
          "F",
          "F",
          "F",
          "F",
          "F",
          "F",
          "F",
          "F",
          "F",
          "F",
          "F",
          "F",
          "F",
          "F",
          "F",
          "F",
          "F",
          "F",
          "F",
          "F",
          "F",
          "F",
          "F",
          "F",
          "F",
          "F",
          "F",
          "F",
          "F",
          "F",
          "F",
          "F",
          "F",
          "F",
          "F",
          "F",
          "F",
          "F",
          "F",
          "F",
          "F",
          "F",
          "F",
          "F",
          "F",
          "F",
          "F",
          "F",
          "F",
          "F",
          "F",
          "F",
          "F",
          "F",
          "F",
          "F",
          "F",
          "F",
          "F",
          "F",
          "F",
          "F",
          "F",
          "F",
          "F",
          "F",
          "F",
          "F",
          "F",
          "F",
          "F",
          "F",
          "F",
          "F",
          "F",
          "F",
          "F",
          "F",
          "F",
          "F",
          "F",
          "F",
          "F",
          "F",
          "F",
          "F",
          "F",
          "F",
          "F",
          "F",
          "F",
          "F",
          "F",
          "F",
          "F",
          "F",
          "F",
          "F",
          "F",
          "F",
          "F",
          "F",
          "F",
          "F",
          "F",
          "F",
          "F",
          "F",
          "F",
          "F",
          "F",
          "F",
          "F",
          "F",
          "F",
          "F",
          "F",
          "F",
          "F",
          "F",
          "F",
          "F",
          "F",
          "F",
          "F",
          "F",
          "F",
          "F",
          "F",
          "F",
          "F",
          "F",
          "F",
          "F",
          "F",
          "F",
          "F",
          "F",
          "F",
          "F",
          "F",
          "F",
          "F",
          "F",
          "F",
          "F",
          "F",
          "F",
          "F",
          "F",
          "F",
          "F"
         ],
         "x0": " ",
         "xaxis": "x",
         "y": [
          55.471435163732494,
          53.80902430529353,
          56.432706968426096,
          54.687348103908285,
          54.27941126663499,
          55.88716294030774,
          55.85958841371742,
          54.36347649558265,
          55.01569637211443,
          52.75731504581459,
          56.15003572471982,
          55.99194602234268,
          55.95332412811243,
          52.97874517980503,
          54.6659226341919,
          55.00211836468349,
          55.40545341157019,
          55.289091940980036,
          56.32115819212939,
          53.45309444677076,
          54.797353675370815,
          54.34403065586107,
          55.19342137647036,
          55.55343891095674,
          56.31815155418013,
          54.5306947152941,
          55.67555408512238,
          53.1829727734098,
          54.816891459821,
          56.05896918757115,
          54.60215977180001,
          55.337437653613975,
          56.047578572892725,
          56.04593825562767,
          55.863717291684836,
          54.87790842515233,
          55.12471295376822,
          54.6772051943917,
          55.841674712996145,
          57.390960515463036,
          55.07619958783724,
          54.43355406953504,
          55.036141936684075,
          52.925022399309974,
          55.247792199748545,
          54.1028432155603,
          54.86320516673865,
          55.01828919134922,
          55.75541398239814,
          55.21526858096944,
          55.84100879493139,
          53.55418992295569,
          53.598026718499156,
          54.899081800051086,
          54.45175755081314,
          54.85538049163062,
          55.35402033219924,
          54.96448697472186,
          55.56573830606259,
          56.54565880462556,
          54.025763666232685,
          54.929655122895895,
          55.30796885521603,
          54.79150123689412,
          56.0338007325555,
          52.5995463661877,
          57.0306036208388,
          53.857368710977234,
          55.2118833867777,
          55.70472062431711,
          54.2145647882368,
          55.46205973716205,
          55.704228225462174,
          55.523507967893806,
          54.07374568646978,
          57.007842950778,
          55.2269625418709,
          53.847340890749045,
          55.63197944580913,
          55.039512686693364,
          55.464392325050895,
          51.436483339375265,
          56.32110561547021,
          55.152630552204535,
          55.1645295429324,
          54.569904309123515,
          55.76736873575241,
          55.9849198419099,
          55.270835848826806,
          56.39198619344641,
          55.079842313008626,
          54.60003541930348,
          53.972149441318095,
          54.415281788739215,
          55.81659392654784,
          54.91805294817333,
          54.655233985745355,
          55.528288145297395,
          53.93101121651987,
          54.488118690873186,
          55.29120535974306,
          55.566533696353574,
          55.5035917591112,
          55.28529568478186,
          55.48428811274975,
          56.36348151242615,
          54.218894716374606,
          54.53198233366251,
          56.22457435512617,
          53.71889172485596,
          55.87547550427433,
          53.28928467597047,
          54.54923489686372,
          55.74916380591907,
          54.796067133898745,
          54.81782458833427,
          55.680656004381454,
          53.18150100960838,
          55.047071635325715,
          55.3948442093272,
          54.75156794561915,
          54.38229335200298,
          54.317116003550666,
          55.436257604340916,
          53.29698722588676,
          55.393710599138664,
          54.5206759964245,
          54.70098370703392,
          55.694103287678765,
          55.67862967370986,
          55.2395559950039,
          55.15122662929445,
          55.81612723336004,
          56.8935344675962,
          55.6396327631937,
          54.037971168094806,
          52.914734357879894,
          56.930246767465576,
          53.26465112552961,
          56.210383704904515,
          55.79743541942787,
          54.62018921595262,
          55.7025622240016,
          54.14965372834489,
          56.176812450104926,
          54.475663897367546,
          55.7009077309156,
          55.98418807072242,
          54.87827159133318,
          57.36576862884004,
          55.49614292624759,
          55.796594866664954,
          54.525979109874314,
          54.94330428350907,
          56.357797258107055,
          54.195166275833294,
          52.87637975090707,
          54.66649755956675,
          54.11328064751462,
          55.33419793089901,
          55.53678382490275,
          54.2561696320638,
          54.67979611775912,
          54.083801138733456,
          54.14033170001826,
          55.225985486733755,
          55.628775826538295,
          55.186494348773074,
          55.95247834510912,
          55.98813758259331,
          54.927391686037325,
          54.44939707643658,
          54.061847385906894,
          53.760928437405205,
          55.13968327403129,
          54.776981018117525,
          57.123691888593555,
          55.12227343425883,
          53.590568260077234,
          56.422985952772244,
          52.85214496235639,
          53.65246748654224,
          55.36356455680665,
          54.9852478881954,
          56.27239507854621,
          53.550433391136615,
          53.80447625833303,
          54.40813702685275,
          54.58549515646781,
          53.574205266561975,
          55.20939478753592,
          54.40711399616107,
          53.52688358653435,
          54.10341938469813,
          56.10435156986031,
          54.568450484483954,
          54.83886309175594,
          55.889157494072876,
          55.28837684771526,
          53.94846106242996
         ],
         "y0": " ",
         "yaxis": "y"
        },
        {
         "alignmentgroup": "True",
         "hoverlabel": {
          "namelength": 0
         },
         "hovertemplate": "Sex=%{x}<br>Weight=%{y}",
         "legendgroup": "M",
         "marker": {
          "color": "#EF553B"
         },
         "name": "M",
         "notched": false,
         "offsetgroup": "M",
         "orientation": "v",
         "showlegend": true,
         "type": "box",
         "x": [
          "M",
          "M",
          "M",
          "M",
          "M",
          "M",
          "M",
          "M",
          "M",
          "M",
          "M",
          "M",
          "M",
          "M",
          "M",
          "M",
          "M",
          "M",
          "M",
          "M",
          "M",
          "M",
          "M",
          "M",
          "M",
          "M",
          "M",
          "M",
          "M",
          "M",
          "M",
          "M",
          "M",
          "M",
          "M",
          "M",
          "M",
          "M",
          "M",
          "M",
          "M",
          "M",
          "M",
          "M",
          "M",
          "M",
          "M",
          "M",
          "M",
          "M",
          "M",
          "M",
          "M",
          "M",
          "M",
          "M",
          "M",
          "M",
          "M",
          "M",
          "M",
          "M",
          "M",
          "M",
          "M",
          "M",
          "M",
          "M",
          "M",
          "M",
          "M",
          "M",
          "M",
          "M",
          "M",
          "M",
          "M",
          "M",
          "M",
          "M",
          "M",
          "M",
          "M",
          "M",
          "M",
          "M",
          "M",
          "M",
          "M",
          "M",
          "M",
          "M",
          "M",
          "M",
          "M",
          "M",
          "M",
          "M",
          "M",
          "M",
          "M",
          "M",
          "M",
          "M",
          "M",
          "M",
          "M",
          "M",
          "M",
          "M",
          "M",
          "M",
          "M",
          "M",
          "M",
          "M",
          "M",
          "M",
          "M",
          "M",
          "M",
          "M",
          "M",
          "M",
          "M",
          "M",
          "M",
          "M",
          "M",
          "M",
          "M",
          "M",
          "M",
          "M",
          "M",
          "M",
          "M",
          "M",
          "M",
          "M",
          "M",
          "M",
          "M",
          "M",
          "M",
          "M",
          "M",
          "M",
          "M",
          "M",
          "M",
          "M",
          "M",
          "M",
          "M",
          "M",
          "M",
          "M",
          "M",
          "M",
          "M",
          "M",
          "M",
          "M",
          "M",
          "M",
          "M",
          "M",
          "M",
          "M",
          "M",
          "M",
          "M",
          "M",
          "M",
          "M",
          "M",
          "M",
          "M",
          "M",
          "M",
          "M",
          "M",
          "M",
          "M",
          "M",
          "M",
          "M",
          "M",
          "M",
          "M",
          "M",
          "M",
          "M",
          "M",
          "M",
          "M",
          "M",
          "M",
          "M"
         ],
         "x0": " ",
         "xaxis": "x",
         "y": [
          57.68043860015977,
          57.380006912278795,
          58.15699837644669,
          57.42854464892021,
          59.057633183204615,
          57.20851119052212,
          57.47537265407153,
          58.07187803937037,
          59.910759427277185,
          58.787964683137616,
          58.51308214446699,
          57.4535837197264,
          59.043944655495324,
          60.10778515279337,
          59.4599274815853,
          59.01540545781252,
          58.749184600924195,
          57.324478521563314,
          58.44026639166873,
          58.688971856326944,
          57.72335387272301,
          59.92453332001529,
          58.411204020707224,
          58.890764956173115,
          58.22636322725171,
          55.92138210629783,
          57.61211376803283,
          57.912893030036,
          59.12638582213727,
          58.24711171615774,
          58.12117180533154,
          58.29898393554205,
          57.842900863153346,
          57.259530977219285,
          56.752347076948766,
          58.24945521515245,
          58.581073320620604,
          60.76384407984957,
          58.399325436979574,
          58.66848816920581,
          57.724226271343696,
          58.500482900154374,
          58.863064860590626,
          56.94837214053479,
          56.607945922506914,
          59.153922240612225,
          59.18194410599923,
          58.39137144842193,
          57.11895290779843,
          58.29507995978624,
          59.8638010621325,
          56.287726075528745,
          56.592915454256776,
          58.12678118632697,
          58.00375984779549,
          56.73100574392661,
          57.16115707857971,
          58.55392125143972,
          57.49595728191804,
          57.21155981548212,
          59.52940067448393,
          58.20545485392598,
          58.31301312898086,
          58.8665207121683,
          58.299070529594374,
          59.07654064384612,
          58.36317734754445,
          59.89367982555184,
          57.514247255717194,
          58.3876744557776,
          58.02355761039255,
          57.33977049795572,
          57.68131507042199,
          57.277337806325626,
          58.1773867193846,
          58.98351272934316,
          58.0235045858854,
          58.553776977863365,
          58.35376929399664,
          57.724406366232316,
          57.50951640852132,
          57.62556339980722,
          55.602496023861185,
          59.54102998327794,
          58.063084538957305,
          57.71555931607371,
          56.73439946239879,
          59.78797963245575,
          57.645491291930625,
          57.89523887693289,
          58.386253689189054,
          58.822775373765374,
          57.31621017756899,
          59.057203331214126,
          58.03187997356903,
          59.34318245752894,
          57.94946031045123,
          57.63599004369289,
          56.44665766056894,
          57.68070219817984,
          58.52704645095496,
          58.71111239936482,
          57.78245451950952,
          60.63779121070387,
          56.25786236940503,
          57.90556519225856,
          59.43118375225456,
          58.59275844655067,
          58.17029689532629,
          56.248294052207974,
          58.288581322343205,
          57.45742048309322,
          58.171602381986,
          58.9828178292431,
          57.97465109793723,
          57.71244755071589,
          58.924442867343366,
          57.93875370013369,
          57.26896665741479,
          56.97722629530486,
          58.99599297024575,
          58.95555793262746,
          58.713840771195045,
          58.13337096219412,
          57.19296169152719,
          57.65798921812078,
          59.908779658091184,
          58.155923261453125,
          58.759652532092964,
          57.57699377158075,
          58.18167274532368,
          58.2744925707464,
          58.067912357380756,
          57.96301718512408,
          57.829198969302375,
          58.266973231539865,
          59.382997248852924,
          57.97753912648857,
          58.13139536722591,
          58.43443718510223,
          58.264534068317,
          58.56565834427383,
          58.58508427950172,
          57.82570184724791,
          56.92863132854491,
          57.95153949744762,
          57.154709610433756,
          58.41510055838158,
          58.42553059139786,
          57.019275642499416,
          57.572173890027976,
          59.498569955138535,
          57.63984342913097,
          57.54175961066251,
          56.662031598049026,
          57.95861346038513,
          58.82104795610792,
          60.09780078077169,
          59.28293324687452,
          58.27033792573937,
          59.00314036204493,
          59.078673551320406,
          58.340752685129765,
          57.80192504037643,
          60.481458422875654,
          59.38525487618921,
          56.84539903461033,
          56.73193094962292,
          58.60786218620948,
          56.91990351684241,
          57.38871832520424,
          58.102035112292334,
          56.56342606322788,
          58.21071705250566,
          57.10309582930249,
          56.27560692100817,
          59.79233919664694,
          56.68728729340777,
          58.55587742638563,
          57.31811869450887,
          59.572742745755804,
          57.895348425152235,
          59.8503978016099,
          57.6666495732506,
          58.193464233819874,
          57.50325506213509,
          59.032723215735864,
          56.26019620247744,
          57.24413782437709,
          57.11888826735206,
          58.39389226291267,
          57.04997446520372,
          58.33250662216225,
          58.52894440885605,
          56.87947900600727,
          58.04826420692566,
          58.061988450521774,
          56.97248432678213,
          57.76166463453267,
          59.93217816958135
         ],
         "y0": " ",
         "yaxis": "y"
        }
       ],
       "layout": {
        "autosize": true,
        "boxmode": "group",
        "legend": {
         "title": {
          "text": "Sex"
         },
         "tracegroupgap": 0
        },
        "margin": {
         "t": 60
        },
        "template": {
         "data": {
          "bar": [
           {
            "error_x": {
             "color": "#2a3f5f"
            },
            "error_y": {
             "color": "#2a3f5f"
            },
            "marker": {
             "line": {
              "color": "#E5ECF6",
              "width": 0.5
             }
            },
            "type": "bar"
           }
          ],
          "barpolar": [
           {
            "marker": {
             "line": {
              "color": "#E5ECF6",
              "width": 0.5
             }
            },
            "type": "barpolar"
           }
          ],
          "carpet": [
           {
            "aaxis": {
             "endlinecolor": "#2a3f5f",
             "gridcolor": "white",
             "linecolor": "white",
             "minorgridcolor": "white",
             "startlinecolor": "#2a3f5f"
            },
            "baxis": {
             "endlinecolor": "#2a3f5f",
             "gridcolor": "white",
             "linecolor": "white",
             "minorgridcolor": "white",
             "startlinecolor": "#2a3f5f"
            },
            "type": "carpet"
           }
          ],
          "choropleth": [
           {
            "colorbar": {
             "outlinewidth": 0,
             "ticks": ""
            },
            "type": "choropleth"
           }
          ],
          "contour": [
           {
            "colorbar": {
             "outlinewidth": 0,
             "ticks": ""
            },
            "colorscale": [
             [
              0,
              "#0d0887"
             ],
             [
              0.1111111111111111,
              "#46039f"
             ],
             [
              0.2222222222222222,
              "#7201a8"
             ],
             [
              0.3333333333333333,
              "#9c179e"
             ],
             [
              0.4444444444444444,
              "#bd3786"
             ],
             [
              0.5555555555555556,
              "#d8576b"
             ],
             [
              0.6666666666666666,
              "#ed7953"
             ],
             [
              0.7777777777777778,
              "#fb9f3a"
             ],
             [
              0.8888888888888888,
              "#fdca26"
             ],
             [
              1,
              "#f0f921"
             ]
            ],
            "type": "contour"
           }
          ],
          "contourcarpet": [
           {
            "colorbar": {
             "outlinewidth": 0,
             "ticks": ""
            },
            "type": "contourcarpet"
           }
          ],
          "heatmap": [
           {
            "colorbar": {
             "outlinewidth": 0,
             "ticks": ""
            },
            "colorscale": [
             [
              0,
              "#0d0887"
             ],
             [
              0.1111111111111111,
              "#46039f"
             ],
             [
              0.2222222222222222,
              "#7201a8"
             ],
             [
              0.3333333333333333,
              "#9c179e"
             ],
             [
              0.4444444444444444,
              "#bd3786"
             ],
             [
              0.5555555555555556,
              "#d8576b"
             ],
             [
              0.6666666666666666,
              "#ed7953"
             ],
             [
              0.7777777777777778,
              "#fb9f3a"
             ],
             [
              0.8888888888888888,
              "#fdca26"
             ],
             [
              1,
              "#f0f921"
             ]
            ],
            "type": "heatmap"
           }
          ],
          "heatmapgl": [
           {
            "colorbar": {
             "outlinewidth": 0,
             "ticks": ""
            },
            "colorscale": [
             [
              0,
              "#0d0887"
             ],
             [
              0.1111111111111111,
              "#46039f"
             ],
             [
              0.2222222222222222,
              "#7201a8"
             ],
             [
              0.3333333333333333,
              "#9c179e"
             ],
             [
              0.4444444444444444,
              "#bd3786"
             ],
             [
              0.5555555555555556,
              "#d8576b"
             ],
             [
              0.6666666666666666,
              "#ed7953"
             ],
             [
              0.7777777777777778,
              "#fb9f3a"
             ],
             [
              0.8888888888888888,
              "#fdca26"
             ],
             [
              1,
              "#f0f921"
             ]
            ],
            "type": "heatmapgl"
           }
          ],
          "histogram": [
           {
            "marker": {
             "colorbar": {
              "outlinewidth": 0,
              "ticks": ""
             }
            },
            "type": "histogram"
           }
          ],
          "histogram2d": [
           {
            "colorbar": {
             "outlinewidth": 0,
             "ticks": ""
            },
            "colorscale": [
             [
              0,
              "#0d0887"
             ],
             [
              0.1111111111111111,
              "#46039f"
             ],
             [
              0.2222222222222222,
              "#7201a8"
             ],
             [
              0.3333333333333333,
              "#9c179e"
             ],
             [
              0.4444444444444444,
              "#bd3786"
             ],
             [
              0.5555555555555556,
              "#d8576b"
             ],
             [
              0.6666666666666666,
              "#ed7953"
             ],
             [
              0.7777777777777778,
              "#fb9f3a"
             ],
             [
              0.8888888888888888,
              "#fdca26"
             ],
             [
              1,
              "#f0f921"
             ]
            ],
            "type": "histogram2d"
           }
          ],
          "histogram2dcontour": [
           {
            "colorbar": {
             "outlinewidth": 0,
             "ticks": ""
            },
            "colorscale": [
             [
              0,
              "#0d0887"
             ],
             [
              0.1111111111111111,
              "#46039f"
             ],
             [
              0.2222222222222222,
              "#7201a8"
             ],
             [
              0.3333333333333333,
              "#9c179e"
             ],
             [
              0.4444444444444444,
              "#bd3786"
             ],
             [
              0.5555555555555556,
              "#d8576b"
             ],
             [
              0.6666666666666666,
              "#ed7953"
             ],
             [
              0.7777777777777778,
              "#fb9f3a"
             ],
             [
              0.8888888888888888,
              "#fdca26"
             ],
             [
              1,
              "#f0f921"
             ]
            ],
            "type": "histogram2dcontour"
           }
          ],
          "mesh3d": [
           {
            "colorbar": {
             "outlinewidth": 0,
             "ticks": ""
            },
            "type": "mesh3d"
           }
          ],
          "parcoords": [
           {
            "line": {
             "colorbar": {
              "outlinewidth": 0,
              "ticks": ""
             }
            },
            "type": "parcoords"
           }
          ],
          "pie": [
           {
            "automargin": true,
            "type": "pie"
           }
          ],
          "scatter": [
           {
            "marker": {
             "colorbar": {
              "outlinewidth": 0,
              "ticks": ""
             }
            },
            "type": "scatter"
           }
          ],
          "scatter3d": [
           {
            "line": {
             "colorbar": {
              "outlinewidth": 0,
              "ticks": ""
             }
            },
            "marker": {
             "colorbar": {
              "outlinewidth": 0,
              "ticks": ""
             }
            },
            "type": "scatter3d"
           }
          ],
          "scattercarpet": [
           {
            "marker": {
             "colorbar": {
              "outlinewidth": 0,
              "ticks": ""
             }
            },
            "type": "scattercarpet"
           }
          ],
          "scattergeo": [
           {
            "marker": {
             "colorbar": {
              "outlinewidth": 0,
              "ticks": ""
             }
            },
            "type": "scattergeo"
           }
          ],
          "scattergl": [
           {
            "marker": {
             "colorbar": {
              "outlinewidth": 0,
              "ticks": ""
             }
            },
            "type": "scattergl"
           }
          ],
          "scattermapbox": [
           {
            "marker": {
             "colorbar": {
              "outlinewidth": 0,
              "ticks": ""
             }
            },
            "type": "scattermapbox"
           }
          ],
          "scatterpolar": [
           {
            "marker": {
             "colorbar": {
              "outlinewidth": 0,
              "ticks": ""
             }
            },
            "type": "scatterpolar"
           }
          ],
          "scatterpolargl": [
           {
            "marker": {
             "colorbar": {
              "outlinewidth": 0,
              "ticks": ""
             }
            },
            "type": "scatterpolargl"
           }
          ],
          "scatterternary": [
           {
            "marker": {
             "colorbar": {
              "outlinewidth": 0,
              "ticks": ""
             }
            },
            "type": "scatterternary"
           }
          ],
          "surface": [
           {
            "colorbar": {
             "outlinewidth": 0,
             "ticks": ""
            },
            "colorscale": [
             [
              0,
              "#0d0887"
             ],
             [
              0.1111111111111111,
              "#46039f"
             ],
             [
              0.2222222222222222,
              "#7201a8"
             ],
             [
              0.3333333333333333,
              "#9c179e"
             ],
             [
              0.4444444444444444,
              "#bd3786"
             ],
             [
              0.5555555555555556,
              "#d8576b"
             ],
             [
              0.6666666666666666,
              "#ed7953"
             ],
             [
              0.7777777777777778,
              "#fb9f3a"
             ],
             [
              0.8888888888888888,
              "#fdca26"
             ],
             [
              1,
              "#f0f921"
             ]
            ],
            "type": "surface"
           }
          ],
          "table": [
           {
            "cells": {
             "fill": {
              "color": "#EBF0F8"
             },
             "line": {
              "color": "white"
             }
            },
            "header": {
             "fill": {
              "color": "#C8D4E3"
             },
             "line": {
              "color": "white"
             }
            },
            "type": "table"
           }
          ]
         },
         "layout": {
          "annotationdefaults": {
           "arrowcolor": "#2a3f5f",
           "arrowhead": 0,
           "arrowwidth": 1
          },
          "coloraxis": {
           "colorbar": {
            "outlinewidth": 0,
            "ticks": ""
           }
          },
          "colorscale": {
           "diverging": [
            [
             0,
             "#8e0152"
            ],
            [
             0.1,
             "#c51b7d"
            ],
            [
             0.2,
             "#de77ae"
            ],
            [
             0.3,
             "#f1b6da"
            ],
            [
             0.4,
             "#fde0ef"
            ],
            [
             0.5,
             "#f7f7f7"
            ],
            [
             0.6,
             "#e6f5d0"
            ],
            [
             0.7,
             "#b8e186"
            ],
            [
             0.8,
             "#7fbc41"
            ],
            [
             0.9,
             "#4d9221"
            ],
            [
             1,
             "#276419"
            ]
           ],
           "sequential": [
            [
             0,
             "#0d0887"
            ],
            [
             0.1111111111111111,
             "#46039f"
            ],
            [
             0.2222222222222222,
             "#7201a8"
            ],
            [
             0.3333333333333333,
             "#9c179e"
            ],
            [
             0.4444444444444444,
             "#bd3786"
            ],
            [
             0.5555555555555556,
             "#d8576b"
            ],
            [
             0.6666666666666666,
             "#ed7953"
            ],
            [
             0.7777777777777778,
             "#fb9f3a"
            ],
            [
             0.8888888888888888,
             "#fdca26"
            ],
            [
             1,
             "#f0f921"
            ]
           ],
           "sequentialminus": [
            [
             0,
             "#0d0887"
            ],
            [
             0.1111111111111111,
             "#46039f"
            ],
            [
             0.2222222222222222,
             "#7201a8"
            ],
            [
             0.3333333333333333,
             "#9c179e"
            ],
            [
             0.4444444444444444,
             "#bd3786"
            ],
            [
             0.5555555555555556,
             "#d8576b"
            ],
            [
             0.6666666666666666,
             "#ed7953"
            ],
            [
             0.7777777777777778,
             "#fb9f3a"
            ],
            [
             0.8888888888888888,
             "#fdca26"
            ],
            [
             1,
             "#f0f921"
            ]
           ]
          },
          "colorway": [
           "#636efa",
           "#EF553B",
           "#00cc96",
           "#ab63fa",
           "#FFA15A",
           "#19d3f3",
           "#FF6692",
           "#B6E880",
           "#FF97FF",
           "#FECB52"
          ],
          "font": {
           "color": "#2a3f5f"
          },
          "geo": {
           "bgcolor": "white",
           "lakecolor": "white",
           "landcolor": "#E5ECF6",
           "showlakes": true,
           "showland": true,
           "subunitcolor": "white"
          },
          "hoverlabel": {
           "align": "left"
          },
          "hovermode": "closest",
          "mapbox": {
           "style": "light"
          },
          "paper_bgcolor": "white",
          "plot_bgcolor": "#E5ECF6",
          "polar": {
           "angularaxis": {
            "gridcolor": "white",
            "linecolor": "white",
            "ticks": ""
           },
           "bgcolor": "#E5ECF6",
           "radialaxis": {
            "gridcolor": "white",
            "linecolor": "white",
            "ticks": ""
           }
          },
          "scene": {
           "xaxis": {
            "backgroundcolor": "#E5ECF6",
            "gridcolor": "white",
            "gridwidth": 2,
            "linecolor": "white",
            "showbackground": true,
            "ticks": "",
            "zerolinecolor": "white"
           },
           "yaxis": {
            "backgroundcolor": "#E5ECF6",
            "gridcolor": "white",
            "gridwidth": 2,
            "linecolor": "white",
            "showbackground": true,
            "ticks": "",
            "zerolinecolor": "white"
           },
           "zaxis": {
            "backgroundcolor": "#E5ECF6",
            "gridcolor": "white",
            "gridwidth": 2,
            "linecolor": "white",
            "showbackground": true,
            "ticks": "",
            "zerolinecolor": "white"
           }
          },
          "shapedefaults": {
           "line": {
            "color": "#2a3f5f"
           }
          },
          "ternary": {
           "aaxis": {
            "gridcolor": "white",
            "linecolor": "white",
            "ticks": ""
           },
           "baxis": {
            "gridcolor": "white",
            "linecolor": "white",
            "ticks": ""
           },
           "bgcolor": "#E5ECF6",
           "caxis": {
            "gridcolor": "white",
            "linecolor": "white",
            "ticks": ""
           }
          },
          "title": {
           "x": 0.05
          },
          "xaxis": {
           "automargin": true,
           "gridcolor": "white",
           "linecolor": "white",
           "ticks": "",
           "title": {
            "standoff": 15
           },
           "zerolinecolor": "white",
           "zerolinewidth": 2
          },
          "yaxis": {
           "automargin": true,
           "gridcolor": "white",
           "linecolor": "white",
           "ticks": "",
           "title": {
            "standoff": 15
           },
           "zerolinecolor": "white",
           "zerolinewidth": 2
          }
         }
        },
        "xaxis": {
         "anchor": "y",
         "autorange": true,
         "categoryarray": [
          "F",
          "M"
         ],
         "categoryorder": "array",
         "domain": [
          0,
          1
         ],
         "range": [
          -0.5060913705583756,
          1.5060913705583756
         ],
         "title": {
          "text": "Sex"
         },
         "type": "category"
        },
        "yaxis": {
         "anchor": "x",
         "autorange": true,
         "domain": [
          0,
          1
         ],
         "range": [
          50.91829663157114,
          61.282030787653696
         ],
         "title": {
          "text": "Weight"
         },
         "type": "linear"
        }
       }
      },
      "image/png": "[encoded data removed]"
     },
     "metadata": {},
     "output_type": "display_data"
    }
   ],
   "source": [
    "fig = px.box(wdata, x = 'Sex', y = 'Weight', color = 'Sex')\n",
    "fig.show()"
   ]
  },
  {
   "cell_type": "code",
   "execution_count": 33,
   "metadata": {},
   "outputs": [
    {
     "data": {
      "application/vnd.plotly.v1+json": {
       "config": {
        "plotlyServerURL": "https://plot.ly"
       },
       "data": [
        {
         "alignmentgroup": "True",
         "box": {
          "visible": false
         },
         "hoverlabel": {
          "namelength": 0
         },
         "hovertemplate": "Sex=%{x}<br>Weight=%{y}",
         "legendgroup": "",
         "marker": {
          "color": "#636efa"
         },
         "name": "",
         "offsetgroup": "",
         "orientation": "v",
         "scalegroup": "True",
         "showlegend": false,
         "type": "violin",
         "x": [
          "F",
          "F",
          "F",
          "F",
          "F",
          "F",
          "F",
          "F",
          "F",
          "F",
          "F",
          "F",
          "F",
          "F",
          "F",
          "F",
          "F",
          "F",
          "F",
          "F",
          "F",
          "F",
          "F",
          "F",
          "F",
          "F",
          "F",
          "F",
          "F",
          "F",
          "F",
          "F",
          "F",
          "F",
          "F",
          "F",
          "F",
          "F",
          "F",
          "F",
          "F",
          "F",
          "F",
          "F",
          "F",
          "F",
          "F",
          "F",
          "F",
          "F",
          "F",
          "F",
          "F",
          "F",
          "F",
          "F",
          "F",
          "F",
          "F",
          "F",
          "F",
          "F",
          "F",
          "F",
          "F",
          "F",
          "F",
          "F",
          "F",
          "F",
          "F",
          "F",
          "F",
          "F",
          "F",
          "F",
          "F",
          "F",
          "F",
          "F",
          "F",
          "F",
          "F",
          "F",
          "F",
          "F",
          "F",
          "F",
          "F",
          "F",
          "F",
          "F",
          "F",
          "F",
          "F",
          "F",
          "F",
          "F",
          "F",
          "F",
          "F",
          "F",
          "F",
          "F",
          "F",
          "F",
          "F",
          "F",
          "F",
          "F",
          "F",
          "F",
          "F",
          "F",
          "F",
          "F",
          "F",
          "F",
          "F",
          "F",
          "F",
          "F",
          "F",
          "F",
          "F",
          "F",
          "F",
          "F",
          "F",
          "F",
          "F",
          "F",
          "F",
          "F",
          "F",
          "F",
          "F",
          "F",
          "F",
          "F",
          "F",
          "F",
          "F",
          "F",
          "F",
          "F",
          "F",
          "F",
          "F",
          "F",
          "F",
          "F",
          "F",
          "F",
          "F",
          "F",
          "F",
          "F",
          "F",
          "F",
          "F",
          "F",
          "F",
          "F",
          "F",
          "F",
          "F",
          "F",
          "F",
          "F",
          "F",
          "F",
          "F",
          "F",
          "F",
          "F",
          "F",
          "F",
          "F",
          "F",
          "F",
          "F",
          "F",
          "F",
          "F",
          "F",
          "F",
          "F",
          "F",
          "F",
          "F",
          "F",
          "F",
          "F",
          "F",
          "F",
          "F",
          "F",
          "F",
          "F",
          "M",
          "M",
          "M",
          "M",
          "M",
          "M",
          "M",
          "M",
          "M",
          "M",
          "M",
          "M",
          "M",
          "M",
          "M",
          "M",
          "M",
          "M",
          "M",
          "M",
          "M",
          "M",
          "M",
          "M",
          "M",
          "M",
          "M",
          "M",
          "M",
          "M",
          "M",
          "M",
          "M",
          "M",
          "M",
          "M",
          "M",
          "M",
          "M",
          "M",
          "M",
          "M",
          "M",
          "M",
          "M",
          "M",
          "M",
          "M",
          "M",
          "M",
          "M",
          "M",
          "M",
          "M",
          "M",
          "M",
          "M",
          "M",
          "M",
          "M",
          "M",
          "M",
          "M",
          "M",
          "M",
          "M",
          "M",
          "M",
          "M",
          "M",
          "M",
          "M",
          "M",
          "M",
          "M",
          "M",
          "M",
          "M",
          "M",
          "M",
          "M",
          "M",
          "M",
          "M",
          "M",
          "M",
          "M",
          "M",
          "M",
          "M",
          "M",
          "M",
          "M",
          "M",
          "M",
          "M",
          "M",
          "M",
          "M",
          "M",
          "M",
          "M",
          "M",
          "M",
          "M",
          "M",
          "M",
          "M",
          "M",
          "M",
          "M",
          "M",
          "M",
          "M",
          "M",
          "M",
          "M",
          "M",
          "M",
          "M",
          "M",
          "M",
          "M",
          "M",
          "M",
          "M",
          "M",
          "M",
          "M",
          "M",
          "M",
          "M",
          "M",
          "M",
          "M",
          "M",
          "M",
          "M",
          "M",
          "M",
          "M",
          "M",
          "M",
          "M",
          "M",
          "M",
          "M",
          "M",
          "M",
          "M",
          "M",
          "M",
          "M",
          "M",
          "M",
          "M",
          "M",
          "M",
          "M",
          "M",
          "M",
          "M",
          "M",
          "M",
          "M",
          "M",
          "M",
          "M",
          "M",
          "M",
          "M",
          "M",
          "M",
          "M",
          "M",
          "M",
          "M",
          "M",
          "M",
          "M",
          "M",
          "M",
          "M",
          "M",
          "M",
          "M",
          "M",
          "M",
          "M",
          "M",
          "M",
          "M",
          "M",
          "M",
          "M",
          "M",
          "M",
          "M",
          "M",
          "M"
         ],
         "x0": " ",
         "xaxis": "x",
         "y": [
          55.471435163732494,
          53.80902430529353,
          56.432706968426096,
          54.687348103908285,
          54.27941126663499,
          55.88716294030774,
          55.85958841371742,
          54.36347649558265,
          55.01569637211443,
          52.75731504581459,
          56.15003572471982,
          55.99194602234268,
          55.95332412811243,
          52.97874517980503,
          54.6659226341919,
          55.00211836468349,
          55.40545341157019,
          55.289091940980036,
          56.32115819212939,
          53.45309444677076,
          54.797353675370815,
          54.34403065586107,
          55.19342137647036,
          55.55343891095674,
          56.31815155418013,
          54.5306947152941,
          55.67555408512238,
          53.1829727734098,
          54.816891459821,
          56.05896918757115,
          54.60215977180001,
          55.337437653613975,
          56.047578572892725,
          56.04593825562767,
          55.863717291684836,
          54.87790842515233,
          55.12471295376822,
          54.6772051943917,
          55.841674712996145,
          57.390960515463036,
          55.07619958783724,
          54.43355406953504,
          55.036141936684075,
          52.925022399309974,
          55.247792199748545,
          54.1028432155603,
          54.86320516673865,
          55.01828919134922,
          55.75541398239814,
          55.21526858096944,
          55.84100879493139,
          53.55418992295569,
          53.598026718499156,
          54.899081800051086,
          54.45175755081314,
          54.85538049163062,
          55.35402033219924,
          54.96448697472186,
          55.56573830606259,
          56.54565880462556,
          54.025763666232685,
          54.929655122895895,
          55.30796885521603,
          54.79150123689412,
          56.0338007325555,
          52.5995463661877,
          57.0306036208388,
          53.857368710977234,
          55.2118833867777,
          55.70472062431711,
          54.2145647882368,
          55.46205973716205,
          55.704228225462174,
          55.523507967893806,
          54.07374568646978,
          57.007842950778,
          55.2269625418709,
          53.847340890749045,
          55.63197944580913,
          55.039512686693364,
          55.464392325050895,
          51.436483339375265,
          56.32110561547021,
          55.152630552204535,
          55.1645295429324,
          54.569904309123515,
          55.76736873575241,
          55.9849198419099,
          55.270835848826806,
          56.39198619344641,
          55.079842313008626,
          54.60003541930348,
          53.972149441318095,
          54.415281788739215,
          55.81659392654784,
          54.91805294817333,
          54.655233985745355,
          55.528288145297395,
          53.93101121651987,
          54.488118690873186,
          55.29120535974306,
          55.566533696353574,
          55.5035917591112,
          55.28529568478186,
          55.48428811274975,
          56.36348151242615,
          54.218894716374606,
          54.53198233366251,
          56.22457435512617,
          53.71889172485596,
          55.87547550427433,
          53.28928467597047,
          54.54923489686372,
          55.74916380591907,
          54.796067133898745,
          54.81782458833427,
          55.680656004381454,
          53.18150100960838,
          55.047071635325715,
          55.3948442093272,
          54.75156794561915,
          54.38229335200298,
          54.317116003550666,
          55.436257604340916,
          53.29698722588676,
          55.393710599138664,
          54.5206759964245,
          54.70098370703392,
          55.694103287678765,
          55.67862967370986,
          55.2395559950039,
          55.15122662929445,
          55.81612723336004,
          56.8935344675962,
          55.6396327631937,
          54.037971168094806,
          52.914734357879894,
          56.930246767465576,
          53.26465112552961,
          56.210383704904515,
          55.79743541942787,
          54.62018921595262,
          55.7025622240016,
          54.14965372834489,
          56.176812450104926,
          54.475663897367546,
          55.7009077309156,
          55.98418807072242,
          54.87827159133318,
          57.36576862884004,
          55.49614292624759,
          55.796594866664954,
          54.525979109874314,
          54.94330428350907,
          56.357797258107055,
          54.195166275833294,
          52.87637975090707,
          54.66649755956675,
          54.11328064751462,
          55.33419793089901,
          55.53678382490275,
          54.2561696320638,
          54.67979611775912,
          54.083801138733456,
          54.14033170001826,
          55.225985486733755,
          55.628775826538295,
          55.186494348773074,
          55.95247834510912,
          55.98813758259331,
          54.927391686037325,
          54.44939707643658,
          54.061847385906894,
          53.760928437405205,
          55.13968327403129,
          54.776981018117525,
          57.123691888593555,
          55.12227343425883,
          53.590568260077234,
          56.422985952772244,
          52.85214496235639,
          53.65246748654224,
          55.36356455680665,
          54.9852478881954,
          56.27239507854621,
          53.550433391136615,
          53.80447625833303,
          54.40813702685275,
          54.58549515646781,
          53.574205266561975,
          55.20939478753592,
          54.40711399616107,
          53.52688358653435,
          54.10341938469813,
          56.10435156986031,
          54.568450484483954,
          54.83886309175594,
          55.889157494072876,
          55.28837684771526,
          53.94846106242996,
          57.68043860015977,
          57.380006912278795,
          58.15699837644669,
          57.42854464892021,
          59.057633183204615,
          57.20851119052212,
          57.47537265407153,
          58.07187803937037,
          59.910759427277185,
          58.787964683137616,
          58.51308214446699,
          57.4535837197264,
          59.043944655495324,
          60.10778515279337,
          59.4599274815853,
          59.01540545781252,
          58.749184600924195,
          57.324478521563314,
          58.44026639166873,
          58.688971856326944,
          57.72335387272301,
          59.92453332001529,
          58.411204020707224,
          58.890764956173115,
          58.22636322725171,
          55.92138210629783,
          57.61211376803283,
          57.912893030036,
          59.12638582213727,
          58.24711171615774,
          58.12117180533154,
          58.29898393554205,
          57.842900863153346,
          57.259530977219285,
          56.752347076948766,
          58.24945521515245,
          58.581073320620604,
          60.76384407984957,
          58.399325436979574,
          58.66848816920581,
          57.724226271343696,
          58.500482900154374,
          58.863064860590626,
          56.94837214053479,
          56.607945922506914,
          59.153922240612225,
          59.18194410599923,
          58.39137144842193,
          57.11895290779843,
          58.29507995978624,
          59.8638010621325,
          56.287726075528745,
          56.592915454256776,
          58.12678118632697,
          58.00375984779549,
          56.73100574392661,
          57.16115707857971,
          58.55392125143972,
          57.49595728191804,
          57.21155981548212,
          59.52940067448393,
          58.20545485392598,
          58.31301312898086,
          58.8665207121683,
          58.299070529594374,
          59.07654064384612,
          58.36317734754445,
          59.89367982555184,
          57.514247255717194,
          58.3876744557776,
          58.02355761039255,
          57.33977049795572,
          57.68131507042199,
          57.277337806325626,
          58.1773867193846,
          58.98351272934316,
          58.0235045858854,
          58.553776977863365,
          58.35376929399664,
          57.724406366232316,
          57.50951640852132,
          57.62556339980722,
          55.602496023861185,
          59.54102998327794,
          58.063084538957305,
          57.71555931607371,
          56.73439946239879,
          59.78797963245575,
          57.645491291930625,
          57.89523887693289,
          58.386253689189054,
          58.822775373765374,
          57.31621017756899,
          59.057203331214126,
          58.03187997356903,
          59.34318245752894,
          57.94946031045123,
          57.63599004369289,
          56.44665766056894,
          57.68070219817984,
          58.52704645095496,
          58.71111239936482,
          57.78245451950952,
          60.63779121070387,
          56.25786236940503,
          57.90556519225856,
          59.43118375225456,
          58.59275844655067,
          58.17029689532629,
          56.248294052207974,
          58.288581322343205,
          57.45742048309322,
          58.171602381986,
          58.9828178292431,
          57.97465109793723,
          57.71244755071589,
          58.924442867343366,
          57.93875370013369,
          57.26896665741479,
          56.97722629530486,
          58.99599297024575,
          58.95555793262746,
          58.713840771195045,
          58.13337096219412,
          57.19296169152719,
          57.65798921812078,
          59.908779658091184,
          58.155923261453125,
          58.759652532092964,
          57.57699377158075,
          58.18167274532368,
          58.2744925707464,
          58.067912357380756,
          57.96301718512408,
          57.829198969302375,
          58.266973231539865,
          59.382997248852924,
          57.97753912648857,
          58.13139536722591,
          58.43443718510223,
          58.264534068317,
          58.56565834427383,
          58.58508427950172,
          57.82570184724791,
          56.92863132854491,
          57.95153949744762,
          57.154709610433756,
          58.41510055838158,
          58.42553059139786,
          57.019275642499416,
          57.572173890027976,
          59.498569955138535,
          57.63984342913097,
          57.54175961066251,
          56.662031598049026,
          57.95861346038513,
          58.82104795610792,
          60.09780078077169,
          59.28293324687452,
          58.27033792573937,
          59.00314036204493,
          59.078673551320406,
          58.340752685129765,
          57.80192504037643,
          60.481458422875654,
          59.38525487618921,
          56.84539903461033,
          56.73193094962292,
          58.60786218620948,
          56.91990351684241,
          57.38871832520424,
          58.102035112292334,
          56.56342606322788,
          58.21071705250566,
          57.10309582930249,
          56.27560692100817,
          59.79233919664694,
          56.68728729340777,
          58.55587742638563,
          57.31811869450887,
          59.572742745755804,
          57.895348425152235,
          59.8503978016099,
          57.6666495732506,
          58.193464233819874,
          57.50325506213509,
          59.032723215735864,
          56.26019620247744,
          57.24413782437709,
          57.11888826735206,
          58.39389226291267,
          57.04997446520372,
          58.33250662216225,
          58.52894440885605,
          56.87947900600727,
          58.04826420692566,
          58.061988450521774,
          56.97248432678213,
          57.76166463453267,
          59.93217816958135
         ],
         "y0": " ",
         "yaxis": "y"
        }
       ],
       "layout": {
        "autosize": true,
        "legend": {
         "tracegroupgap": 0
        },
        "margin": {
         "t": 60
        },
        "template": {
         "data": {
          "bar": [
           {
            "error_x": {
             "color": "#2a3f5f"
            },
            "error_y": {
             "color": "#2a3f5f"
            },
            "marker": {
             "line": {
              "color": "#E5ECF6",
              "width": 0.5
             }
            },
            "type": "bar"
           }
          ],
          "barpolar": [
           {
            "marker": {
             "line": {
              "color": "#E5ECF6",
              "width": 0.5
             }
            },
            "type": "barpolar"
           }
          ],
          "carpet": [
           {
            "aaxis": {
             "endlinecolor": "#2a3f5f",
             "gridcolor": "white",
             "linecolor": "white",
             "minorgridcolor": "white",
             "startlinecolor": "#2a3f5f"
            },
            "baxis": {
             "endlinecolor": "#2a3f5f",
             "gridcolor": "white",
             "linecolor": "white",
             "minorgridcolor": "white",
             "startlinecolor": "#2a3f5f"
            },
            "type": "carpet"
           }
          ],
          "choropleth": [
           {
            "colorbar": {
             "outlinewidth": 0,
             "ticks": ""
            },
            "type": "choropleth"
           }
          ],
          "contour": [
           {
            "colorbar": {
             "outlinewidth": 0,
             "ticks": ""
            },
            "colorscale": [
             [
              0,
              "#0d0887"
             ],
             [
              0.1111111111111111,
              "#46039f"
             ],
             [
              0.2222222222222222,
              "#7201a8"
             ],
             [
              0.3333333333333333,
              "#9c179e"
             ],
             [
              0.4444444444444444,
              "#bd3786"
             ],
             [
              0.5555555555555556,
              "#d8576b"
             ],
             [
              0.6666666666666666,
              "#ed7953"
             ],
             [
              0.7777777777777778,
              "#fb9f3a"
             ],
             [
              0.8888888888888888,
              "#fdca26"
             ],
             [
              1,
              "#f0f921"
             ]
            ],
            "type": "contour"
           }
          ],
          "contourcarpet": [
           {
            "colorbar": {
             "outlinewidth": 0,
             "ticks": ""
            },
            "type": "contourcarpet"
           }
          ],
          "heatmap": [
           {
            "colorbar": {
             "outlinewidth": 0,
             "ticks": ""
            },
            "colorscale": [
             [
              0,
              "#0d0887"
             ],
             [
              0.1111111111111111,
              "#46039f"
             ],
             [
              0.2222222222222222,
              "#7201a8"
             ],
             [
              0.3333333333333333,
              "#9c179e"
             ],
             [
              0.4444444444444444,
              "#bd3786"
             ],
             [
              0.5555555555555556,
              "#d8576b"
             ],
             [
              0.6666666666666666,
              "#ed7953"
             ],
             [
              0.7777777777777778,
              "#fb9f3a"
             ],
             [
              0.8888888888888888,
              "#fdca26"
             ],
             [
              1,
              "#f0f921"
             ]
            ],
            "type": "heatmap"
           }
          ],
          "heatmapgl": [
           {
            "colorbar": {
             "outlinewidth": 0,
             "ticks": ""
            },
            "colorscale": [
             [
              0,
              "#0d0887"
             ],
             [
              0.1111111111111111,
              "#46039f"
             ],
             [
              0.2222222222222222,
              "#7201a8"
             ],
             [
              0.3333333333333333,
              "#9c179e"
             ],
             [
              0.4444444444444444,
              "#bd3786"
             ],
             [
              0.5555555555555556,
              "#d8576b"
             ],
             [
              0.6666666666666666,
              "#ed7953"
             ],
             [
              0.7777777777777778,
              "#fb9f3a"
             ],
             [
              0.8888888888888888,
              "#fdca26"
             ],
             [
              1,
              "#f0f921"
             ]
            ],
            "type": "heatmapgl"
           }
          ],
          "histogram": [
           {
            "marker": {
             "colorbar": {
              "outlinewidth": 0,
              "ticks": ""
             }
            },
            "type": "histogram"
           }
          ],
          "histogram2d": [
           {
            "colorbar": {
             "outlinewidth": 0,
             "ticks": ""
            },
            "colorscale": [
             [
              0,
              "#0d0887"
             ],
             [
              0.1111111111111111,
              "#46039f"
             ],
             [
              0.2222222222222222,
              "#7201a8"
             ],
             [
              0.3333333333333333,
              "#9c179e"
             ],
             [
              0.4444444444444444,
              "#bd3786"
             ],
             [
              0.5555555555555556,
              "#d8576b"
             ],
             [
              0.6666666666666666,
              "#ed7953"
             ],
             [
              0.7777777777777778,
              "#fb9f3a"
             ],
             [
              0.8888888888888888,
              "#fdca26"
             ],
             [
              1,
              "#f0f921"
             ]
            ],
            "type": "histogram2d"
           }
          ],
          "histogram2dcontour": [
           {
            "colorbar": {
             "outlinewidth": 0,
             "ticks": ""
            },
            "colorscale": [
             [
              0,
              "#0d0887"
             ],
             [
              0.1111111111111111,
              "#46039f"
             ],
             [
              0.2222222222222222,
              "#7201a8"
             ],
             [
              0.3333333333333333,
              "#9c179e"
             ],
             [
              0.4444444444444444,
              "#bd3786"
             ],
             [
              0.5555555555555556,
              "#d8576b"
             ],
             [
              0.6666666666666666,
              "#ed7953"
             ],
             [
              0.7777777777777778,
              "#fb9f3a"
             ],
             [
              0.8888888888888888,
              "#fdca26"
             ],
             [
              1,
              "#f0f921"
             ]
            ],
            "type": "histogram2dcontour"
           }
          ],
          "mesh3d": [
           {
            "colorbar": {
             "outlinewidth": 0,
             "ticks": ""
            },
            "type": "mesh3d"
           }
          ],
          "parcoords": [
           {
            "line": {
             "colorbar": {
              "outlinewidth": 0,
              "ticks": ""
             }
            },
            "type": "parcoords"
           }
          ],
          "pie": [
           {
            "automargin": true,
            "type": "pie"
           }
          ],
          "scatter": [
           {
            "marker": {
             "colorbar": {
              "outlinewidth": 0,
              "ticks": ""
             }
            },
            "type": "scatter"
           }
          ],
          "scatter3d": [
           {
            "line": {
             "colorbar": {
              "outlinewidth": 0,
              "ticks": ""
             }
            },
            "marker": {
             "colorbar": {
              "outlinewidth": 0,
              "ticks": ""
             }
            },
            "type": "scatter3d"
           }
          ],
          "scattercarpet": [
           {
            "marker": {
             "colorbar": {
              "outlinewidth": 0,
              "ticks": ""
             }
            },
            "type": "scattercarpet"
           }
          ],
          "scattergeo": [
           {
            "marker": {
             "colorbar": {
              "outlinewidth": 0,
              "ticks": ""
             }
            },
            "type": "scattergeo"
           }
          ],
          "scattergl": [
           {
            "marker": {
             "colorbar": {
              "outlinewidth": 0,
              "ticks": ""
             }
            },
            "type": "scattergl"
           }
          ],
          "scattermapbox": [
           {
            "marker": {
             "colorbar": {
              "outlinewidth": 0,
              "ticks": ""
             }
            },
            "type": "scattermapbox"
           }
          ],
          "scatterpolar": [
           {
            "marker": {
             "colorbar": {
              "outlinewidth": 0,
              "ticks": ""
             }
            },
            "type": "scatterpolar"
           }
          ],
          "scatterpolargl": [
           {
            "marker": {
             "colorbar": {
              "outlinewidth": 0,
              "ticks": ""
             }
            },
            "type": "scatterpolargl"
           }
          ],
          "scatterternary": [
           {
            "marker": {
             "colorbar": {
              "outlinewidth": 0,
              "ticks": ""
             }
            },
            "type": "scatterternary"
           }
          ],
          "surface": [
           {
            "colorbar": {
             "outlinewidth": 0,
             "ticks": ""
            },
            "colorscale": [
             [
              0,
              "#0d0887"
             ],
             [
              0.1111111111111111,
              "#46039f"
             ],
             [
              0.2222222222222222,
              "#7201a8"
             ],
             [
              0.3333333333333333,
              "#9c179e"
             ],
             [
              0.4444444444444444,
              "#bd3786"
             ],
             [
              0.5555555555555556,
              "#d8576b"
             ],
             [
              0.6666666666666666,
              "#ed7953"
             ],
             [
              0.7777777777777778,
              "#fb9f3a"
             ],
             [
              0.8888888888888888,
              "#fdca26"
             ],
             [
              1,
              "#f0f921"
             ]
            ],
            "type": "surface"
           }
          ],
          "table": [
           {
            "cells": {
             "fill": {
              "color": "#EBF0F8"
             },
             "line": {
              "color": "white"
             }
            },
            "header": {
             "fill": {
              "color": "#C8D4E3"
             },
             "line": {
              "color": "white"
             }
            },
            "type": "table"
           }
          ]
         },
         "layout": {
          "annotationdefaults": {
           "arrowcolor": "#2a3f5f",
           "arrowhead": 0,
           "arrowwidth": 1
          },
          "coloraxis": {
           "colorbar": {
            "outlinewidth": 0,
            "ticks": ""
           }
          },
          "colorscale": {
           "diverging": [
            [
             0,
             "#8e0152"
            ],
            [
             0.1,
             "#c51b7d"
            ],
            [
             0.2,
             "#de77ae"
            ],
            [
             0.3,
             "#f1b6da"
            ],
            [
             0.4,
             "#fde0ef"
            ],
            [
             0.5,
             "#f7f7f7"
            ],
            [
             0.6,
             "#e6f5d0"
            ],
            [
             0.7,
             "#b8e186"
            ],
            [
             0.8,
             "#7fbc41"
            ],
            [
             0.9,
             "#4d9221"
            ],
            [
             1,
             "#276419"
            ]
           ],
           "sequential": [
            [
             0,
             "#0d0887"
            ],
            [
             0.1111111111111111,
             "#46039f"
            ],
            [
             0.2222222222222222,
             "#7201a8"
            ],
            [
             0.3333333333333333,
             "#9c179e"
            ],
            [
             0.4444444444444444,
             "#bd3786"
            ],
            [
             0.5555555555555556,
             "#d8576b"
            ],
            [
             0.6666666666666666,
             "#ed7953"
            ],
            [
             0.7777777777777778,
             "#fb9f3a"
            ],
            [
             0.8888888888888888,
             "#fdca26"
            ],
            [
             1,
             "#f0f921"
            ]
           ],
           "sequentialminus": [
            [
             0,
             "#0d0887"
            ],
            [
             0.1111111111111111,
             "#46039f"
            ],
            [
             0.2222222222222222,
             "#7201a8"
            ],
            [
             0.3333333333333333,
             "#9c179e"
            ],
            [
             0.4444444444444444,
             "#bd3786"
            ],
            [
             0.5555555555555556,
             "#d8576b"
            ],
            [
             0.6666666666666666,
             "#ed7953"
            ],
            [
             0.7777777777777778,
             "#fb9f3a"
            ],
            [
             0.8888888888888888,
             "#fdca26"
            ],
            [
             1,
             "#f0f921"
            ]
           ]
          },
          "colorway": [
           "#636efa",
           "#EF553B",
           "#00cc96",
           "#ab63fa",
           "#FFA15A",
           "#19d3f3",
           "#FF6692",
           "#B6E880",
           "#FF97FF",
           "#FECB52"
          ],
          "font": {
           "color": "#2a3f5f"
          },
          "geo": {
           "bgcolor": "white",
           "lakecolor": "white",
           "landcolor": "#E5ECF6",
           "showlakes": true,
           "showland": true,
           "subunitcolor": "white"
          },
          "hoverlabel": {
           "align": "left"
          },
          "hovermode": "closest",
          "mapbox": {
           "style": "light"
          },
          "paper_bgcolor": "white",
          "plot_bgcolor": "#E5ECF6",
          "polar": {
           "angularaxis": {
            "gridcolor": "white",
            "linecolor": "white",
            "ticks": ""
           },
           "bgcolor": "#E5ECF6",
           "radialaxis": {
            "gridcolor": "white",
            "linecolor": "white",
            "ticks": ""
           }
          },
          "scene": {
           "xaxis": {
            "backgroundcolor": "#E5ECF6",
            "gridcolor": "white",
            "gridwidth": 2,
            "linecolor": "white",
            "showbackground": true,
            "ticks": "",
            "zerolinecolor": "white"
           },
           "yaxis": {
            "backgroundcolor": "#E5ECF6",
            "gridcolor": "white",
            "gridwidth": 2,
            "linecolor": "white",
            "showbackground": true,
            "ticks": "",
            "zerolinecolor": "white"
           },
           "zaxis": {
            "backgroundcolor": "#E5ECF6",
            "gridcolor": "white",
            "gridwidth": 2,
            "linecolor": "white",
            "showbackground": true,
            "ticks": "",
            "zerolinecolor": "white"
           }
          },
          "shapedefaults": {
           "line": {
            "color": "#2a3f5f"
           }
          },
          "ternary": {
           "aaxis": {
            "gridcolor": "white",
            "linecolor": "white",
            "ticks": ""
           },
           "baxis": {
            "gridcolor": "white",
            "linecolor": "white",
            "ticks": ""
           },
           "bgcolor": "#E5ECF6",
           "caxis": {
            "gridcolor": "white",
            "linecolor": "white",
            "ticks": ""
           }
          },
          "title": {
           "x": 0.05
          },
          "xaxis": {
           "automargin": true,
           "gridcolor": "white",
           "linecolor": "white",
           "ticks": "",
           "title": {
            "standoff": 15
           },
           "zerolinecolor": "white",
           "zerolinewidth": 2
          },
          "yaxis": {
           "automargin": true,
           "gridcolor": "white",
           "linecolor": "white",
           "ticks": "",
           "title": {
            "standoff": 15
           },
           "zerolinecolor": "white",
           "zerolinewidth": 2
          }
         }
        },
        "violinmode": "group",
        "xaxis": {
         "anchor": "y",
         "autorange": true,
         "domain": [
          0,
          1
         ],
         "range": [
          -0.5,
          1.5
         ],
         "title": {
          "text": "Sex"
         },
         "type": "category"
        },
        "yaxis": {
         "anchor": "x",
         "autorange": true,
         "domain": [
          0,
          1
         ],
         "range": [
          50.14134875694615,
          62.00661986862724
         ],
         "title": {
          "text": "Weight"
         },
         "type": "linear"
        }
       }
      },
      "image/png": "[encoded data removed]"
     },
     "metadata": {},
     "output_type": "display_data"
    }
   ],
   "source": [
    "fig = px.violin(wdata, x = 'Sex', y = 'Weight', color = 'Sex')\n",
    "fig.show()"
   ]
  },
  {
   "cell_type": "code",
   "execution_count": 37,
   "metadata": {},
   "outputs": [
    {
     "data": {
      "application/vnd.plotly.v1+json": {
       "config": {
        "plotlyServerURL": "https://plot.ly"
       },
       "data": [
        {
         "alignmentgroup": "True",
         "box": {
          "visible": false
         },
         "hoverlabel": {
          "namelength": 0
         },
         "hovertemplate": "Sex=%{x}<br>Weight=%{y}",
         "legendgroup": "F",
         "marker": {
          "color": "#636efa"
         },
         "name": "F",
         "offsetgroup": "F",
         "orientation": "v",
         "points": "all",
         "scalegroup": "True",
         "showlegend": true,
         "type": "violin",
         "x": [
          "F",
          "F",
          "F",
          "F",
          "F",
          "F",
          "F",
          "F",
          "F",
          "F",
          "F",
          "F",
          "F",
          "F",
          "F",
          "F",
          "F",
          "F",
          "F",
          "F",
          "F",
          "F",
          "F",
          "F",
          "F",
          "F",
          "F",
          "F",
          "F",
          "F",
          "F",
          "F",
          "F",
          "F",
          "F",
          "F",
          "F",
          "F",
          "F",
          "F",
          "F",
          "F",
          "F",
          "F",
          "F",
          "F",
          "F",
          "F",
          "F",
          "F",
          "F",
          "F",
          "F",
          "F",
          "F",
          "F",
          "F",
          "F",
          "F",
          "F",
          "F",
          "F",
          "F",
          "F",
          "F",
          "F",
          "F",
          "F",
          "F",
          "F",
          "F",
          "F",
          "F",
          "F",
          "F",
          "F",
          "F",
          "F",
          "F",
          "F",
          "F",
          "F",
          "F",
          "F",
          "F",
          "F",
          "F",
          "F",
          "F",
          "F",
          "F",
          "F",
          "F",
          "F",
          "F",
          "F",
          "F",
          "F",
          "F",
          "F",
          "F",
          "F",
          "F",
          "F",
          "F",
          "F",
          "F",
          "F",
          "F",
          "F",
          "F",
          "F",
          "F",
          "F",
          "F",
          "F",
          "F",
          "F",
          "F",
          "F",
          "F",
          "F",
          "F",
          "F",
          "F",
          "F",
          "F",
          "F",
          "F",
          "F",
          "F",
          "F",
          "F",
          "F",
          "F",
          "F",
          "F",
          "F",
          "F",
          "F",
          "F",
          "F",
          "F",
          "F",
          "F",
          "F",
          "F",
          "F",
          "F",
          "F",
          "F",
          "F",
          "F",
          "F",
          "F",
          "F",
          "F",
          "F",
          "F",
          "F",
          "F",
          "F",
          "F",
          "F",
          "F",
          "F",
          "F",
          "F",
          "F",
          "F",
          "F",
          "F",
          "F",
          "F",
          "F",
          "F",
          "F",
          "F",
          "F",
          "F",
          "F",
          "F",
          "F",
          "F",
          "F",
          "F",
          "F",
          "F",
          "F",
          "F",
          "F",
          "F",
          "F",
          "F",
          "F",
          "F",
          "F",
          "F",
          "F",
          "F"
         ],
         "x0": " ",
         "xaxis": "x",
         "y": [
          55.471435163732494,
          53.80902430529353,
          56.432706968426096,
          54.687348103908285,
          54.27941126663499,
          55.88716294030774,
          55.85958841371742,
          54.36347649558265,
          55.01569637211443,
          52.75731504581459,
          56.15003572471982,
          55.99194602234268,
          55.95332412811243,
          52.97874517980503,
          54.6659226341919,
          55.00211836468349,
          55.40545341157019,
          55.289091940980036,
          56.32115819212939,
          53.45309444677076,
          54.797353675370815,
          54.34403065586107,
          55.19342137647036,
          55.55343891095674,
          56.31815155418013,
          54.5306947152941,
          55.67555408512238,
          53.1829727734098,
          54.816891459821,
          56.05896918757115,
          54.60215977180001,
          55.337437653613975,
          56.047578572892725,
          56.04593825562767,
          55.863717291684836,
          54.87790842515233,
          55.12471295376822,
          54.6772051943917,
          55.841674712996145,
          57.390960515463036,
          55.07619958783724,
          54.43355406953504,
          55.036141936684075,
          52.925022399309974,
          55.247792199748545,
          54.1028432155603,
          54.86320516673865,
          55.01828919134922,
          55.75541398239814,
          55.21526858096944,
          55.84100879493139,
          53.55418992295569,
          53.598026718499156,
          54.899081800051086,
          54.45175755081314,
          54.85538049163062,
          55.35402033219924,
          54.96448697472186,
          55.56573830606259,
          56.54565880462556,
          54.025763666232685,
          54.929655122895895,
          55.30796885521603,
          54.79150123689412,
          56.0338007325555,
          52.5995463661877,
          57.0306036208388,
          53.857368710977234,
          55.2118833867777,
          55.70472062431711,
          54.2145647882368,
          55.46205973716205,
          55.704228225462174,
          55.523507967893806,
          54.07374568646978,
          57.007842950778,
          55.2269625418709,
          53.847340890749045,
          55.63197944580913,
          55.039512686693364,
          55.464392325050895,
          51.436483339375265,
          56.32110561547021,
          55.152630552204535,
          55.1645295429324,
          54.569904309123515,
          55.76736873575241,
          55.9849198419099,
          55.270835848826806,
          56.39198619344641,
          55.079842313008626,
          54.60003541930348,
          53.972149441318095,
          54.415281788739215,
          55.81659392654784,
          54.91805294817333,
          54.655233985745355,
          55.528288145297395,
          53.93101121651987,
          54.488118690873186,
          55.29120535974306,
          55.566533696353574,
          55.5035917591112,
          55.28529568478186,
          55.48428811274975,
          56.36348151242615,
          54.218894716374606,
          54.53198233366251,
          56.22457435512617,
          53.71889172485596,
          55.87547550427433,
          53.28928467597047,
          54.54923489686372,
          55.74916380591907,
          54.796067133898745,
          54.81782458833427,
          55.680656004381454,
          53.18150100960838,
          55.047071635325715,
          55.3948442093272,
          54.75156794561915,
          54.38229335200298,
          54.317116003550666,
          55.436257604340916,
          53.29698722588676,
          55.393710599138664,
          54.5206759964245,
          54.70098370703392,
          55.694103287678765,
          55.67862967370986,
          55.2395559950039,
          55.15122662929445,
          55.81612723336004,
          56.8935344675962,
          55.6396327631937,
          54.037971168094806,
          52.914734357879894,
          56.930246767465576,
          53.26465112552961,
          56.210383704904515,
          55.79743541942787,
          54.62018921595262,
          55.7025622240016,
          54.14965372834489,
          56.176812450104926,
          54.475663897367546,
          55.7009077309156,
          55.98418807072242,
          54.87827159133318,
          57.36576862884004,
          55.49614292624759,
          55.796594866664954,
          54.525979109874314,
          54.94330428350907,
          56.357797258107055,
          54.195166275833294,
          52.87637975090707,
          54.66649755956675,
          54.11328064751462,
          55.33419793089901,
          55.53678382490275,
          54.2561696320638,
          54.67979611775912,
          54.083801138733456,
          54.14033170001826,
          55.225985486733755,
          55.628775826538295,
          55.186494348773074,
          55.95247834510912,
          55.98813758259331,
          54.927391686037325,
          54.44939707643658,
          54.061847385906894,
          53.760928437405205,
          55.13968327403129,
          54.776981018117525,
          57.123691888593555,
          55.12227343425883,
          53.590568260077234,
          56.422985952772244,
          52.85214496235639,
          53.65246748654224,
          55.36356455680665,
          54.9852478881954,
          56.27239507854621,
          53.550433391136615,
          53.80447625833303,
          54.40813702685275,
          54.58549515646781,
          53.574205266561975,
          55.20939478753592,
          54.40711399616107,
          53.52688358653435,
          54.10341938469813,
          56.10435156986031,
          54.568450484483954,
          54.83886309175594,
          55.889157494072876,
          55.28837684771526,
          53.94846106242996
         ],
         "y0": " ",
         "yaxis": "y"
        },
        {
         "alignmentgroup": "True",
         "box": {
          "visible": false
         },
         "hoverlabel": {
          "namelength": 0
         },
         "hovertemplate": "Sex=%{x}<br>Weight=%{y}",
         "legendgroup": "M",
         "marker": {
          "color": "#EF553B"
         },
         "name": "M",
         "offsetgroup": "M",
         "orientation": "v",
         "points": "all",
         "scalegroup": "True",
         "showlegend": true,
         "type": "violin",
         "x": [
          "M",
          "M",
          "M",
          "M",
          "M",
          "M",
          "M",
          "M",
          "M",
          "M",
          "M",
          "M",
          "M",
          "M",
          "M",
          "M",
          "M",
          "M",
          "M",
          "M",
          "M",
          "M",
          "M",
          "M",
          "M",
          "M",
          "M",
          "M",
          "M",
          "M",
          "M",
          "M",
          "M",
          "M",
          "M",
          "M",
          "M",
          "M",
          "M",
          "M",
          "M",
          "M",
          "M",
          "M",
          "M",
          "M",
          "M",
          "M",
          "M",
          "M",
          "M",
          "M",
          "M",
          "M",
          "M",
          "M",
          "M",
          "M",
          "M",
          "M",
          "M",
          "M",
          "M",
          "M",
          "M",
          "M",
          "M",
          "M",
          "M",
          "M",
          "M",
          "M",
          "M",
          "M",
          "M",
          "M",
          "M",
          "M",
          "M",
          "M",
          "M",
          "M",
          "M",
          "M",
          "M",
          "M",
          "M",
          "M",
          "M",
          "M",
          "M",
          "M",
          "M",
          "M",
          "M",
          "M",
          "M",
          "M",
          "M",
          "M",
          "M",
          "M",
          "M",
          "M",
          "M",
          "M",
          "M",
          "M",
          "M",
          "M",
          "M",
          "M",
          "M",
          "M",
          "M",
          "M",
          "M",
          "M",
          "M",
          "M",
          "M",
          "M",
          "M",
          "M",
          "M",
          "M",
          "M",
          "M",
          "M",
          "M",
          "M",
          "M",
          "M",
          "M",
          "M",
          "M",
          "M",
          "M",
          "M",
          "M",
          "M",
          "M",
          "M",
          "M",
          "M",
          "M",
          "M",
          "M",
          "M",
          "M",
          "M",
          "M",
          "M",
          "M",
          "M",
          "M",
          "M",
          "M",
          "M",
          "M",
          "M",
          "M",
          "M",
          "M",
          "M",
          "M",
          "M",
          "M",
          "M",
          "M",
          "M",
          "M",
          "M",
          "M",
          "M",
          "M",
          "M",
          "M",
          "M",
          "M",
          "M",
          "M",
          "M",
          "M",
          "M",
          "M",
          "M",
          "M",
          "M",
          "M",
          "M",
          "M",
          "M",
          "M",
          "M",
          "M",
          "M",
          "M",
          "M",
          "M"
         ],
         "x0": " ",
         "xaxis": "x",
         "y": [
          57.68043860015977,
          57.380006912278795,
          58.15699837644669,
          57.42854464892021,
          59.057633183204615,
          57.20851119052212,
          57.47537265407153,
          58.07187803937037,
          59.910759427277185,
          58.787964683137616,
          58.51308214446699,
          57.4535837197264,
          59.043944655495324,
          60.10778515279337,
          59.4599274815853,
          59.01540545781252,
          58.749184600924195,
          57.324478521563314,
          58.44026639166873,
          58.688971856326944,
          57.72335387272301,
          59.92453332001529,
          58.411204020707224,
          58.890764956173115,
          58.22636322725171,
          55.92138210629783,
          57.61211376803283,
          57.912893030036,
          59.12638582213727,
          58.24711171615774,
          58.12117180533154,
          58.29898393554205,
          57.842900863153346,
          57.259530977219285,
          56.752347076948766,
          58.24945521515245,
          58.581073320620604,
          60.76384407984957,
          58.399325436979574,
          58.66848816920581,
          57.724226271343696,
          58.500482900154374,
          58.863064860590626,
          56.94837214053479,
          56.607945922506914,
          59.153922240612225,
          59.18194410599923,
          58.39137144842193,
          57.11895290779843,
          58.29507995978624,
          59.8638010621325,
          56.287726075528745,
          56.592915454256776,
          58.12678118632697,
          58.00375984779549,
          56.73100574392661,
          57.16115707857971,
          58.55392125143972,
          57.49595728191804,
          57.21155981548212,
          59.52940067448393,
          58.20545485392598,
          58.31301312898086,
          58.8665207121683,
          58.299070529594374,
          59.07654064384612,
          58.36317734754445,
          59.89367982555184,
          57.514247255717194,
          58.3876744557776,
          58.02355761039255,
          57.33977049795572,
          57.68131507042199,
          57.277337806325626,
          58.1773867193846,
          58.98351272934316,
          58.0235045858854,
          58.553776977863365,
          58.35376929399664,
          57.724406366232316,
          57.50951640852132,
          57.62556339980722,
          55.602496023861185,
          59.54102998327794,
          58.063084538957305,
          57.71555931607371,
          56.73439946239879,
          59.78797963245575,
          57.645491291930625,
          57.89523887693289,
          58.386253689189054,
          58.822775373765374,
          57.31621017756899,
          59.057203331214126,
          58.03187997356903,
          59.34318245752894,
          57.94946031045123,
          57.63599004369289,
          56.44665766056894,
          57.68070219817984,
          58.52704645095496,
          58.71111239936482,
          57.78245451950952,
          60.63779121070387,
          56.25786236940503,
          57.90556519225856,
          59.43118375225456,
          58.59275844655067,
          58.17029689532629,
          56.248294052207974,
          58.288581322343205,
          57.45742048309322,
          58.171602381986,
          58.9828178292431,
          57.97465109793723,
          57.71244755071589,
          58.924442867343366,
          57.93875370013369,
          57.26896665741479,
          56.97722629530486,
          58.99599297024575,
          58.95555793262746,
          58.713840771195045,
          58.13337096219412,
          57.19296169152719,
          57.65798921812078,
          59.908779658091184,
          58.155923261453125,
          58.759652532092964,
          57.57699377158075,
          58.18167274532368,
          58.2744925707464,
          58.067912357380756,
          57.96301718512408,
          57.829198969302375,
          58.266973231539865,
          59.382997248852924,
          57.97753912648857,
          58.13139536722591,
          58.43443718510223,
          58.264534068317,
          58.56565834427383,
          58.58508427950172,
          57.82570184724791,
          56.92863132854491,
          57.95153949744762,
          57.154709610433756,
          58.41510055838158,
          58.42553059139786,
          57.019275642499416,
          57.572173890027976,
          59.498569955138535,
          57.63984342913097,
          57.54175961066251,
          56.662031598049026,
          57.95861346038513,
          58.82104795610792,
          60.09780078077169,
          59.28293324687452,
          58.27033792573937,
          59.00314036204493,
          59.078673551320406,
          58.340752685129765,
          57.80192504037643,
          60.481458422875654,
          59.38525487618921,
          56.84539903461033,
          56.73193094962292,
          58.60786218620948,
          56.91990351684241,
          57.38871832520424,
          58.102035112292334,
          56.56342606322788,
          58.21071705250566,
          57.10309582930249,
          56.27560692100817,
          59.79233919664694,
          56.68728729340777,
          58.55587742638563,
          57.31811869450887,
          59.572742745755804,
          57.895348425152235,
          59.8503978016099,
          57.6666495732506,
          58.193464233819874,
          57.50325506213509,
          59.032723215735864,
          56.26019620247744,
          57.24413782437709,
          57.11888826735206,
          58.39389226291267,
          57.04997446520372,
          58.33250662216225,
          58.52894440885605,
          56.87947900600727,
          58.04826420692566,
          58.061988450521774,
          56.97248432678213,
          57.76166463453267,
          59.93217816958135
         ],
         "y0": " ",
         "yaxis": "y"
        }
       ],
       "layout": {
        "autosize": true,
        "legend": {
         "title": {
          "text": "Sex"
         },
         "tracegroupgap": 0
        },
        "margin": {
         "t": 60
        },
        "template": {
         "data": {
          "bar": [
           {
            "error_x": {
             "color": "#2a3f5f"
            },
            "error_y": {
             "color": "#2a3f5f"
            },
            "marker": {
             "line": {
              "color": "#E5ECF6",
              "width": 0.5
             }
            },
            "type": "bar"
           }
          ],
          "barpolar": [
           {
            "marker": {
             "line": {
              "color": "#E5ECF6",
              "width": 0.5
             }
            },
            "type": "barpolar"
           }
          ],
          "carpet": [
           {
            "aaxis": {
             "endlinecolor": "#2a3f5f",
             "gridcolor": "white",
             "linecolor": "white",
             "minorgridcolor": "white",
             "startlinecolor": "#2a3f5f"
            },
            "baxis": {
             "endlinecolor": "#2a3f5f",
             "gridcolor": "white",
             "linecolor": "white",
             "minorgridcolor": "white",
             "startlinecolor": "#2a3f5f"
            },
            "type": "carpet"
           }
          ],
          "choropleth": [
           {
            "colorbar": {
             "outlinewidth": 0,
             "ticks": ""
            },
            "type": "choropleth"
           }
          ],
          "contour": [
           {
            "colorbar": {
             "outlinewidth": 0,
             "ticks": ""
            },
            "colorscale": [
             [
              0,
              "#0d0887"
             ],
             [
              0.1111111111111111,
              "#46039f"
             ],
             [
              0.2222222222222222,
              "#7201a8"
             ],
             [
              0.3333333333333333,
              "#9c179e"
             ],
             [
              0.4444444444444444,
              "#bd3786"
             ],
             [
              0.5555555555555556,
              "#d8576b"
             ],
             [
              0.6666666666666666,
              "#ed7953"
             ],
             [
              0.7777777777777778,
              "#fb9f3a"
             ],
             [
              0.8888888888888888,
              "#fdca26"
             ],
             [
              1,
              "#f0f921"
             ]
            ],
            "type": "contour"
           }
          ],
          "contourcarpet": [
           {
            "colorbar": {
             "outlinewidth": 0,
             "ticks": ""
            },
            "type": "contourcarpet"
           }
          ],
          "heatmap": [
           {
            "colorbar": {
             "outlinewidth": 0,
             "ticks": ""
            },
            "colorscale": [
             [
              0,
              "#0d0887"
             ],
             [
              0.1111111111111111,
              "#46039f"
             ],
             [
              0.2222222222222222,
              "#7201a8"
             ],
             [
              0.3333333333333333,
              "#9c179e"
             ],
             [
              0.4444444444444444,
              "#bd3786"
             ],
             [
              0.5555555555555556,
              "#d8576b"
             ],
             [
              0.6666666666666666,
              "#ed7953"
             ],
             [
              0.7777777777777778,
              "#fb9f3a"
             ],
             [
              0.8888888888888888,
              "#fdca26"
             ],
             [
              1,
              "#f0f921"
             ]
            ],
            "type": "heatmap"
           }
          ],
          "heatmapgl": [
           {
            "colorbar": {
             "outlinewidth": 0,
             "ticks": ""
            },
            "colorscale": [
             [
              0,
              "#0d0887"
             ],
             [
              0.1111111111111111,
              "#46039f"
             ],
             [
              0.2222222222222222,
              "#7201a8"
             ],
             [
              0.3333333333333333,
              "#9c179e"
             ],
             [
              0.4444444444444444,
              "#bd3786"
             ],
             [
              0.5555555555555556,
              "#d8576b"
             ],
             [
              0.6666666666666666,
              "#ed7953"
             ],
             [
              0.7777777777777778,
              "#fb9f3a"
             ],
             [
              0.8888888888888888,
              "#fdca26"
             ],
             [
              1,
              "#f0f921"
             ]
            ],
            "type": "heatmapgl"
           }
          ],
          "histogram": [
           {
            "marker": {
             "colorbar": {
              "outlinewidth": 0,
              "ticks": ""
             }
            },
            "type": "histogram"
           }
          ],
          "histogram2d": [
           {
            "colorbar": {
             "outlinewidth": 0,
             "ticks": ""
            },
            "colorscale": [
             [
              0,
              "#0d0887"
             ],
             [
              0.1111111111111111,
              "#46039f"
             ],
             [
              0.2222222222222222,
              "#7201a8"
             ],
             [
              0.3333333333333333,
              "#9c179e"
             ],
             [
              0.4444444444444444,
              "#bd3786"
             ],
             [
              0.5555555555555556,
              "#d8576b"
             ],
             [
              0.6666666666666666,
              "#ed7953"
             ],
             [
              0.7777777777777778,
              "#fb9f3a"
             ],
             [
              0.8888888888888888,
              "#fdca26"
             ],
             [
              1,
              "#f0f921"
             ]
            ],
            "type": "histogram2d"
           }
          ],
          "histogram2dcontour": [
           {
            "colorbar": {
             "outlinewidth": 0,
             "ticks": ""
            },
            "colorscale": [
             [
              0,
              "#0d0887"
             ],
             [
              0.1111111111111111,
              "#46039f"
             ],
             [
              0.2222222222222222,
              "#7201a8"
             ],
             [
              0.3333333333333333,
              "#9c179e"
             ],
             [
              0.4444444444444444,
              "#bd3786"
             ],
             [
              0.5555555555555556,
              "#d8576b"
             ],
             [
              0.6666666666666666,
              "#ed7953"
             ],
             [
              0.7777777777777778,
              "#fb9f3a"
             ],
             [
              0.8888888888888888,
              "#fdca26"
             ],
             [
              1,
              "#f0f921"
             ]
            ],
            "type": "histogram2dcontour"
           }
          ],
          "mesh3d": [
           {
            "colorbar": {
             "outlinewidth": 0,
             "ticks": ""
            },
            "type": "mesh3d"
           }
          ],
          "parcoords": [
           {
            "line": {
             "colorbar": {
              "outlinewidth": 0,
              "ticks": ""
             }
            },
            "type": "parcoords"
           }
          ],
          "pie": [
           {
            "automargin": true,
            "type": "pie"
           }
          ],
          "scatter": [
           {
            "marker": {
             "colorbar": {
              "outlinewidth": 0,
              "ticks": ""
             }
            },
            "type": "scatter"
           }
          ],
          "scatter3d": [
           {
            "line": {
             "colorbar": {
              "outlinewidth": 0,
              "ticks": ""
             }
            },
            "marker": {
             "colorbar": {
              "outlinewidth": 0,
              "ticks": ""
             }
            },
            "type": "scatter3d"
           }
          ],
          "scattercarpet": [
           {
            "marker": {
             "colorbar": {
              "outlinewidth": 0,
              "ticks": ""
             }
            },
            "type": "scattercarpet"
           }
          ],
          "scattergeo": [
           {
            "marker": {
             "colorbar": {
              "outlinewidth": 0,
              "ticks": ""
             }
            },
            "type": "scattergeo"
           }
          ],
          "scattergl": [
           {
            "marker": {
             "colorbar": {
              "outlinewidth": 0,
              "ticks": ""
             }
            },
            "type": "scattergl"
           }
          ],
          "scattermapbox": [
           {
            "marker": {
             "colorbar": {
              "outlinewidth": 0,
              "ticks": ""
             }
            },
            "type": "scattermapbox"
           }
          ],
          "scatterpolar": [
           {
            "marker": {
             "colorbar": {
              "outlinewidth": 0,
              "ticks": ""
             }
            },
            "type": "scatterpolar"
           }
          ],
          "scatterpolargl": [
           {
            "marker": {
             "colorbar": {
              "outlinewidth": 0,
              "ticks": ""
             }
            },
            "type": "scatterpolargl"
           }
          ],
          "scatterternary": [
           {
            "marker": {
             "colorbar": {
              "outlinewidth": 0,
              "ticks": ""
             }
            },
            "type": "scatterternary"
           }
          ],
          "surface": [
           {
            "colorbar": {
             "outlinewidth": 0,
             "ticks": ""
            },
            "colorscale": [
             [
              0,
              "#0d0887"
             ],
             [
              0.1111111111111111,
              "#46039f"
             ],
             [
              0.2222222222222222,
              "#7201a8"
             ],
             [
              0.3333333333333333,
              "#9c179e"
             ],
             [
              0.4444444444444444,
              "#bd3786"
             ],
             [
              0.5555555555555556,
              "#d8576b"
             ],
             [
              0.6666666666666666,
              "#ed7953"
             ],
             [
              0.7777777777777778,
              "#fb9f3a"
             ],
             [
              0.8888888888888888,
              "#fdca26"
             ],
             [
              1,
              "#f0f921"
             ]
            ],
            "type": "surface"
           }
          ],
          "table": [
           {
            "cells": {
             "fill": {
              "color": "#EBF0F8"
             },
             "line": {
              "color": "white"
             }
            },
            "header": {
             "fill": {
              "color": "#C8D4E3"
             },
             "line": {
              "color": "white"
             }
            },
            "type": "table"
           }
          ]
         },
         "layout": {
          "annotationdefaults": {
           "arrowcolor": "#2a3f5f",
           "arrowhead": 0,
           "arrowwidth": 1
          },
          "coloraxis": {
           "colorbar": {
            "outlinewidth": 0,
            "ticks": ""
           }
          },
          "colorscale": {
           "diverging": [
            [
             0,
             "#8e0152"
            ],
            [
             0.1,
             "#c51b7d"
            ],
            [
             0.2,
             "#de77ae"
            ],
            [
             0.3,
             "#f1b6da"
            ],
            [
             0.4,
             "#fde0ef"
            ],
            [
             0.5,
             "#f7f7f7"
            ],
            [
             0.6,
             "#e6f5d0"
            ],
            [
             0.7,
             "#b8e186"
            ],
            [
             0.8,
             "#7fbc41"
            ],
            [
             0.9,
             "#4d9221"
            ],
            [
             1,
             "#276419"
            ]
           ],
           "sequential": [
            [
             0,
             "#0d0887"
            ],
            [
             0.1111111111111111,
             "#46039f"
            ],
            [
             0.2222222222222222,
             "#7201a8"
            ],
            [
             0.3333333333333333,
             "#9c179e"
            ],
            [
             0.4444444444444444,
             "#bd3786"
            ],
            [
             0.5555555555555556,
             "#d8576b"
            ],
            [
             0.6666666666666666,
             "#ed7953"
            ],
            [
             0.7777777777777778,
             "#fb9f3a"
            ],
            [
             0.8888888888888888,
             "#fdca26"
            ],
            [
             1,
             "#f0f921"
            ]
           ],
           "sequentialminus": [
            [
             0,
             "#0d0887"
            ],
            [
             0.1111111111111111,
             "#46039f"
            ],
            [
             0.2222222222222222,
             "#7201a8"
            ],
            [
             0.3333333333333333,
             "#9c179e"
            ],
            [
             0.4444444444444444,
             "#bd3786"
            ],
            [
             0.5555555555555556,
             "#d8576b"
            ],
            [
             0.6666666666666666,
             "#ed7953"
            ],
            [
             0.7777777777777778,
             "#fb9f3a"
            ],
            [
             0.8888888888888888,
             "#fdca26"
            ],
            [
             1,
             "#f0f921"
            ]
           ]
          },
          "colorway": [
           "#636efa",
           "#EF553B",
           "#00cc96",
           "#ab63fa",
           "#FFA15A",
           "#19d3f3",
           "#FF6692",
           "#B6E880",
           "#FF97FF",
           "#FECB52"
          ],
          "font": {
           "color": "#2a3f5f"
          },
          "geo": {
           "bgcolor": "white",
           "lakecolor": "white",
           "landcolor": "#E5ECF6",
           "showlakes": true,
           "showland": true,
           "subunitcolor": "white"
          },
          "hoverlabel": {
           "align": "left"
          },
          "hovermode": "closest",
          "mapbox": {
           "style": "light"
          },
          "paper_bgcolor": "white",
          "plot_bgcolor": "#E5ECF6",
          "polar": {
           "angularaxis": {
            "gridcolor": "white",
            "linecolor": "white",
            "ticks": ""
           },
           "bgcolor": "#E5ECF6",
           "radialaxis": {
            "gridcolor": "white",
            "linecolor": "white",
            "ticks": ""
           }
          },
          "scene": {
           "xaxis": {
            "backgroundcolor": "#E5ECF6",
            "gridcolor": "white",
            "gridwidth": 2,
            "linecolor": "white",
            "showbackground": true,
            "ticks": "",
            "zerolinecolor": "white"
           },
           "yaxis": {
            "backgroundcolor": "#E5ECF6",
            "gridcolor": "white",
            "gridwidth": 2,
            "linecolor": "white",
            "showbackground": true,
            "ticks": "",
            "zerolinecolor": "white"
           },
           "zaxis": {
            "backgroundcolor": "#E5ECF6",
            "gridcolor": "white",
            "gridwidth": 2,
            "linecolor": "white",
            "showbackground": true,
            "ticks": "",
            "zerolinecolor": "white"
           }
          },
          "shapedefaults": {
           "line": {
            "color": "#2a3f5f"
           }
          },
          "ternary": {
           "aaxis": {
            "gridcolor": "white",
            "linecolor": "white",
            "ticks": ""
           },
           "baxis": {
            "gridcolor": "white",
            "linecolor": "white",
            "ticks": ""
           },
           "bgcolor": "#E5ECF6",
           "caxis": {
            "gridcolor": "white",
            "linecolor": "white",
            "ticks": ""
           }
          },
          "title": {
           "x": 0.05
          },
          "xaxis": {
           "automargin": true,
           "gridcolor": "white",
           "linecolor": "white",
           "ticks": "",
           "title": {
            "standoff": 15
           },
           "zerolinecolor": "white",
           "zerolinewidth": 2
          },
          "yaxis": {
           "automargin": true,
           "gridcolor": "white",
           "linecolor": "white",
           "ticks": "",
           "title": {
            "standoff": 15
           },
           "zerolinecolor": "white",
           "zerolinewidth": 2
          }
         }
        },
        "violinmode": "group",
        "xaxis": {
         "anchor": "y",
         "autorange": true,
         "categoryarray": [
          "F",
          "M"
         ],
         "categoryorder": "array",
         "domain": [
          0,
          1
         ],
         "range": [
          -0.5,
          1.6052631578947367
         ],
         "title": {
          "text": "Sex"
         },
         "type": "category"
        },
        "yaxis": {
         "anchor": "x",
         "autorange": true,
         "domain": [
          0,
          1
         ],
         "range": [
          50.14134875694615,
          62.00661986862724
         ],
         "title": {
          "text": "Weight"
         },
         "type": "linear"
        }
       }
      },
      "image/png": "[encoded data removed]"
     },
     "metadata": {},
     "output_type": "display_data"
    }
   ],
   "source": [
    "fig = px.violin(wdata, x = 'Sex', y = 'Weight', color = 'Sex', points = 'all')\n",
    "fig.show()"
   ]
  },
  {
   "cell_type": "code",
   "execution_count": 40,
   "metadata": {},
   "outputs": [
    {
     "data": {
      "application/vnd.plotly.v1+json": {
       "config": {
        "plotlyServerURL": "https://plot.ly"
       },
       "data": [
        {
         "alignmentgroup": "True",
         "bingroup": "x",
         "hoverlabel": {
          "namelength": 0
         },
         "hovertemplate": "Sex=F<br>Weight=%{x}<br>count=%{y}",
         "legendgroup": "F",
         "marker": {
          "color": "#636efa"
         },
         "name": "F",
         "offsetgroup": "F",
         "orientation": "v",
         "showlegend": true,
         "type": "histogram",
         "x": [
          55.471435163732494,
          53.80902430529353,
          56.432706968426096,
          54.687348103908285,
          54.27941126663499,
          55.88716294030774,
          55.85958841371742,
          54.36347649558265,
          55.01569637211443,
          52.75731504581459,
          56.15003572471982,
          55.99194602234268,
          55.95332412811243,
          52.97874517980503,
          54.6659226341919,
          55.00211836468349,
          55.40545341157019,
          55.289091940980036,
          56.32115819212939,
          53.45309444677076,
          54.797353675370815,
          54.34403065586107,
          55.19342137647036,
          55.55343891095674,
          56.31815155418013,
          54.5306947152941,
          55.67555408512238,
          53.1829727734098,
          54.816891459821,
          56.05896918757115,
          54.60215977180001,
          55.337437653613975,
          56.047578572892725,
          56.04593825562767,
          55.863717291684836,
          54.87790842515233,
          55.12471295376822,
          54.6772051943917,
          55.841674712996145,
          57.390960515463036,
          55.07619958783724,
          54.43355406953504,
          55.036141936684075,
          52.925022399309974,
          55.247792199748545,
          54.1028432155603,
          54.86320516673865,
          55.01828919134922,
          55.75541398239814,
          55.21526858096944,
          55.84100879493139,
          53.55418992295569,
          53.598026718499156,
          54.899081800051086,
          54.45175755081314,
          54.85538049163062,
          55.35402033219924,
          54.96448697472186,
          55.56573830606259,
          56.54565880462556,
          54.025763666232685,
          54.929655122895895,
          55.30796885521603,
          54.79150123689412,
          56.0338007325555,
          52.5995463661877,
          57.0306036208388,
          53.857368710977234,
          55.2118833867777,
          55.70472062431711,
          54.2145647882368,
          55.46205973716205,
          55.704228225462174,
          55.523507967893806,
          54.07374568646978,
          57.007842950778,
          55.2269625418709,
          53.847340890749045,
          55.63197944580913,
          55.039512686693364,
          55.464392325050895,
          51.436483339375265,
          56.32110561547021,
          55.152630552204535,
          55.1645295429324,
          54.569904309123515,
          55.76736873575241,
          55.9849198419099,
          55.270835848826806,
          56.39198619344641,
          55.079842313008626,
          54.60003541930348,
          53.972149441318095,
          54.415281788739215,
          55.81659392654784,
          54.91805294817333,
          54.655233985745355,
          55.528288145297395,
          53.93101121651987,
          54.488118690873186,
          55.29120535974306,
          55.566533696353574,
          55.5035917591112,
          55.28529568478186,
          55.48428811274975,
          56.36348151242615,
          54.218894716374606,
          54.53198233366251,
          56.22457435512617,
          53.71889172485596,
          55.87547550427433,
          53.28928467597047,
          54.54923489686372,
          55.74916380591907,
          54.796067133898745,
          54.81782458833427,
          55.680656004381454,
          53.18150100960838,
          55.047071635325715,
          55.3948442093272,
          54.75156794561915,
          54.38229335200298,
          54.317116003550666,
          55.436257604340916,
          53.29698722588676,
          55.393710599138664,
          54.5206759964245,
          54.70098370703392,
          55.694103287678765,
          55.67862967370986,
          55.2395559950039,
          55.15122662929445,
          55.81612723336004,
          56.8935344675962,
          55.6396327631937,
          54.037971168094806,
          52.914734357879894,
          56.930246767465576,
          53.26465112552961,
          56.210383704904515,
          55.79743541942787,
          54.62018921595262,
          55.7025622240016,
          54.14965372834489,
          56.176812450104926,
          54.475663897367546,
          55.7009077309156,
          55.98418807072242,
          54.87827159133318,
          57.36576862884004,
          55.49614292624759,
          55.796594866664954,
          54.525979109874314,
          54.94330428350907,
          56.357797258107055,
          54.195166275833294,
          52.87637975090707,
          54.66649755956675,
          54.11328064751462,
          55.33419793089901,
          55.53678382490275,
          54.2561696320638,
          54.67979611775912,
          54.083801138733456,
          54.14033170001826,
          55.225985486733755,
          55.628775826538295,
          55.186494348773074,
          55.95247834510912,
          55.98813758259331,
          54.927391686037325,
          54.44939707643658,
          54.061847385906894,
          53.760928437405205,
          55.13968327403129,
          54.776981018117525,
          57.123691888593555,
          55.12227343425883,
          53.590568260077234,
          56.422985952772244,
          52.85214496235639,
          53.65246748654224,
          55.36356455680665,
          54.9852478881954,
          56.27239507854621,
          53.550433391136615,
          53.80447625833303,
          54.40813702685275,
          54.58549515646781,
          53.574205266561975,
          55.20939478753592,
          54.40711399616107,
          53.52688358653435,
          54.10341938469813,
          56.10435156986031,
          54.568450484483954,
          54.83886309175594,
          55.889157494072876,
          55.28837684771526,
          53.94846106242996
         ],
         "xaxis": "x",
         "yaxis": "y"
        },
        {
         "alignmentgroup": "True",
         "bingroup": "x",
         "hoverlabel": {
          "namelength": 0
         },
         "hovertemplate": "Sex=M<br>Weight=%{x}<br>count=%{y}",
         "legendgroup": "M",
         "marker": {
          "color": "#EF553B"
         },
         "name": "M",
         "offsetgroup": "M",
         "orientation": "v",
         "showlegend": true,
         "type": "histogram",
         "x": [
          57.68043860015977,
          57.380006912278795,
          58.15699837644669,
          57.42854464892021,
          59.057633183204615,
          57.20851119052212,
          57.47537265407153,
          58.07187803937037,
          59.910759427277185,
          58.787964683137616,
          58.51308214446699,
          57.4535837197264,
          59.043944655495324,
          60.10778515279337,
          59.4599274815853,
          59.01540545781252,
          58.749184600924195,
          57.324478521563314,
          58.44026639166873,
          58.688971856326944,
          57.72335387272301,
          59.92453332001529,
          58.411204020707224,
          58.890764956173115,
          58.22636322725171,
          55.92138210629783,
          57.61211376803283,
          57.912893030036,
          59.12638582213727,
          58.24711171615774,
          58.12117180533154,
          58.29898393554205,
          57.842900863153346,
          57.259530977219285,
          56.752347076948766,
          58.24945521515245,
          58.581073320620604,
          60.76384407984957,
          58.399325436979574,
          58.66848816920581,
          57.724226271343696,
          58.500482900154374,
          58.863064860590626,
          56.94837214053479,
          56.607945922506914,
          59.153922240612225,
          59.18194410599923,
          58.39137144842193,
          57.11895290779843,
          58.29507995978624,
          59.8638010621325,
          56.287726075528745,
          56.592915454256776,
          58.12678118632697,
          58.00375984779549,
          56.73100574392661,
          57.16115707857971,
          58.55392125143972,
          57.49595728191804,
          57.21155981548212,
          59.52940067448393,
          58.20545485392598,
          58.31301312898086,
          58.8665207121683,
          58.299070529594374,
          59.07654064384612,
          58.36317734754445,
          59.89367982555184,
          57.514247255717194,
          58.3876744557776,
          58.02355761039255,
          57.33977049795572,
          57.68131507042199,
          57.277337806325626,
          58.1773867193846,
          58.98351272934316,
          58.0235045858854,
          58.553776977863365,
          58.35376929399664,
          57.724406366232316,
          57.50951640852132,
          57.62556339980722,
          55.602496023861185,
          59.54102998327794,
          58.063084538957305,
          57.71555931607371,
          56.73439946239879,
          59.78797963245575,
          57.645491291930625,
          57.89523887693289,
          58.386253689189054,
          58.822775373765374,
          57.31621017756899,
          59.057203331214126,
          58.03187997356903,
          59.34318245752894,
          57.94946031045123,
          57.63599004369289,
          56.44665766056894,
          57.68070219817984,
          58.52704645095496,
          58.71111239936482,
          57.78245451950952,
          60.63779121070387,
          56.25786236940503,
          57.90556519225856,
          59.43118375225456,
          58.59275844655067,
          58.17029689532629,
          56.248294052207974,
          58.288581322343205,
          57.45742048309322,
          58.171602381986,
          58.9828178292431,
          57.97465109793723,
          57.71244755071589,
          58.924442867343366,
          57.93875370013369,
          57.26896665741479,
          56.97722629530486,
          58.99599297024575,
          58.95555793262746,
          58.713840771195045,
          58.13337096219412,
          57.19296169152719,
          57.65798921812078,
          59.908779658091184,
          58.155923261453125,
          58.759652532092964,
          57.57699377158075,
          58.18167274532368,
          58.2744925707464,
          58.067912357380756,
          57.96301718512408,
          57.829198969302375,
          58.266973231539865,
          59.382997248852924,
          57.97753912648857,
          58.13139536722591,
          58.43443718510223,
          58.264534068317,
          58.56565834427383,
          58.58508427950172,
          57.82570184724791,
          56.92863132854491,
          57.95153949744762,
          57.154709610433756,
          58.41510055838158,
          58.42553059139786,
          57.019275642499416,
          57.572173890027976,
          59.498569955138535,
          57.63984342913097,
          57.54175961066251,
          56.662031598049026,
          57.95861346038513,
          58.82104795610792,
          60.09780078077169,
          59.28293324687452,
          58.27033792573937,
          59.00314036204493,
          59.078673551320406,
          58.340752685129765,
          57.80192504037643,
          60.481458422875654,
          59.38525487618921,
          56.84539903461033,
          56.73193094962292,
          58.60786218620948,
          56.91990351684241,
          57.38871832520424,
          58.102035112292334,
          56.56342606322788,
          58.21071705250566,
          57.10309582930249,
          56.27560692100817,
          59.79233919664694,
          56.68728729340777,
          58.55587742638563,
          57.31811869450887,
          59.572742745755804,
          57.895348425152235,
          59.8503978016099,
          57.6666495732506,
          58.193464233819874,
          57.50325506213509,
          59.032723215735864,
          56.26019620247744,
          57.24413782437709,
          57.11888826735206,
          58.39389226291267,
          57.04997446520372,
          58.33250662216225,
          58.52894440885605,
          56.87947900600727,
          58.04826420692566,
          58.061988450521774,
          56.97248432678213,
          57.76166463453267,
          59.93217816958135
         ],
         "xaxis": "x",
         "yaxis": "y"
        }
       ],
       "layout": {
        "autosize": true,
        "barmode": "relative",
        "legend": {
         "title": {
          "text": "Sex"
         },
         "tracegroupgap": 0
        },
        "margin": {
         "t": 60
        },
        "template": {
         "data": {
          "bar": [
           {
            "error_x": {
             "color": "#2a3f5f"
            },
            "error_y": {
             "color": "#2a3f5f"
            },
            "marker": {
             "line": {
              "color": "#E5ECF6",
              "width": 0.5
             }
            },
            "type": "bar"
           }
          ],
          "barpolar": [
           {
            "marker": {
             "line": {
              "color": "#E5ECF6",
              "width": 0.5
             }
            },
            "type": "barpolar"
           }
          ],
          "carpet": [
           {
            "aaxis": {
             "endlinecolor": "#2a3f5f",
             "gridcolor": "white",
             "linecolor": "white",
             "minorgridcolor": "white",
             "startlinecolor": "#2a3f5f"
            },
            "baxis": {
             "endlinecolor": "#2a3f5f",
             "gridcolor": "white",
             "linecolor": "white",
             "minorgridcolor": "white",
             "startlinecolor": "#2a3f5f"
            },
            "type": "carpet"
           }
          ],
          "choropleth": [
           {
            "colorbar": {
             "outlinewidth": 0,
             "ticks": ""
            },
            "type": "choropleth"
           }
          ],
          "contour": [
           {
            "colorbar": {
             "outlinewidth": 0,
             "ticks": ""
            },
            "colorscale": [
             [
              0,
              "#0d0887"
             ],
             [
              0.1111111111111111,
              "#46039f"
             ],
             [
              0.2222222222222222,
              "#7201a8"
             ],
             [
              0.3333333333333333,
              "#9c179e"
             ],
             [
              0.4444444444444444,
              "#bd3786"
             ],
             [
              0.5555555555555556,
              "#d8576b"
             ],
             [
              0.6666666666666666,
              "#ed7953"
             ],
             [
              0.7777777777777778,
              "#fb9f3a"
             ],
             [
              0.8888888888888888,
              "#fdca26"
             ],
             [
              1,
              "#f0f921"
             ]
            ],
            "type": "contour"
           }
          ],
          "contourcarpet": [
           {
            "colorbar": {
             "outlinewidth": 0,
             "ticks": ""
            },
            "type": "contourcarpet"
           }
          ],
          "heatmap": [
           {
            "colorbar": {
             "outlinewidth": 0,
             "ticks": ""
            },
            "colorscale": [
             [
              0,
              "#0d0887"
             ],
             [
              0.1111111111111111,
              "#46039f"
             ],
             [
              0.2222222222222222,
              "#7201a8"
             ],
             [
              0.3333333333333333,
              "#9c179e"
             ],
             [
              0.4444444444444444,
              "#bd3786"
             ],
             [
              0.5555555555555556,
              "#d8576b"
             ],
             [
              0.6666666666666666,
              "#ed7953"
             ],
             [
              0.7777777777777778,
              "#fb9f3a"
             ],
             [
              0.8888888888888888,
              "#fdca26"
             ],
             [
              1,
              "#f0f921"
             ]
            ],
            "type": "heatmap"
           }
          ],
          "heatmapgl": [
           {
            "colorbar": {
             "outlinewidth": 0,
             "ticks": ""
            },
            "colorscale": [
             [
              0,
              "#0d0887"
             ],
             [
              0.1111111111111111,
              "#46039f"
             ],
             [
              0.2222222222222222,
              "#7201a8"
             ],
             [
              0.3333333333333333,
              "#9c179e"
             ],
             [
              0.4444444444444444,
              "#bd3786"
             ],
             [
              0.5555555555555556,
              "#d8576b"
             ],
             [
              0.6666666666666666,
              "#ed7953"
             ],
             [
              0.7777777777777778,
              "#fb9f3a"
             ],
             [
              0.8888888888888888,
              "#fdca26"
             ],
             [
              1,
              "#f0f921"
             ]
            ],
            "type": "heatmapgl"
           }
          ],
          "histogram": [
           {
            "marker": {
             "colorbar": {
              "outlinewidth": 0,
              "ticks": ""
             }
            },
            "type": "histogram"
           }
          ],
          "histogram2d": [
           {
            "colorbar": {
             "outlinewidth": 0,
             "ticks": ""
            },
            "colorscale": [
             [
              0,
              "#0d0887"
             ],
             [
              0.1111111111111111,
              "#46039f"
             ],
             [
              0.2222222222222222,
              "#7201a8"
             ],
             [
              0.3333333333333333,
              "#9c179e"
             ],
             [
              0.4444444444444444,
              "#bd3786"
             ],
             [
              0.5555555555555556,
              "#d8576b"
             ],
             [
              0.6666666666666666,
              "#ed7953"
             ],
             [
              0.7777777777777778,
              "#fb9f3a"
             ],
             [
              0.8888888888888888,
              "#fdca26"
             ],
             [
              1,
              "#f0f921"
             ]
            ],
            "type": "histogram2d"
           }
          ],
          "histogram2dcontour": [
           {
            "colorbar": {
             "outlinewidth": 0,
             "ticks": ""
            },
            "colorscale": [
             [
              0,
              "#0d0887"
             ],
             [
              0.1111111111111111,
              "#46039f"
             ],
             [
              0.2222222222222222,
              "#7201a8"
             ],
             [
              0.3333333333333333,
              "#9c179e"
             ],
             [
              0.4444444444444444,
              "#bd3786"
             ],
             [
              0.5555555555555556,
              "#d8576b"
             ],
             [
              0.6666666666666666,
              "#ed7953"
             ],
             [
              0.7777777777777778,
              "#fb9f3a"
             ],
             [
              0.8888888888888888,
              "#fdca26"
             ],
             [
              1,
              "#f0f921"
             ]
            ],
            "type": "histogram2dcontour"
           }
          ],
          "mesh3d": [
           {
            "colorbar": {
             "outlinewidth": 0,
             "ticks": ""
            },
            "type": "mesh3d"
           }
          ],
          "parcoords": [
           {
            "line": {
             "colorbar": {
              "outlinewidth": 0,
              "ticks": ""
             }
            },
            "type": "parcoords"
           }
          ],
          "pie": [
           {
            "automargin": true,
            "type": "pie"
           }
          ],
          "scatter": [
           {
            "marker": {
             "colorbar": {
              "outlinewidth": 0,
              "ticks": ""
             }
            },
            "type": "scatter"
           }
          ],
          "scatter3d": [
           {
            "line": {
             "colorbar": {
              "outlinewidth": 0,
              "ticks": ""
             }
            },
            "marker": {
             "colorbar": {
              "outlinewidth": 0,
              "ticks": ""
             }
            },
            "type": "scatter3d"
           }
          ],
          "scattercarpet": [
           {
            "marker": {
             "colorbar": {
              "outlinewidth": 0,
              "ticks": ""
             }
            },
            "type": "scattercarpet"
           }
          ],
          "scattergeo": [
           {
            "marker": {
             "colorbar": {
              "outlinewidth": 0,
              "ticks": ""
             }
            },
            "type": "scattergeo"
           }
          ],
          "scattergl": [
           {
            "marker": {
             "colorbar": {
              "outlinewidth": 0,
              "ticks": ""
             }
            },
            "type": "scattergl"
           }
          ],
          "scattermapbox": [
           {
            "marker": {
             "colorbar": {
              "outlinewidth": 0,
              "ticks": ""
             }
            },
            "type": "scattermapbox"
           }
          ],
          "scatterpolar": [
           {
            "marker": {
             "colorbar": {
              "outlinewidth": 0,
              "ticks": ""
             }
            },
            "type": "scatterpolar"
           }
          ],
          "scatterpolargl": [
           {
            "marker": {
             "colorbar": {
              "outlinewidth": 0,
              "ticks": ""
             }
            },
            "type": "scatterpolargl"
           }
          ],
          "scatterternary": [
           {
            "marker": {
             "colorbar": {
              "outlinewidth": 0,
              "ticks": ""
             }
            },
            "type": "scatterternary"
           }
          ],
          "surface": [
           {
            "colorbar": {
             "outlinewidth": 0,
             "ticks": ""
            },
            "colorscale": [
             [
              0,
              "#0d0887"
             ],
             [
              0.1111111111111111,
              "#46039f"
             ],
             [
              0.2222222222222222,
              "#7201a8"
             ],
             [
              0.3333333333333333,
              "#9c179e"
             ],
             [
              0.4444444444444444,
              "#bd3786"
             ],
             [
              0.5555555555555556,
              "#d8576b"
             ],
             [
              0.6666666666666666,
              "#ed7953"
             ],
             [
              0.7777777777777778,
              "#fb9f3a"
             ],
             [
              0.8888888888888888,
              "#fdca26"
             ],
             [
              1,
              "#f0f921"
             ]
            ],
            "type": "surface"
           }
          ],
          "table": [
           {
            "cells": {
             "fill": {
              "color": "#EBF0F8"
             },
             "line": {
              "color": "white"
             }
            },
            "header": {
             "fill": {
              "color": "#C8D4E3"
             },
             "line": {
              "color": "white"
             }
            },
            "type": "table"
           }
          ]
         },
         "layout": {
          "annotationdefaults": {
           "arrowcolor": "#2a3f5f",
           "arrowhead": 0,
           "arrowwidth": 1
          },
          "coloraxis": {
           "colorbar": {
            "outlinewidth": 0,
            "ticks": ""
           }
          },
          "colorscale": {
           "diverging": [
            [
             0,
             "#8e0152"
            ],
            [
             0.1,
             "#c51b7d"
            ],
            [
             0.2,
             "#de77ae"
            ],
            [
             0.3,
             "#f1b6da"
            ],
            [
             0.4,
             "#fde0ef"
            ],
            [
             0.5,
             "#f7f7f7"
            ],
            [
             0.6,
             "#e6f5d0"
            ],
            [
             0.7,
             "#b8e186"
            ],
            [
             0.8,
             "#7fbc41"
            ],
            [
             0.9,
             "#4d9221"
            ],
            [
             1,
             "#276419"
            ]
           ],
           "sequential": [
            [
             0,
             "#0d0887"
            ],
            [
             0.1111111111111111,
             "#46039f"
            ],
            [
             0.2222222222222222,
             "#7201a8"
            ],
            [
             0.3333333333333333,
             "#9c179e"
            ],
            [
             0.4444444444444444,
             "#bd3786"
            ],
            [
             0.5555555555555556,
             "#d8576b"
            ],
            [
             0.6666666666666666,
             "#ed7953"
            ],
            [
             0.7777777777777778,
             "#fb9f3a"
            ],
            [
             0.8888888888888888,
             "#fdca26"
            ],
            [
             1,
             "#f0f921"
            ]
           ],
           "sequentialminus": [
            [
             0,
             "#0d0887"
            ],
            [
             0.1111111111111111,
             "#46039f"
            ],
            [
             0.2222222222222222,
             "#7201a8"
            ],
            [
             0.3333333333333333,
             "#9c179e"
            ],
            [
             0.4444444444444444,
             "#bd3786"
            ],
            [
             0.5555555555555556,
             "#d8576b"
            ],
            [
             0.6666666666666666,
             "#ed7953"
            ],
            [
             0.7777777777777778,
             "#fb9f3a"
            ],
            [
             0.8888888888888888,
             "#fdca26"
            ],
            [
             1,
             "#f0f921"
            ]
           ]
          },
          "colorway": [
           "#636efa",
           "#EF553B",
           "#00cc96",
           "#ab63fa",
           "#FFA15A",
           "#19d3f3",
           "#FF6692",
           "#B6E880",
           "#FF97FF",
           "#FECB52"
          ],
          "font": {
           "color": "#2a3f5f"
          },
          "geo": {
           "bgcolor": "white",
           "lakecolor": "white",
           "landcolor": "#E5ECF6",
           "showlakes": true,
           "showland": true,
           "subunitcolor": "white"
          },
          "hoverlabel": {
           "align": "left"
          },
          "hovermode": "closest",
          "mapbox": {
           "style": "light"
          },
          "paper_bgcolor": "white",
          "plot_bgcolor": "#E5ECF6",
          "polar": {
           "angularaxis": {
            "gridcolor": "white",
            "linecolor": "white",
            "ticks": ""
           },
           "bgcolor": "#E5ECF6",
           "radialaxis": {
            "gridcolor": "white",
            "linecolor": "white",
            "ticks": ""
           }
          },
          "scene": {
           "xaxis": {
            "backgroundcolor": "#E5ECF6",
            "gridcolor": "white",
            "gridwidth": 2,
            "linecolor": "white",
            "showbackground": true,
            "ticks": "",
            "zerolinecolor": "white"
           },
           "yaxis": {
            "backgroundcolor": "#E5ECF6",
            "gridcolor": "white",
            "gridwidth": 2,
            "linecolor": "white",
            "showbackground": true,
            "ticks": "",
            "zerolinecolor": "white"
           },
           "zaxis": {
            "backgroundcolor": "#E5ECF6",
            "gridcolor": "white",
            "gridwidth": 2,
            "linecolor": "white",
            "showbackground": true,
            "ticks": "",
            "zerolinecolor": "white"
           }
          },
          "shapedefaults": {
           "line": {
            "color": "#2a3f5f"
           }
          },
          "ternary": {
           "aaxis": {
            "gridcolor": "white",
            "linecolor": "white",
            "ticks": ""
           },
           "baxis": {
            "gridcolor": "white",
            "linecolor": "white",
            "ticks": ""
           },
           "bgcolor": "#E5ECF6",
           "caxis": {
            "gridcolor": "white",
            "linecolor": "white",
            "ticks": ""
           }
          },
          "title": {
           "x": 0.05
          },
          "xaxis": {
           "automargin": true,
           "gridcolor": "white",
           "linecolor": "white",
           "ticks": "",
           "title": {
            "standoff": 15
           },
           "zerolinecolor": "white",
           "zerolinewidth": 2
          },
          "yaxis": {
           "automargin": true,
           "gridcolor": "white",
           "linecolor": "white",
           "ticks": "",
           "title": {
            "standoff": 15
           },
           "zerolinecolor": "white",
           "zerolinewidth": 2
          }
         }
        },
        "xaxis": {
         "anchor": "y",
         "autorange": true,
         "domain": [
          0,
          1
         ],
         "range": [
          51,
          61
         ],
         "title": {
          "text": "Weight"
         },
         "type": "linear"
        },
        "yaxis": {
         "anchor": "x",
         "autorange": true,
         "domain": [
          0,
          1
         ],
         "range": [
          0,
          51.578947368421055
         ],
         "title": {
          "text": "count"
         }
        }
       }
      },
      "image/png": "[encoded data removed]"
     },
     "metadata": {},
     "output_type": "display_data"
    }
   ],
   "source": [
    "fig = px.histogram(wdata, 'Weight', color = 'Sex')\n",
    "fig.show()"
   ]
  },
  {
   "cell_type": "code",
   "execution_count": 54,
   "metadata": {},
   "outputs": [
    {
     "data": {
      "application/vnd.plotly.v1+json": {
       "config": {
        "plotlyServerURL": "https://plot.ly"
       },
       "data": [
        {
         "legendgroup": "M",
         "marker": {
          "color": "rgb(31, 119, 180)"
         },
         "mode": "lines",
         "name": "M",
         "showlegend": true,
         "type": "scatter",
         "x": [
          55.602496023861185,
          55.61281871997316,
          55.62314141608514,
          55.63346411219712,
          55.643786808309095,
          55.65410950442107,
          55.66443220053305,
          55.67475489664502,
          55.685077592757,
          55.695400288868974,
          55.70572298498095,
          55.71604568109293,
          55.726368377204906,
          55.736691073316884,
          55.74701376942886,
          55.75733646554084,
          55.767659161652816,
          55.77798185776479,
          55.78830455387677,
          55.79862724998874,
          55.80894994610072,
          55.819272642212695,
          55.82959533832467,
          55.83991803443665,
          55.85024073054863,
          55.860563426660605,
          55.87088612277258,
          55.88120881888456,
          55.89153151499654,
          55.901854211108514,
          55.91217690722049,
          55.92249960333247,
          55.93282229944444,
          55.943144995556416,
          55.95346769166839,
          55.96379038778037,
          55.97411308389235,
          55.984435780004326,
          55.9947584761163,
          56.00508117222828,
          56.01540386834026,
          56.025726564452235,
          56.03604926056421,
          56.04637195667619,
          56.05669465278816,
          56.06701734890014,
          56.077340045012114,
          56.08766274112409,
          56.09798543723607,
          56.10830813334805,
          56.118630829460024,
          56.128953525572,
          56.13927622168398,
          56.149598917795956,
          56.15992161390793,
          56.17024431001991,
          56.18056700613189,
          56.19088970224386,
          56.201212398355835,
          56.21153509446781,
          56.22185779057979,
          56.23218048669177,
          56.242503182803745,
          56.25282587891572,
          56.2631485750277,
          56.27347127113968,
          56.283793967251654,
          56.29411666336363,
          56.30443935947561,
          56.31476205558758,
          56.325084751699556,
          56.335407447811534,
          56.34573014392351,
          56.35605284003549,
          56.366375536147466,
          56.37669823225944,
          56.38702092837142,
          56.3973436244834,
          56.407666320595375,
          56.41798901670735,
          56.42831171281933,
          56.43863440893131,
          56.44895710504328,
          56.459279801155255,
          56.46960249726723,
          56.47992519337921,
          56.49024788949119,
          56.500570585603164,
          56.51089328171514,
          56.52121597782712,
          56.531538673939096,
          56.54186137005107,
          56.55218406616305,
          56.56250676227503,
          56.572829458387,
          56.583152154498976,
          56.59347485061095,
          56.60379754672293,
          56.61412024283491,
          56.624442938946885,
          56.63476563505886,
          56.64508833117084,
          56.65541102728282,
          56.665733723394794,
          56.67605641950677,
          56.68637911561875,
          56.69670181173072,
          56.707024507842696,
          56.717347203954674,
          56.72766990006665,
          56.73799259617863,
          56.748315292290606,
          56.75863798840258,
          56.76896068451456,
          56.77928338062654,
          56.789606076738515,
          56.79992877285049,
          56.81025146896247,
          56.82057416507445,
          56.83089686118642,
          56.841219557298395,
          56.85154225341037,
          56.86186494952235,
          56.87218764563433,
          56.882510341746304,
          56.89283303785828,
          56.90315573397026,
          56.913478430082236,
          56.92380112619421,
          56.93412382230619,
          56.94444651841817,
          56.954769214530145,
          56.965091910642116,
          56.97541460675409,
          56.98573730286607,
          56.99605999897805,
          57.006382695090025,
          57.016705391202,
          57.02702808731398,
          57.03735078342596,
          57.047673479537934,
          57.05799617564991,
          57.06831887176189,
          57.078641567873866,
          57.08896426398584,
          57.099286960097814,
          57.10960965620979,
          57.11993235232177,
          57.130255048433746,
          57.14057774454572,
          57.1509004406577,
          57.16122313676968,
          57.171545832881655,
          57.18186852899363,
          57.19219122510561,
          57.20251392121759,
          57.212836617329565,
          57.223159313441535,
          57.23348200955351,
          57.24380470566549,
          57.25412740177747,
          57.264450097889444,
          57.27477279400142,
          57.2850954901134,
          57.295418186225376,
          57.30574088233735,
          57.31606357844933,
          57.32638627456131,
          57.336708970673286,
          57.347031666785256,
          57.35735436289723,
          57.36767705900921,
          57.37799975512119,
          57.388322451233165,
          57.39864514734514,
          57.40896784345712,
          57.4192905395691,
          57.429613235681074,
          57.43993593179305,
          57.45025862790503,
          57.46058132401701,
          57.470904020128984,
          57.481226716240954,
          57.49154941235293,
          57.50187210846491,
          57.512194804576886,
          57.52251750068886,
          57.53284019680084,
          57.54316289291282,
          57.553485589024795,
          57.56380828513677,
          57.57413098124875,
          57.58445367736073,
          57.594776373472705,
          57.605099069584675,
          57.61542176569665,
          57.62574446180863,
          57.63606715792061,
          57.646389854032584,
          57.65671255014456,
          57.66703524625654,
          57.677357942368516,
          57.687680638480494,
          57.69800333459247,
          57.70832603070445,
          57.718648726816426,
          57.7289714229284,
          57.73929411904037,
          57.74961681515235,
          57.75993951126433,
          57.770262207376305,
          57.78058490348828,
          57.79090759960026,
          57.80123029571224,
          57.811552991824215,
          57.82187568793619,
          57.83219838404817,
          57.84252108016015,
          57.852843776272124,
          57.863166472384094,
          57.87348916849607,
          57.88381186460805,
          57.894134560720026,
          57.904457256832,
          57.91477995294398,
          57.92510264905596,
          57.935425345167936,
          57.94574804127991,
          57.95607073739189,
          57.96639343350387,
          57.976716129615845,
          57.98703882572782,
          57.99736152183979,
          58.00768421795177,
          58.01800691406375,
          58.028329610175724,
          58.0386523062877,
          58.04897500239968,
          58.05929769851166,
          58.069620394623634,
          58.07994309073561,
          58.09026578684759,
          58.100588482959566,
          58.11091117907154,
          58.12123387518351,
          58.13155657129549,
          58.14187926740747,
          58.152201963519445,
          58.16252465963142,
          58.1728473557434,
          58.18317005185538,
          58.193492747967355,
          58.20381544407933,
          58.21413814019131,
          58.22446083630329,
          58.234783532415264,
          58.245106228527234,
          58.25542892463921,
          58.26575162075119,
          58.276074316863166,
          58.286397012975144,
          58.29671970908712,
          58.3070424051991,
          58.317365101311076,
          58.32768779742305,
          58.33801049353503,
          58.34833318964701,
          58.358655885758985,
          58.36897858187096,
          58.37930127798293,
          58.38962397409491,
          58.39994667020689,
          58.410269366318865,
          58.42059206243084,
          58.43091475854282,
          58.4412374546548,
          58.451560150766774,
          58.46188284687875,
          58.47220554299073,
          58.482528239102706,
          58.49285093521468,
          58.50317363132666,
          58.51349632743863,
          58.52381902355061,
          58.534141719662586,
          58.54446441577456,
          58.55478711188654,
          58.56510980799852,
          58.575432504110495,
          58.58575520022247,
          58.59607789633445,
          58.60640059244643,
          58.616723288558404,
          58.62704598467038,
          58.63736868078236,
          58.64769137689433,
          58.658014073006306,
          58.668336769118284,
          58.67865946523026,
          58.68898216134224,
          58.699304857454216,
          58.70962755356619,
          58.71995024967817,
          58.73027294579015,
          58.740595641902125,
          58.7509183380141,
          58.76124103412607,
          58.77156373023805,
          58.78188642635003,
          58.792209122462005,
          58.80253181857398,
          58.81285451468596,
          58.82317721079794,
          58.833499906909914,
          58.84382260302189,
          58.85414529913387,
          58.864467995245846,
          58.87479069135782,
          58.8851133874698,
          58.89543608358177,
          58.90575877969375,
          58.916081475805726,
          58.9264041719177,
          58.93672686802968,
          58.94704956414166,
          58.957372260253635,
          58.96769495636561,
          58.97801765247759,
          58.98834034858957,
          58.998663044701544,
          59.00898574081352,
          59.0193084369255,
          59.02963113303747,
          59.03995382914945,
          59.050276525261424,
          59.0605992213734,
          59.07092191748538,
          59.081244613597356,
          59.09156730970933,
          59.10189000582131,
          59.11221270193329,
          59.122535398045265,
          59.13285809415724,
          59.14318079026922,
          59.1535034863812,
          59.16382618249317,
          59.174148878605145,
          59.18447157471712,
          59.1947942708291,
          59.20511696694108,
          59.215439663053054,
          59.22576235916503,
          59.23608505527701,
          59.246407751388986,
          59.25673044750096,
          59.26705314361294,
          59.27737583972491,
          59.28769853583689,
          59.298021231948866,
          59.30834392806084,
          59.31866662417282,
          59.3289893202848,
          59.339312016396775,
          59.34963471250875,
          59.35995740862073,
          59.37028010473271,
          59.380602800844684,
          59.39092549695666,
          59.40124819306864,
          59.41157088918061,
          59.42189358529259,
          59.432216281404564,
          59.44253897751654,
          59.45286167362852,
          59.463184369740496,
          59.47350706585247,
          59.48382976196445,
          59.49415245807643,
          59.504475154188405,
          59.51479785030038,
          59.52512054641236,
          59.53544324252434,
          59.54576593863631,
          59.556088634748285,
          59.56641133086026,
          59.57673402697224,
          59.58705672308422,
          59.597379419196194,
          59.60770211530817,
          59.61802481142015,
          59.628347507532126,
          59.638670203644104,
          59.64899289975608,
          59.65931559586805,
          59.669638291980036,
          59.679960988092006,
          59.69028368420398,
          59.70060638031596,
          59.71092907642794,
          59.721251772539915,
          59.73157446865189,
          59.74189716476387,
          59.75221986087585,
          59.762542556987825,
          59.7728652530998,
          59.78318794921178,
          59.79351064532375,
          59.803833341435734,
          59.814156037547704,
          59.82447873365968,
          59.83480142977166,
          59.845124125883636,
          59.85544682199561,
          59.86576951810759,
          59.87609221421957,
          59.886414910331546,
          59.89673760644352,
          59.9070603025555,
          59.91738299866748,
          59.92770569477945,
          59.938028390891425,
          59.9483510870034,
          59.95867378311538,
          59.96899647922736,
          59.979319175339334,
          59.98964187145131,
          59.99996456756329,
          60.010287263675266,
          60.020609959787244,
          60.03093265589922,
          60.0412553520112,
          60.051578048123176,
          60.061900744235146,
          60.07222344034712,
          60.0825461364591,
          60.09286883257108,
          60.103191528683055,
          60.11351422479503,
          60.12383692090701,
          60.13415961701899,
          60.144482313130965,
          60.15480500924294,
          60.16512770535492,
          60.17545040146689,
          60.185773097578874,
          60.196095793690844,
          60.20641848980282,
          60.2167411859148,
          60.227063882026776,
          60.237386578138754,
          60.24770927425073,
          60.25803197036271,
          60.268354666474686,
          60.27867736258666,
          60.28900005869864,
          60.29932275481062,
          60.30964545092259,
          60.319968147034565,
          60.33029084314654,
          60.34061353925852,
          60.3509362353705,
          60.361258931482475,
          60.37158162759445,
          60.38190432370643,
          60.39222701981841,
          60.402549715930384,
          60.41287241204236,
          60.42319510815434,
          60.433517804266316,
          60.443840500378286,
          60.45416319649026,
          60.46448589260224,
          60.47480858871422,
          60.485131284826195,
          60.49545398093817,
          60.50577667705015,
          60.51609937316213,
          60.526422069274105,
          60.53674476538608,
          60.54706746149806,
          60.55739015761004,
          60.567712853722014,
          60.578035549833984,
          60.58835824594596,
          60.59868094205794,
          60.609003638169916,
          60.619326334281894,
          60.62964903039387,
          60.63997172650585,
          60.650294422617826,
          60.6606171187298,
          60.67093981484178,
          60.68126251095376,
          60.69158520706573,
          60.70190790317771,
          60.71223059928968,
          60.72255329540166,
          60.73287599151364,
          60.743198687625615,
          60.75352138373759
         ],
         "xaxis": "x",
         "y": [
          0.014403575157776473,
          0.014827954958376013,
          0.01526280514910444,
          0.015708479167747622,
          0.016165338606367458,
          0.016633752095633208,
          0.017114094107407506,
          0.017606743682002976,
          0.018112083087307777,
          0.01863049641771865,
          0.019162368141529308,
          0.019708081606041546,
          0.02026801751024028,
          0.02084255235537379,
          0.021432056884174,
          0.022036894519793584,
          0.02265741981575571,
          0.02329397692834937,
          0.023946898122933265,
          0.024616502325539635,
          0.02530309373099023,
          0.02600696047845297,
          0.02672837340497642,
          0.02746758488704604,
          0.02822482777960935,
          0.029000314461324832,
          0.029794235994004336,
          0.03060676140334699,
          0.03143803708711386,
          0.03228818635587227,
          0.03315730911035833,
          0.03404548165836967,
          0.03495275667294346,
          0.035879163292353494,
          0.03682470736125342,
          0.037789371811085076,
          0.03877311717663563,
          0.03977588224445408,
          0.04079758482767591,
          0.04183812266069199,
          0.04289737440606491,
          0.043975200765086694,
          0.045071445682506484,
          0.04618593763513104,
          0.04731849099330444,
          0.04846890744368365,
          0.049636977461228825,
          0.050822481818000455,
          0.05202519311611098,
          0.05324487733206399,
          0.054481295359773835,
          0.05573420453969715,
          0.057003360161805225,
          0.058288516930537826,
          0.05958943038041319,
          0.06090585823161769,
          0.062237561675651115,
          0.06358430658194703,
          0.06494586461735549,
          0.06632201427132164,
          0.06771254178075181,
          0.06911724194961602,
          0.0705359188595295,
          0.07196838646872913,
          0.0734144690980516,
          0.07487400180369629,
          0.07634683063774352,
          0.07783281279848181,
          0.07933181667372133,
          0.08084372178126266,
          0.0823684186116536,
          0.0839058083792005,
          0.08545580268802057,
          0.08701832312053649,
          0.08859330075643355,
          0.09018067563049398,
          0.09178039613810957,
          0.09339241839745895,
          0.09501670557744912,
          0.0966532272004999,
          0.09830195842911704,
          0.09996287934496424,
          0.10163597422879384,
          0.10332123084915847,
          0.1050186397672976,
          0.1067281936649819,
          0.10844988670142712,
          0.11018371390465395,
          0.11192967060189365,
          0.11368775189283037,
          0.1154579521686402,
          0.11724026467893857,
          0.11903468114794687,
          0.12084119144031548,
          0.1226597832763026,
          0.1244904419952391,
          0.12633315036547574,
          0.12818788843842643,
          0.13005463344367743,
          0.13193335972165,
          0.1338240386898928,
          0.13572663883867428,
          0.13764112575133144,
          0.1395674621446213,
          0.14150560792422842,
          0.14345552025057215,
          0.1454171536101231,
          0.14739045988758434,
          0.14937538843451112,
          0.15137188613022992,
          0.15337989743126135,
          0.15539936440585245,
          0.15743022675066404,
          0.15947242178714574,
          0.16152588443563098,
          0.1635905471657197,
          0.1656663399220471,
          0.1677531900250849,
          0.16985102204713218,
          0.17195975766421887,
          0.1740793154850769,
          0.17620961085883718,
          0.17835055566356248,
          0.18050205807806952,
          0.18266402233987697,
          0.1848363484924069,
          0.18701893212480478,
          0.1892116641079753,
          0.1914144303305241,
          0.1936271114384311,
          0.19584958258230215,
          0.1980817131760341,
          0.20032336667066913,
          0.20257440034712604,
          0.20483466513128726,
          0.20710400543484908,
          0.20938225902498012,
          0.21166925692568708,
          0.2139648233534531,
          0.2162687756894258,
          0.21858092449010466,
          0.2209010735381348,
          0.22322901993447272,
          0.2255645542328147,
          0.22790746061680658,
          0.2302575171202325,
          0.23261449588988817,
          0.23497816349061465,
          0.2373482812514695,
          0.2397246056516982,
          0.24210688874476508,
          0.24449487861833577,
          0.24688831988770074,
          0.24928695421979924,
          0.2516905208845371,
          0.25409875732978693,
          0.25651139977601567,
          0.2589281838261098,
          0.2613488450855809,
          0.2637731197878837,
          0.2662007454192442,
          0.26863146133695187,
          0.27106500937463474,
          0.27350113442769775,
          0.27593958501166965,
          0.2783801137858191,
          0.28082247803405697,
          0.283266440094772,
          0.2857117677309426,
          0.2881582344315856,
          0.29060561963536,
          0.29305370886695997,
          0.2955022937768054,
          0.29795117207447847,
          0.3004001473463751,
          0.3028490287481518,
          0.30529763056274184,
          0.30774577161503086,
          0.31019327453468104,
          0.31263996485917206,
          0.3150856699697127,
          0.3175302178535432,
          0.319973435687011,
          0.32241514823490564,
          0.32485517606265724,
          0.3272933335594241,
          0.32972942677144235,
          0.3321632510466848,
          0.33459458849347334,
          0.3370232052575792,
          0.33944884862419095,
          0.3418712439531267,
          0.34429009145772616,
          0.346705062839952,
          0.3491157977963661,
          0.35152190041180315,
          0.35392293545968695,
          0.3563184246300582,
          0.35870784270842065,
          0.36109061373048973,
          0.3634661071397888,
          0.3658336339767778,
          0.36819244312977445,
          0.3705417176793337,
          0.37288057136894986,
          0.37520804523591117,
          0.3775231044368983,
          0.3798246353033265,
          0.38211144266168284,
          0.38438224745393007,
          0.38663568469269877,
          0.3888703017851971,
          0.39108455725872987,
          0.39327681991932795,
          0.39544536847329914,
          0.3975883916394085,
          0.39970398877712926,
          0.4017901710536656,
          0.4038448631695459,
          0.40586590565932434,
          0.407851057780462,
          0.4097980009996864,
          0.4117043430822943,
          0.4135676227856294,
          0.41538531515379934,
          0.41715483740627446,
          0.4188735554085683,
          0.420538790708683,
          0.42214782811849966,
          0.42369792381480836,
          0.42518631393025474,
          0.4266102236001696,
          0.42796687642710524,
          0.4292535043208905,
          0.4304673576682794,
          0.43160571578276263,
          0.43266589758188234,
          0.4336452724364979,
          0.43454127113390956,
          0.4353513968945438,
          0.4360732363801771,
          0.43670447063025836,
          0.4372428858620076,
          0.43768638406948646,
          0.43803299335681106,
          0.4382808779411361,
          0.43842834776195466,
          0.438473867634647,
          0.4384160658880513,
          0.4382537424281325,
          0.4379858761725579,
          0.43761163180415613,
          0.43713036579480274,
          0.43654163165521787,
          0.43584518437046976,
          0.4350409839856107,
          0.4341291983107944,
          0.4331102047204107,
          0.43198459102619546,
          0.4307531554098679,
          0.42941690540659505,
          0.4279770559364556,
          0.42643502638698033,
          0.4247924367558107,
          0.42305110286842734,
          0.4212130306917989,
          0.41928040977052855,
          0.4172556058177008,
          0.41514115249810424,
          0.4129397424466428,
          0.4106542175697334,
          0.40828755868213573,
          0.4058428745359068,
          0.4033233903021808,
          0.40073243556997873,
          0.3980734319293411,
          0.39534988020883294,
          0.39256534743958077,
          0.3897234536197694,
          0.38682785835474487,
          0.3838822474485578,
          0.38089031952299623,
          0.3778557727398288,
          0.3747822917011369,
          0.3716735346012569,
          0.3685331207020154,
          0.3653646182005693,
          0.36217153255635764,
          0.35895729534039095,
          0.35572525366638225,
          0.3524786602591245,
          0.34922066421101894,
          0.3459543024728336,
          0.3426824921195876,
          0.33940802342713483,
          0.3361335537892849,
          0.3328616024995109,
          0.32959454641536917,
          0.32633461651758067,
          0.3230838953697093,
          0.3198443154782021,
          0.3166176585464261,
          0.313405555610442,
          0.3102094880382881,
          0.3070307893689114,
          0.3038706479614066,
          0.3007301104200162,
          0.2976100857554193,
          0.2945113502383513,
          0.29143455289724635,
          0.28838022160799276,
          0.2853487697203843,
          0.28234050316300296,
          0.2793556279658338,
          0.27639425813794205,
          0.2734564238361107,
          0.27054207975938904,
          0.2676511137040605,
          0.2647833552136265,
          0.2619385842589286,
          0.25911653988464334,
          0.2563169287598907,
          0.2535394335726385,
          0.25078372121005915,
          0.24804945066977346,
          0.24533628065010538,
          0.2426438767710189,
          0.23997191838118237,
          0.23732010491080155,
          0.2346881617340773,
          0.2320758455097302,
          0.22948294897264707,
          0.22690930515448113,
          0.224354791015819,
          0.2218193304774265,
          0.21930289684276194,
          0.21680551460884318,
          0.21432726066706925,
          0.21186826490015392,
          0.20942871018564377,
          0.20700883182061403,
          0.20460891638603135,
          0.20222930007290107,
          0.1998703664956863,
          0.19753254402153067,
          0.19521630264659617,
          0.19292215045319266,
          0.19065062968359647,
          0.18840231246807843,
          0.186177796246212,
          0.18397769892158625,
          0.18180265379084545,
          0.1796533042884407,
          0.17753029858866456,
          0.17543428410636996,
          0.17336590193745008,
          0.17132578127943698,
          0.1693145338717171,
          0.1673327484937806,
          0.1653809855585561,
          0.16345977183647428,
          0.16156959534423637,
          0.15971090043048577,
          0.1578840830887574,
          0.15608948652604313,
          0.1543273970133105,
          0.15259804004218447,
          0.15090157680985983,
          0.14923810105213875,
          0.14760763624228337,
          0.14601013317119454,
          0.14444546792221444,
          0.14291344025169356,
          0.1414137723842808,
          0.1399461082297754,
          0.1385100130262622,
          0.1371049734121726,
          0.13573039792787125,
          0.13438561794534534,
          0.1330698890226041,
          0.13178239267741568,
          0.13052223857313294,
          0.1292884671074309,
          0.1280800523929346,
          0.12689590561690983,
          0.1257348787653553,
          0.12459576869511144,
          0.12347732153586452,
          0.12237823740222666,
          0.12129717539447082,
          0.12023275886487562,
          0.11918358092512917,
          0.11814821016877163,
          0.11712519658127164,
          0.11611307760902223,
          0.11511038435736348,
          0.11411564788659319,
          0.11312740557401432,
          0.11214420750917442,
          0.1111646228887869,
          0.11018724637727295,
          0.10921070439850677,
          0.10823366132415906,
          0.10725482552404772,
          0.10627295524412077,
          0.10528686427812968,
          0.10429542739968119,
          0.10329758552225195,
          0.10229235055584662,
          0.10127880993026886,
          0.10025613075660787,
          0.09922356360024462,
          0.09818044584073668,
          0.09712620459612935,
          0.0960603591916421,
          0.09498252315530353,
          0.0938924057258431,
          0.09278981286108909,
          0.09167464773816521,
          0.09054691073994818,
          0.08940669892549016,
          0.08825420498545401,
          0.08708971568690517,
          0.08591360981523466,
          0.08472635562427512,
          0.08352850780899648,
          0.08232070401838117,
          0.08110366092919964,
          0.07987816990439744,
          0.07864509226263702,
          0.07740535418819143,
          0.07615994131283131,
          0.07490989300357903,
          0.07365629639214238,
          0.07240028018361536,
          0.07114300828338456,
          0.06988567328237759,
          0.0686294898415982,
          0.06737568801742541,
          0.06612550656936644,
          0.0648801862918599,
          0.06364096341128955,
          0.06240906308868486,
          0.06118569306752766,
          0.0599720375047834,
          0.05876925102171354,
          0.05757845300910234,
          0.056400722219536785,
          0.055237091676962655,
          0.054088543931261855,
          0.052956006682896274,
          0.05184034879977171,
          0.050742376745504886,
          0.04966283143517081,
          0.048602385531432785,
          0.04756164119073312,
          0.04654112826596979,
          0.04554130296884027,
          0.044562546991814375,
          0.04360516708653655,
          0.04266939509237452,
          0.04175538840585233,
          0.04086323087884831,
          0.039992934130732405,
          0.0391444392570681,
          0.03831761891514143,
          0.0375122797644151,
          0.036728165238030075,
          0.03596495861976475,
          0.03522228639932277,
          0.034499721877556774,
          0.0337967889922061,
          0.033112966333908644,
          0.032447691321716,
          0.031800364507017516,
          0.0311703539746928,
          0.03055699981048649,
          0.029959618603952413,
          0.02937750795691795,
          0.028809950968207897,
          0.02825622066635309,
          0.027715584363171952,
          0.027187307902441553,
          0.02667065977935115,
          0.026164915108041864,
          0.02566935941626358,
          0.02518329224800812,
          0.02470603055688773,
          0.024236911875005287,
          0.02377529724408783,
          0.023320573897711545,
          0.02287215768551865,
          0.022429495232397,
          0.021992065827649232,
          0.021559383041188655,
          0.021130996065799677,
          0.020706490786375892,
          0.020285490578936836,
          0.019867656843944148,
          0.019452689280127198
         ],
         "yaxis": "y"
        },
        {
         "legendgroup": "F",
         "marker": {
          "color": "rgb(255, 127, 14)"
         },
         "mode": "lines",
         "name": "F",
         "showlegend": true,
         "type": "scatter",
         "x": [
          51.436483339375265,
          51.44839229372744,
          51.46030124807962,
          51.47221020243179,
          51.48411915678397,
          51.49602811113614,
          51.50793706548832,
          51.51984601984049,
          51.53175497419267,
          51.543663928544845,
          51.55557288289702,
          51.5674818372492,
          51.57939079160137,
          51.59129974595355,
          51.60320870030572,
          51.6151176546579,
          51.62702660901007,
          51.638935563362246,
          51.650844517714425,
          51.6627534720666,
          51.67466242641878,
          51.68657138077095,
          51.69848033512313,
          51.7103892894753,
          51.72229824382748,
          51.734207198179654,
          51.746116152531826,
          51.758025106884006,
          51.76993406123618,
          51.78184301558836,
          51.79375196994053,
          51.80566092429271,
          51.81756987864488,
          51.829478832997054,
          51.841387787349234,
          51.853296741701406,
          51.865205696053586,
          51.87711465040576,
          51.88902360475794,
          51.90093255911011,
          51.91284151346229,
          51.92475046781446,
          51.936659422166635,
          51.948568376518814,
          51.96047733087099,
          51.972386285223166,
          51.98429523957534,
          51.99620419392752,
          52.00811314827969,
          52.02002210263186,
          52.03193105698404,
          52.043840011336215,
          52.055748965688394,
          52.06765792004057,
          52.07956687439275,
          52.09147582874492,
          52.1033847830971,
          52.11529373744927,
          52.12720269180144,
          52.13911164615362,
          52.151020600505795,
          52.162929554857975,
          52.17483850921015,
          52.18674746356233,
          52.1986564179145,
          52.21056537226667,
          52.22247432661885,
          52.234383280971024,
          52.2462922353232,
          52.258201189675376,
          52.270110144027555,
          52.28201909837973,
          52.29392805273191,
          52.30583700708408,
          52.31774596143625,
          52.32965491578843,
          52.341563870140604,
          52.35347282449278,
          52.365381778844956,
          52.377290733197135,
          52.38919968754931,
          52.40110864190148,
          52.41301759625366,
          52.42492655060583,
          52.43683550495801,
          52.448744459310184,
          52.460653413662364,
          52.472562368014536,
          52.484471322366716,
          52.49638027671889,
          52.50828923107106,
          52.52019818542324,
          52.53210713977541,
          52.54401609412759,
          52.555925048479764,
          52.567834002831944,
          52.579742957184116,
          52.59165191153629,
          52.60356086588847,
          52.61546982024064,
          52.62737877459282,
          52.63928772894499,
          52.65119668329717,
          52.663105637649345,
          52.675014592001524,
          52.6869235463537,
          52.69883250070587,
          52.71074145505805,
          52.72265040941022,
          52.7345593637624,
          52.74646831811457,
          52.75837727246675,
          52.770286226818925,
          52.7821951811711,
          52.79410413552328,
          52.80601308987545,
          52.81792204422763,
          52.8298309985798,
          52.84173995293198,
          52.85364890728415,
          52.86555786163633,
          52.877466815988505,
          52.88937577034068,
          52.90128472469286,
          52.91319367904503,
          52.92510263339721,
          52.93701158774938,
          52.94892054210156,
          52.960829496453734,
          52.972738450805906,
          52.984647405158086,
          52.99655635951026,
          53.00846531386244,
          53.02037426821461,
          53.03228322256679,
          53.04419217691896,
          53.05610113127114,
          53.068010085623314,
          53.079919039975486,
          53.091827994327666,
          53.10373694867984,
          53.11564590303202,
          53.12755485738419,
          53.13946381173637,
          53.15137276608854,
          53.16328172044072,
          53.175190674792894,
          53.18709962914507,
          53.199008583497246,
          53.21091753784942,
          53.2228264922016,
          53.23473544655377,
          53.24664440090595,
          53.25855335525812,
          53.270462309610295,
          53.282371263962474,
          53.29428021831465,
          53.306189172666826,
          53.318098127019,
          53.33000708137118,
          53.34191603572335,
          53.35382499007552,
          53.3657339444277,
          53.377642898779875,
          53.389551853132055,
          53.40146080748423,
          53.41336976183641,
          53.42527871618858,
          53.43718767054076,
          53.44909662489293,
          53.4610055792451,
          53.47291453359728,
          53.484823487949456,
          53.496732442301635,
          53.50864139665381,
          53.52055035100599,
          53.53245930535816,
          53.54436825971034,
          53.55627721406251,
          53.568186168414684,
          53.58009512276686,
          53.592004077119036,
          53.603913031471215,
          53.61582198582339,
          53.62773094017557,
          53.63963989452774,
          53.65154884887991,
          53.66345780323209,
          53.675366757584264,
          53.687275711936444,
          53.699184666288616,
          53.711093620640796,
          53.72300257499297,
          53.73491152934514,
          53.74682048369732,
          53.75872943804949,
          53.77063839240167,
          53.782547346753844,
          53.794456301106024,
          53.806365255458196,
          53.818274209810376,
          53.83018316416255,
          53.84209211851472,
          53.8540010728669,
          53.86591002721907,
          53.87781898157125,
          53.889727935923425,
          53.901636890275604,
          53.91354584462778,
          53.925454798979956,
          53.93736375333213,
          53.9492727076843,
          53.96118166203648,
          53.97309061638865,
          53.98499957074083,
          53.996908525093005,
          54.008817479445185,
          54.02072643379736,
          54.03263538814953,
          54.04454434250171,
          54.05645329685388,
          54.06836225120606,
          54.08027120555823,
          54.09218015991041,
          54.104089114262585,
          54.115998068614765,
          54.12790702296694,
          54.13981597731911,
          54.15172493167129,
          54.16363388602346,
          54.17554284037564,
          54.187451794727814,
          54.19936074907999,
          54.211269703432166,
          54.223178657784345,
          54.23508761213652,
          54.24699656648869,
          54.25890552084087,
          54.27081447519304,
          54.28272342954522,
          54.294632383897394,
          54.30654133824957,
          54.318450292601746,
          54.33035924695392,
          54.3422682013061,
          54.35417715565827,
          54.36608611001045,
          54.37799506436262,
          54.3899040187148,
          54.401812973066974,
          54.41372192741915,
          54.425630881771326,
          54.4375398361235,
          54.44944879047568,
          54.46135774482785,
          54.47326669918003,
          54.4851756535322,
          54.49708460788438,
          54.508993562236554,
          54.52090251658873,
          54.532811470940906,
          54.54472042529308,
          54.55662937964526,
          54.56853833399743,
          54.58044728834961,
          54.59235624270178,
          54.60426519705396,
          54.616174151406135,
          54.62808310575831,
          54.63999206011049,
          54.65190101446266,
          54.66380996881484,
          54.67571892316701,
          54.68762787751919,
          54.69953683187136,
          54.711445786223535,
          54.723354740575715,
          54.73526369492789,
          54.74717264928007,
          54.75908160363224,
          54.77099055798442,
          54.78289951233659,
          54.79480846668877,
          54.80671742104094,
          54.818626375393116,
          54.830535329745295,
          54.84244428409747,
          54.85435323844965,
          54.86626219280182,
          54.878171147154,
          54.89008010150617,
          54.90198905585835,
          54.913898010210524,
          54.925806964562696,
          54.937715918914876,
          54.94962487326705,
          54.96153382761923,
          54.9734427819714,
          54.98535173632358,
          54.99726069067575,
          55.009169645027924,
          55.021078599380104,
          55.032987553732276,
          55.044896508084456,
          55.05680546243663,
          55.06871441678881,
          55.08062337114098,
          55.09253232549315,
          55.10444127984533,
          55.116350234197505,
          55.128259188549684,
          55.14016814290186,
          55.152077097254036,
          55.16398605160621,
          55.17589500595839,
          55.18780396031056,
          55.19971291466273,
          55.21162186901491,
          55.223530823367085,
          55.235439777719264,
          55.24734873207144,
          55.25925768642362,
          55.27116664077579,
          55.28307559512797,
          55.29498454948014,
          55.30689350383231,
          55.31880245818449,
          55.330711412536665,
          55.342620366888845,
          55.35452932124102,
          55.3664382755932,
          55.37834722994537,
          55.39025618429754,
          55.40216513864972,
          55.414074093001894,
          55.42598304735407,
          55.437892001706246,
          55.449800956058425,
          55.4617099104106,
          55.47361886476277,
          55.48552781911495,
          55.49743677346712,
          55.5093457278193,
          55.521254682171474,
          55.53316363652365,
          55.545072590875826,
          55.556981545228005,
          55.56889049958018,
          55.58079945393235,
          55.59270840828453,
          55.6046173626367,
          55.61652631698888,
          55.628435271341054,
          55.640344225693234,
          55.652253180045406,
          55.664162134397586,
          55.67607108874976,
          55.68798004310193,
          55.69988899745411,
          55.71179795180628,
          55.72370690615846,
          55.735615860510634,
          55.747524814862814,
          55.759433769214986,
          55.77134272356716,
          55.78325167791934,
          55.79516063227151,
          55.80706958662369,
          55.81897854097586,
          55.83088749532804,
          55.842796449680215,
          55.85470540403239,
          55.86661435838457,
          55.87852331273674,
          55.89043226708892,
          55.90234122144109,
          55.91425017579327,
          55.92615913014544,
          55.938068084497615,
          55.949977038849795,
          55.961885993201975,
          55.97379494755415,
          55.98570390190632,
          55.9976128562585,
          56.00952181061067,
          56.02143076496285,
          56.03333971931502,
          56.0452486736672,
          56.057157628019375,
          56.06906658237155,
          56.08097553672373,
          56.0928844910759,
          56.10479344542808,
          56.11670239978025,
          56.12861135413243,
          56.140520308484604,
          56.152429262836776,
          56.164338217188956,
          56.17624717154113,
          56.18815612589331,
          56.20006508024548,
          56.21197403459766,
          56.22388298894983,
          56.23579194330201,
          56.247700897654184,
          56.259609852006356,
          56.271518806358536,
          56.28342776071071,
          56.29533671506289,
          56.30724566941506,
          56.31915462376724,
          56.33106357811941,
          56.34297253247159,
          56.354881486823764,
          56.36679044117594,
          56.378699395528116,
          56.39060834988029,
          56.40251730423247,
          56.41442625858464,
          56.42633521293682,
          56.43824416728899,
          56.450153121641165,
          56.462062075993344,
          56.47397103034552,
          56.485879984697696,
          56.49778893904987,
          56.50969789340205,
          56.52160684775422,
          56.53351580210639,
          56.54542475645857,
          56.557333710810745,
          56.569242665162925,
          56.5811516195151,
          56.59306057386728,
          56.60496952821945,
          56.61687848257162,
          56.6287874369238,
          56.640696391275974,
          56.65260534562815,
          56.664514299980326,
          56.676423254332505,
          56.68833220868468,
          56.70024116303685,
          56.71215011738903,
          56.72405907174121,
          56.73596802609338,
          56.747876980445554,
          56.75978593479773,
          56.771694889149906,
          56.783603843502085,
          56.79551279785426,
          56.80742175220644,
          56.81933070655861,
          56.83123966091078,
          56.84314861526296,
          56.855057569615134,
          56.866966523967314,
          56.878875478319486,
          56.890784432671666,
          56.90269338702384,
          56.91460234137601,
          56.92651129572819,
          56.93842025008036,
          56.95032920443254,
          56.962238158784714,
          56.974147113136894,
          56.986056067489066,
          56.997965021841246,
          57.00987397619342,
          57.0217829305456,
          57.03369188489777,
          57.04560083924994,
          57.05750979360212,
          57.069418747954295,
          57.081327702306474,
          57.09323665665865,
          57.105145611010826,
          57.117054565363,
          57.12896351971517,
          57.14087247406735,
          57.15278142841952,
          57.1646903827717,
          57.176599337123875,
          57.188508291476055,
          57.20041724582823,
          57.2123262001804,
          57.22423515453258,
          57.23614410888475,
          57.24805306323693,
          57.2599620175891,
          57.27187097194128,
          57.283779926293455,
          57.29568888064563,
          57.30759783499781,
          57.31950678934998,
          57.33141574370216,
          57.34332469805433,
          57.35523365240651,
          57.367142606758684,
          57.379051561110856
         ],
         "xaxis": "x",
         "y": [
          0.005836009630091874,
          0.005835868861731527,
          0.005829154514989658,
          0.0058159481184658175,
          0.00579636024767944,
          0.005770530466423605,
          0.005738627138431308,
          0.00570084711365476,
          0.005657415294504436,
          0.005608584088370883,
          0.005554632753644143,
          0.005495866647244828,
          0.005432616382375377,
          0.005365236905783011,
          0.005294106504292244,
          0.0052196257507031414,
          0.005142216399367791,
          0.005062320241838082,
          0.004980397932932864,
          0.004896927797397257,
          0.004812404627022275,
          0.004727338477673198,
          0.0046422534751311305,
          0.0045576866380089825,
          0.004474186725250861,
          0.004392313114891776,
          0.0043126347198349626,
          0.004235728945425463,
          0.004162180692563562,
          0.004092581409025352,
          0.004027528190561282,
          0.003967622932229033,
          0.003913471529313343,
          0.0038656831260928106,
          0.0038248694096602604,
          0.003791643944989846,
          0.003766621546496684,
          0.0037504176804547392,
          0.00374364789184761,
          0.0037469272485291067,
          0.0037608697949791346,
          0.0037860880074641738,
          0.003823192242056961,
          0.003872790166743646,
          0.003935486168753865,
          0.004011880728293023,
          0.004102569750037344,
          0.004208143844073937,
          0.004329187548424437,
          0.004466278485887354,
          0.004619986448654031,
          0.004790872405004714,
          0.004979487423359135,
          0.005186371510027934,
          0.005412052358194141,
          0.005657044006913752,
          0.0059218454102711185,
          0.006206938918225305,
          0.0065127886721480545,
          0.006839838919534126,
          0.007188512253881258,
          0.0075592077872511055,
          0.007952299264511613,
          0.008368133129743417,
          0.008807026556704704,
          0.009269265456603863,
          0.009755102477716786,
          0.010264755012542252,
          0.010798403229274278,
          0.011356188145278098,
          0.011938209761070523,
          0.01254452527390767,
          0.013175147390571174,
          0.013830042759191256,
          0.014509130540057596,
          0.01521228113523748,
          0.015939315096498333,
          0.016690002230519845,
          0.017464060919603758,
          0.01826115767516686,
          0.019080906940092485,
          0.019922871154676874,
          0.020786561099284506,
          0.021671436525089148,
          0.022576907082298564,
          0.023502333553133702,
          0.024447029394581696,
          0.025410262593486353,
          0.026391257834057887,
          0.02738919897521164,
          0.028403231832500927,
          0.02943246725662108,
          0.030475984497747067,
          0.031532834842189945,
          0.032602045505142195,
          0.03368262376066489,
          0.034773561287465476,
          0.03587383870663971,
          0.0369824302852199,
          0.03809830877730335,
          0.03922045037263602,
          0.040347839720832564,
          0.041479474998041686,
          0.042614372981689144,
          0.04375157409810957,
          0.044890147407309115,
          0.04602919548892289,
          0.047167859193490834,
          0.04830532222365544,
          0.049440815510664544,
          0.05057362135265109,
          0.051703077282654546,
          0.05282857963608553,
          0.05394958678943879,
          0.055065622044417985,
          0.05617627613429651,
          0.05728120933224325,
          0.05838015314443332,
          0.05947291157413111,
          0.060559361946358845,
          0.06163945528642307,
          0.06271321624924261,
          0.0637807426001816,
          0.06484220425189623,
          0.06589784186541084,
          0.06694796502738773,
          0.06799295001909401,
          0.06903323719608287,
          0.0700693280008362,
          0.07110178163374554,
          0.0721312114105901,
          0.07315828083728047,
          0.07418369943487259,
          0.07520821834979674,
          0.07623262578587375,
          0.07725774229588157,
          0.07828441597135294,
          0.0793135175697123,
          0.08034593561801257,
          0.08138257153218904,
          0.08242433479012486,
          0.08347213819574732,
          0.0845268932699733,
          0.085589505802601,
          0.08666087159713139,
          0.08774187243818497,
          0.08883337230848869,
          0.08993621387958281,
          0.09105121529725783,
          0.09217916727952376,
          0.09332083054149135,
          0.09447693355805906,
          0.09564817067178562,
          0.09683520054971895,
          0.09803864498947146,
          0.09925908807130347,
          0.10049707564963622,
          0.10175311517416824,
          0.10302767582769669,
          0.10432118896487126,
          0.10563404883350305,
          0.10696661355765172,
          0.10831920635962128,
          0.1096921169962137,
          0.11108560338311699,
          0.11249989338011196,
          0.1139351867090258,
          0.1153916569758062,
          0.11686945376799962,
          0.11836870479904707,
          0.11988951807133348,
          0.12143198403069491,
          0.12299617768618404,
          0.12458216067024687,
          0.12618998321599667,
          0.12781968603013583,
          0.12947130204197235,
          0.13114485801117512,
          0.13284037597910583,
          0.1345578745509268,
          0.13629736999804373,
          0.13805887717285906,
          0.13984241023021204,
          0.1416479831521712,
          0.14347561007519294,
          0.1453253054207386,
          0.147197083832559,
          0.1490909599257011,
          0.15100694785400826,
          0.152945060704487,
          0.15490530972817212,
          0.1568877034183741,
          0.15889224644802913,
          0.16091893847872507,
          0.16296777285441985,
          0.16503873519328383,
          0.16713180189125482,
          0.1692469385508784,
          0.1713840983488936,
          0.17354322035570058,
          0.17572422781953953,
          0.17792702642763253,
          0.18015150255611423,
          0.1823975215198941,
          0.18466492583305952,
          0.18695353348981544,
          0.18926313627535635,
          0.19159349811556511,
          0.19394435347390773,
          0.19631540580355422,
          0.19870632606232733,
          0.20111675129794743,
          0.20354628331078398,
          0.20599448740132648,
          0.20846089120959585,
          0.21094498365380196,
          0.21344621397570432,
          0.2159639909004078,
          0.21849768191852678,
          0.22104661269892725,
          0.2236100666405433,
          0.22618728457201073,
          0.22877746460797488,
          0.23137976217115197,
          0.23399329018910048,
          0.2366171194746664,
          0.2392502792987065,
          0.2418917581633354,
          0.2445405047832785,
          0.24719542928214897,
          0.24985540460946895,
          0.2525192681829564,
          0.2551858237592954,
          0.2578538435348266,
          0.26052207047588727,
          0.26318922087640384,
          0.26585398713821046,
          0.2685150407671795,
          0.2711710355758219,
          0.27382061108048084,
          0.276462396078569,
          0.2790950123888,
          0.2817170787346486,
          0.28432721474886424,
          0.28692404507438934,
          0.2895062035347586,
          0.29207233734509364,
          0.2946211113328461,
          0.29715121213605183,
          0.299661352345487,
          0.30215027455637844,
          0.30461675529468724,
          0.30705960878301947,
          0.30947769051140583,
          0.3118699005790685,
          0.31423518677440476,
          0.3165725473620588,
          0.3188810335480775,
          0.3211597515965143,
          0.3234078645738468,
          0.32562459370070607,
          0.3278092192940652,
          0.329961081286899,
          0.3320795793164273,
          0.33416417237642676,
          0.3362143780335243,
          0.3382297712120302,
          0.3402099825563809,
          0.3421546963849459,
          0.3440636482533382,
          0.34593662214978166,
          0.34777344734919224,
          0.3495739949564763,
          0.3513381741731154,
          0.3530659283242303,
          0.3547572306861124,
          0.35641208015643405,
          0.3580304968111567,
          0.35961251739343164,
          0.3611581907804323,
          0.3626675734742814,
          0.36414072516272605,
          0.365577704394303,
          0.36697856441112064,
          0.36834334918033257,
          0.3696720896627454,
          0.37096480035392676,
          0.3722214761296453,
          0.37344208942350837,
          0.3746265877604311,
          0.3757748916649311,
          0.3768868929585002,
          0.3779624534552862,
          0.3790014040602698,
          0.38000354426901645,
          0.38096864206301667,
          0.38189643418969915,
          0.38278662681138537,
          0.3836388965029773,
          0.3844528915738973,
          0.385228233685972,
          0.38596451973550727,
          0.38666132396481284,
          0.3873182002659968,
          0.38793468463791414,
          0.38851029775582124,
          0.3890445476125096,
          0.3895369321895711,
          0.3899869421178638,
          0.3903940632873113,
          0.3907577793677922,
          0.3910775742050739,
          0.39135293405843974,
          0.39158334964988684,
          0.3917683179983968,
          0.391907344016832,
          0.39199994185336307,
          0.39204563596396796,
          0.3920439619073653,
          0.3919944668587025,
          0.3918967098433252,
          0.39175026169692223,
          0.3915547047632593,
          0.3913096323453859,
          0.3910146479307196,
          0.3906693642145501,
          0.39027340195029686,
          0.3898263886582394,
          0.3893279572272822,
          0.38877774444670116,
          0.3881753895065629,
          0.3875205325067329,
          0.3868128130149245,
          0.38605186871421027,
          0.3852373341797161,
          0.38436883982291425,
          0.38344601104002884,
          0.3824684675985618,
          0.381435823292923,
          0.3803476858966264,
          0.3792036574344876,
          0.3780033347939529,
          0.37674631068990927,
          0.3754321749924389,
          0.3740605164217662,
          0.37263092460945885,
          0.3711429925195926,
          0.3695963192184165,
          0.3679905129758769,
          0.36632519467749985,
          0.3646000015204811,
          0.3628145909635094,
          0.36096864489602865,
          0.35906187398914474,
          0.3570940221875744,
          0.35506487129958547,
          0.35297424564023455,
          0.350822016681985,
          0.3486081076663284,
          0.34633249813020356,
          0.3439952283016833,
          0.3415964033209222,
          0.339136197244209,
          0.33661485679165587,
          0.3340327048020003,
          0.3313901433616717,
          0.32868765657910876,
          0.3259258129797286,
          0.32310526750150836,
          0.32022676307590464,
          0.3172911317838877,
          0.314299295581724,
          0.3112522665962594,
          0.30815114699425433,
          0.3049971284350167,
          0.3017914911201478,
          0.2985356024582172,
          0.29523091536609336,
          0.29187896623189574,
          0.28848137256748013,
          0.28503983038065595,
          0.2815561112991348,
          0.27803205947945125,
          0.27446958833472995,
          0.2708706771151974,
          0.26723736737480197,
          0.2635717593562485,
          0.2598760083250704,
          0.2561523208813052,
          0.2524029512746322,
          0.24863019774599512,
          0.24483639891528752,
          0.24102393023107765,
          0.2371952004946301,
          0.2333526484663755,
          0.22949873955906988,
          0.22563596261788674,
          0.2217668267836618,
          0.21789385843194464,
          0.21401959817680943,
          0.2101465979253875,
          0.20627741796603535,
          0.20241462407087318,
          0.19856078459127638,
          0.19471846752370164,
          0.1908902375221761,
          0.18707865283359426,
          0.18328626213225122,
          0.1795156012308058,
          0.17576918964648483,
          0.1720495270031619,
          0.16835908925268134,
          0.16470032470164567,
          0.1610756498335738,
          0.1574874449200526,
          0.15393804941885703,
          0.15042975716149584,
          0.14696481133725997,
          0.14354539928582435,
          0.14017364711515085,
          0.13685161416645505,
          0.13358128735253486,
          0.13036457540046306,
          0.12720330303373448,
          0.12409920513296652,
          0.1210539209177342,
          0.11806898819504513,
          0.11514583772258657,
          0.11228578773661532,
          0.1094900386957846,
          0.10675966829274018,
          0.10409562678529988,
          0.10149873269832486,
          0.09896966894599833,
          0.09650897942209787,
          0.09411706610317969,
          0.09179418670623024,
          0.08954045293839401,
          0.08735582937190474,
          0.08524013297246202,
          0.08319303330381483,
          0.08121405342570216,
          0.07930257149619045,
          0.07745782308329677,
          0.07567890418443647,
          0.07396477494581022,
          0.07231426406752967,
          0.07072607387402816,
          0.06919878602324028,
          0.06773086782223567,
          0.06632067911158025,
          0.06496647967557405,
          0.06366643713096404,
          0.062418635242597484,
          0.06122108261095632,
          0.060071721673536624,
          0.05896843795968219,
          0.05790906953680087,
          0.056891416584765465,
          0.055913251034931874,
          0.05497232621036291,
          0.05406638640471412,
          0.05319317633866354,
          0.05235045043474608,
          0.05153598185402858,
          0.05074757124104282,
          0.049983055126906734,
          0.04924031394438184,
          0.04851727961285468,
          0.04781194265566068,
          0.04712235881690673,
          0.046446655149762,
          0.045783035553163175,
          0.04512978573886977,
          0.04448527761575886,
          0.04384797308318643,
          0.04321642722998542,
          0.04258929094031775,
          0.0419653129119629,
          0.04134334109680353,
          0.04072232357710652,
          0.04010130889476583,
          0.0394794458538931,
          0.038855982819993064,
          0.03823026654149451,
          0.037601740521517296,
          0.036969942969554845,
          0.0363345043641405,
          0.035695144658623716,
          0.035051670162892096,
          0.034403970134264474,
          0.03375201311084027,
          0.033095843020396074,
          0.03243557509744792,
          0.031771391640389626,
          0.031103537639700533,
          0.030432316307142552,
          0.029758084534589082,
          0.0290812483097902,
          0.028402258114874932
         ],
         "yaxis": "y"
        },
        {
         "legendgroup": "M",
         "marker": {
          "color": "rgb(31, 119, 180)",
          "symbol": "line-ns-open"
         },
         "mode": "markers",
         "name": "M",
         "showlegend": false,
         "type": "scatter",
         "x": [
          57.68043860015977,
          57.380006912278795,
          58.15699837644669,
          57.42854464892021,
          59.057633183204615,
          57.20851119052212,
          57.47537265407153,
          58.07187803937037,
          59.910759427277185,
          58.787964683137616,
          58.51308214446699,
          57.4535837197264,
          59.043944655495324,
          60.10778515279337,
          59.4599274815853,
          59.01540545781252,
          58.749184600924195,
          57.324478521563314,
          58.44026639166873,
          58.688971856326944,
          57.72335387272301,
          59.92453332001529,
          58.411204020707224,
          58.890764956173115,
          58.22636322725171,
          55.92138210629783,
          57.61211376803283,
          57.912893030036,
          59.12638582213727,
          58.24711171615774,
          58.12117180533154,
          58.29898393554205,
          57.842900863153346,
          57.259530977219285,
          56.752347076948766,
          58.24945521515245,
          58.581073320620604,
          60.76384407984957,
          58.399325436979574,
          58.66848816920581,
          57.724226271343696,
          58.500482900154374,
          58.863064860590626,
          56.94837214053479,
          56.607945922506914,
          59.153922240612225,
          59.18194410599923,
          58.39137144842193,
          57.11895290779843,
          58.29507995978624,
          59.8638010621325,
          56.287726075528745,
          56.592915454256776,
          58.12678118632697,
          58.00375984779549,
          56.73100574392661,
          57.16115707857971,
          58.55392125143972,
          57.49595728191804,
          57.21155981548212,
          59.52940067448393,
          58.20545485392598,
          58.31301312898086,
          58.8665207121683,
          58.299070529594374,
          59.07654064384612,
          58.36317734754445,
          59.89367982555184,
          57.514247255717194,
          58.3876744557776,
          58.02355761039255,
          57.33977049795572,
          57.68131507042199,
          57.277337806325626,
          58.1773867193846,
          58.98351272934316,
          58.0235045858854,
          58.553776977863365,
          58.35376929399664,
          57.724406366232316,
          57.50951640852132,
          57.62556339980722,
          55.602496023861185,
          59.54102998327794,
          58.063084538957305,
          57.71555931607371,
          56.73439946239879,
          59.78797963245575,
          57.645491291930625,
          57.89523887693289,
          58.386253689189054,
          58.822775373765374,
          57.31621017756899,
          59.057203331214126,
          58.03187997356903,
          59.34318245752894,
          57.94946031045123,
          57.63599004369289,
          56.44665766056894,
          57.68070219817984,
          58.52704645095496,
          58.71111239936482,
          57.78245451950952,
          60.63779121070387,
          56.25786236940503,
          57.90556519225856,
          59.43118375225456,
          58.59275844655067,
          58.17029689532629,
          56.248294052207974,
          58.288581322343205,
          57.45742048309322,
          58.171602381986,
          58.9828178292431,
          57.97465109793723,
          57.71244755071589,
          58.924442867343366,
          57.93875370013369,
          57.26896665741479,
          56.97722629530486,
          58.99599297024575,
          58.95555793262746,
          58.713840771195045,
          58.13337096219412,
          57.19296169152719,
          57.65798921812078,
          59.908779658091184,
          58.155923261453125,
          58.759652532092964,
          57.57699377158075,
          58.18167274532368,
          58.2744925707464,
          58.067912357380756,
          57.96301718512408,
          57.829198969302375,
          58.266973231539865,
          59.382997248852924,
          57.97753912648857,
          58.13139536722591,
          58.43443718510223,
          58.264534068317,
          58.56565834427383,
          58.58508427950172,
          57.82570184724791,
          56.92863132854491,
          57.95153949744762,
          57.154709610433756,
          58.41510055838158,
          58.42553059139786,
          57.019275642499416,
          57.572173890027976,
          59.498569955138535,
          57.63984342913097,
          57.54175961066251,
          56.662031598049026,
          57.95861346038513,
          58.82104795610792,
          60.09780078077169,
          59.28293324687452,
          58.27033792573937,
          59.00314036204493,
          59.078673551320406,
          58.340752685129765,
          57.80192504037643,
          60.481458422875654,
          59.38525487618921,
          56.84539903461033,
          56.73193094962292,
          58.60786218620948,
          56.91990351684241,
          57.38871832520424,
          58.102035112292334,
          56.56342606322788,
          58.21071705250566,
          57.10309582930249,
          56.27560692100817,
          59.79233919664694,
          56.68728729340777,
          58.55587742638563,
          57.31811869450887,
          59.572742745755804,
          57.895348425152235,
          59.8503978016099,
          57.6666495732506,
          58.193464233819874,
          57.50325506213509,
          59.032723215735864,
          56.26019620247744,
          57.24413782437709,
          57.11888826735206,
          58.39389226291267,
          57.04997446520372,
          58.33250662216225,
          58.52894440885605,
          56.87947900600727,
          58.04826420692566,
          58.061988450521774,
          56.97248432678213,
          57.76166463453267,
          59.93217816958135
         ],
         "xaxis": "x",
         "y": [
          "M",
          "M",
          "M",
          "M",
          "M",
          "M",
          "M",
          "M",
          "M",
          "M",
          "M",
          "M",
          "M",
          "M",
          "M",
          "M",
          "M",
          "M",
          "M",
          "M",
          "M",
          "M",
          "M",
          "M",
          "M",
          "M",
          "M",
          "M",
          "M",
          "M",
          "M",
          "M",
          "M",
          "M",
          "M",
          "M",
          "M",
          "M",
          "M",
          "M",
          "M",
          "M",
          "M",
          "M",
          "M",
          "M",
          "M",
          "M",
          "M",
          "M",
          "M",
          "M",
          "M",
          "M",
          "M",
          "M",
          "M",
          "M",
          "M",
          "M",
          "M",
          "M",
          "M",
          "M",
          "M",
          "M",
          "M",
          "M",
          "M",
          "M",
          "M",
          "M",
          "M",
          "M",
          "M",
          "M",
          "M",
          "M",
          "M",
          "M",
          "M",
          "M",
          "M",
          "M",
          "M",
          "M",
          "M",
          "M",
          "M",
          "M",
          "M",
          "M",
          "M",
          "M",
          "M",
          "M",
          "M",
          "M",
          "M",
          "M",
          "M",
          "M",
          "M",
          "M",
          "M",
          "M",
          "M",
          "M",
          "M",
          "M",
          "M",
          "M",
          "M",
          "M",
          "M",
          "M",
          "M",
          "M",
          "M",
          "M",
          "M",
          "M",
          "M",
          "M",
          "M",
          "M",
          "M",
          "M",
          "M",
          "M",
          "M",
          "M",
          "M",
          "M",
          "M",
          "M",
          "M",
          "M",
          "M",
          "M",
          "M",
          "M",
          "M",
          "M",
          "M",
          "M",
          "M",
          "M",
          "M",
          "M",
          "M",
          "M",
          "M",
          "M",
          "M",
          "M",
          "M",
          "M",
          "M",
          "M",
          "M",
          "M",
          "M",
          "M",
          "M",
          "M",
          "M",
          "M",
          "M",
          "M",
          "M",
          "M",
          "M",
          "M",
          "M",
          "M",
          "M",
          "M",
          "M",
          "M",
          "M",
          "M",
          "M",
          "M",
          "M",
          "M",
          "M",
          "M",
          "M",
          "M",
          "M",
          "M",
          "M",
          "M",
          "M",
          "M",
          "M",
          "M",
          "M",
          "M"
         ],
         "yaxis": "y2"
        },
        {
         "legendgroup": "F",
         "marker": {
          "color": "rgb(255, 127, 14)",
          "symbol": "line-ns-open"
         },
         "mode": "markers",
         "name": "F",
         "showlegend": false,
         "type": "scatter",
         "x": [
          55.471435163732494,
          53.80902430529353,
          56.432706968426096,
          54.687348103908285,
          54.27941126663499,
          55.88716294030774,
          55.85958841371742,
          54.36347649558265,
          55.01569637211443,
          52.75731504581459,
          56.15003572471982,
          55.99194602234268,
          55.95332412811243,
          52.97874517980503,
          54.6659226341919,
          55.00211836468349,
          55.40545341157019,
          55.289091940980036,
          56.32115819212939,
          53.45309444677076,
          54.797353675370815,
          54.34403065586107,
          55.19342137647036,
          55.55343891095674,
          56.31815155418013,
          54.5306947152941,
          55.67555408512238,
          53.1829727734098,
          54.816891459821,
          56.05896918757115,
          54.60215977180001,
          55.337437653613975,
          56.047578572892725,
          56.04593825562767,
          55.863717291684836,
          54.87790842515233,
          55.12471295376822,
          54.6772051943917,
          55.841674712996145,
          57.390960515463036,
          55.07619958783724,
          54.43355406953504,
          55.036141936684075,
          52.925022399309974,
          55.247792199748545,
          54.1028432155603,
          54.86320516673865,
          55.01828919134922,
          55.75541398239814,
          55.21526858096944,
          55.84100879493139,
          53.55418992295569,
          53.598026718499156,
          54.899081800051086,
          54.45175755081314,
          54.85538049163062,
          55.35402033219924,
          54.96448697472186,
          55.56573830606259,
          56.54565880462556,
          54.025763666232685,
          54.929655122895895,
          55.30796885521603,
          54.79150123689412,
          56.0338007325555,
          52.5995463661877,
          57.0306036208388,
          53.857368710977234,
          55.2118833867777,
          55.70472062431711,
          54.2145647882368,
          55.46205973716205,
          55.704228225462174,
          55.523507967893806,
          54.07374568646978,
          57.007842950778,
          55.2269625418709,
          53.847340890749045,
          55.63197944580913,
          55.039512686693364,
          55.464392325050895,
          51.436483339375265,
          56.32110561547021,
          55.152630552204535,
          55.1645295429324,
          54.569904309123515,
          55.76736873575241,
          55.9849198419099,
          55.270835848826806,
          56.39198619344641,
          55.079842313008626,
          54.60003541930348,
          53.972149441318095,
          54.415281788739215,
          55.81659392654784,
          54.91805294817333,
          54.655233985745355,
          55.528288145297395,
          53.93101121651987,
          54.488118690873186,
          55.29120535974306,
          55.566533696353574,
          55.5035917591112,
          55.28529568478186,
          55.48428811274975,
          56.36348151242615,
          54.218894716374606,
          54.53198233366251,
          56.22457435512617,
          53.71889172485596,
          55.87547550427433,
          53.28928467597047,
          54.54923489686372,
          55.74916380591907,
          54.796067133898745,
          54.81782458833427,
          55.680656004381454,
          53.18150100960838,
          55.047071635325715,
          55.3948442093272,
          54.75156794561915,
          54.38229335200298,
          54.317116003550666,
          55.436257604340916,
          53.29698722588676,
          55.393710599138664,
          54.5206759964245,
          54.70098370703392,
          55.694103287678765,
          55.67862967370986,
          55.2395559950039,
          55.15122662929445,
          55.81612723336004,
          56.8935344675962,
          55.6396327631937,
          54.037971168094806,
          52.914734357879894,
          56.930246767465576,
          53.26465112552961,
          56.210383704904515,
          55.79743541942787,
          54.62018921595262,
          55.7025622240016,
          54.14965372834489,
          56.176812450104926,
          54.475663897367546,
          55.7009077309156,
          55.98418807072242,
          54.87827159133318,
          57.36576862884004,
          55.49614292624759,
          55.796594866664954,
          54.525979109874314,
          54.94330428350907,
          56.357797258107055,
          54.195166275833294,
          52.87637975090707,
          54.66649755956675,
          54.11328064751462,
          55.33419793089901,
          55.53678382490275,
          54.2561696320638,
          54.67979611775912,
          54.083801138733456,
          54.14033170001826,
          55.225985486733755,
          55.628775826538295,
          55.186494348773074,
          55.95247834510912,
          55.98813758259331,
          54.927391686037325,
          54.44939707643658,
          54.061847385906894,
          53.760928437405205,
          55.13968327403129,
          54.776981018117525,
          57.123691888593555,
          55.12227343425883,
          53.590568260077234,
          56.422985952772244,
          52.85214496235639,
          53.65246748654224,
          55.36356455680665,
          54.9852478881954,
          56.27239507854621,
          53.550433391136615,
          53.80447625833303,
          54.40813702685275,
          54.58549515646781,
          53.574205266561975,
          55.20939478753592,
          54.40711399616107,
          53.52688358653435,
          54.10341938469813,
          56.10435156986031,
          54.568450484483954,
          54.83886309175594,
          55.889157494072876,
          55.28837684771526,
          53.94846106242996
         ],
         "xaxis": "x",
         "y": [
          "F",
          "F",
          "F",
          "F",
          "F",
          "F",
          "F",
          "F",
          "F",
          "F",
          "F",
          "F",
          "F",
          "F",
          "F",
          "F",
          "F",
          "F",
          "F",
          "F",
          "F",
          "F",
          "F",
          "F",
          "F",
          "F",
          "F",
          "F",
          "F",
          "F",
          "F",
          "F",
          "F",
          "F",
          "F",
          "F",
          "F",
          "F",
          "F",
          "F",
          "F",
          "F",
          "F",
          "F",
          "F",
          "F",
          "F",
          "F",
          "F",
          "F",
          "F",
          "F",
          "F",
          "F",
          "F",
          "F",
          "F",
          "F",
          "F",
          "F",
          "F",
          "F",
          "F",
          "F",
          "F",
          "F",
          "F",
          "F",
          "F",
          "F",
          "F",
          "F",
          "F",
          "F",
          "F",
          "F",
          "F",
          "F",
          "F",
          "F",
          "F",
          "F",
          "F",
          "F",
          "F",
          "F",
          "F",
          "F",
          "F",
          "F",
          "F",
          "F",
          "F",
          "F",
          "F",
          "F",
          "F",
          "F",
          "F",
          "F",
          "F",
          "F",
          "F",
          "F",
          "F",
          "F",
          "F",
          "F",
          "F",
          "F",
          "F",
          "F",
          "F",
          "F",
          "F",
          "F",
          "F",
          "F",
          "F",
          "F",
          "F",
          "F",
          "F",
          "F",
          "F",
          "F",
          "F",
          "F",
          "F",
          "F",
          "F",
          "F",
          "F",
          "F",
          "F",
          "F",
          "F",
          "F",
          "F",
          "F",
          "F",
          "F",
          "F",
          "F",
          "F",
          "F",
          "F",
          "F",
          "F",
          "F",
          "F",
          "F",
          "F",
          "F",
          "F",
          "F",
          "F",
          "F",
          "F",
          "F",
          "F",
          "F",
          "F",
          "F",
          "F",
          "F",
          "F",
          "F",
          "F",
          "F",
          "F",
          "F",
          "F",
          "F",
          "F",
          "F",
          "F",
          "F",
          "F",
          "F",
          "F",
          "F",
          "F",
          "F",
          "F",
          "F",
          "F",
          "F",
          "F",
          "F",
          "F",
          "F",
          "F",
          "F",
          "F",
          "F",
          "F",
          "F",
          "F",
          "F"
         ],
         "yaxis": "y2"
        }
       ],
       "layout": {
        "autosize": true,
        "barmode": "overlay",
        "hovermode": "closest",
        "legend": {
         "traceorder": "reversed"
        },
        "template": {
         "data": {
          "bar": [
           {
            "error_x": {
             "color": "#2a3f5f"
            },
            "error_y": {
             "color": "#2a3f5f"
            },
            "marker": {
             "line": {
              "color": "#E5ECF6",
              "width": 0.5
             }
            },
            "type": "bar"
           }
          ],
          "barpolar": [
           {
            "marker": {
             "line": {
              "color": "#E5ECF6",
              "width": 0.5
             }
            },
            "type": "barpolar"
           }
          ],
          "carpet": [
           {
            "aaxis": {
             "endlinecolor": "#2a3f5f",
             "gridcolor": "white",
             "linecolor": "white",
             "minorgridcolor": "white",
             "startlinecolor": "#2a3f5f"
            },
            "baxis": {
             "endlinecolor": "#2a3f5f",
             "gridcolor": "white",
             "linecolor": "white",
             "minorgridcolor": "white",
             "startlinecolor": "#2a3f5f"
            },
            "type": "carpet"
           }
          ],
          "choropleth": [
           {
            "colorbar": {
             "outlinewidth": 0,
             "ticks": ""
            },
            "type": "choropleth"
           }
          ],
          "contour": [
           {
            "colorbar": {
             "outlinewidth": 0,
             "ticks": ""
            },
            "colorscale": [
             [
              0,
              "#0d0887"
             ],
             [
              0.1111111111111111,
              "#46039f"
             ],
             [
              0.2222222222222222,
              "#7201a8"
             ],
             [
              0.3333333333333333,
              "#9c179e"
             ],
             [
              0.4444444444444444,
              "#bd3786"
             ],
             [
              0.5555555555555556,
              "#d8576b"
             ],
             [
              0.6666666666666666,
              "#ed7953"
             ],
             [
              0.7777777777777778,
              "#fb9f3a"
             ],
             [
              0.8888888888888888,
              "#fdca26"
             ],
             [
              1,
              "#f0f921"
             ]
            ],
            "type": "contour"
           }
          ],
          "contourcarpet": [
           {
            "colorbar": {
             "outlinewidth": 0,
             "ticks": ""
            },
            "type": "contourcarpet"
           }
          ],
          "heatmap": [
           {
            "colorbar": {
             "outlinewidth": 0,
             "ticks": ""
            },
            "colorscale": [
             [
              0,
              "#0d0887"
             ],
             [
              0.1111111111111111,
              "#46039f"
             ],
             [
              0.2222222222222222,
              "#7201a8"
             ],
             [
              0.3333333333333333,
              "#9c179e"
             ],
             [
              0.4444444444444444,
              "#bd3786"
             ],
             [
              0.5555555555555556,
              "#d8576b"
             ],
             [
              0.6666666666666666,
              "#ed7953"
             ],
             [
              0.7777777777777778,
              "#fb9f3a"
             ],
             [
              0.8888888888888888,
              "#fdca26"
             ],
             [
              1,
              "#f0f921"
             ]
            ],
            "type": "heatmap"
           }
          ],
          "heatmapgl": [
           {
            "colorbar": {
             "outlinewidth": 0,
             "ticks": ""
            },
            "colorscale": [
             [
              0,
              "#0d0887"
             ],
             [
              0.1111111111111111,
              "#46039f"
             ],
             [
              0.2222222222222222,
              "#7201a8"
             ],
             [
              0.3333333333333333,
              "#9c179e"
             ],
             [
              0.4444444444444444,
              "#bd3786"
             ],
             [
              0.5555555555555556,
              "#d8576b"
             ],
             [
              0.6666666666666666,
              "#ed7953"
             ],
             [
              0.7777777777777778,
              "#fb9f3a"
             ],
             [
              0.8888888888888888,
              "#fdca26"
             ],
             [
              1,
              "#f0f921"
             ]
            ],
            "type": "heatmapgl"
           }
          ],
          "histogram": [
           {
            "marker": {
             "colorbar": {
              "outlinewidth": 0,
              "ticks": ""
             }
            },
            "type": "histogram"
           }
          ],
          "histogram2d": [
           {
            "colorbar": {
             "outlinewidth": 0,
             "ticks": ""
            },
            "colorscale": [
             [
              0,
              "#0d0887"
             ],
             [
              0.1111111111111111,
              "#46039f"
             ],
             [
              0.2222222222222222,
              "#7201a8"
             ],
             [
              0.3333333333333333,
              "#9c179e"
             ],
             [
              0.4444444444444444,
              "#bd3786"
             ],
             [
              0.5555555555555556,
              "#d8576b"
             ],
             [
              0.6666666666666666,
              "#ed7953"
             ],
             [
              0.7777777777777778,
              "#fb9f3a"
             ],
             [
              0.8888888888888888,
              "#fdca26"
             ],
             [
              1,
              "#f0f921"
             ]
            ],
            "type": "histogram2d"
           }
          ],
          "histogram2dcontour": [
           {
            "colorbar": {
             "outlinewidth": 0,
             "ticks": ""
            },
            "colorscale": [
             [
              0,
              "#0d0887"
             ],
             [
              0.1111111111111111,
              "#46039f"
             ],
             [
              0.2222222222222222,
              "#7201a8"
             ],
             [
              0.3333333333333333,
              "#9c179e"
             ],
             [
              0.4444444444444444,
              "#bd3786"
             ],
             [
              0.5555555555555556,
              "#d8576b"
             ],
             [
              0.6666666666666666,
              "#ed7953"
             ],
             [
              0.7777777777777778,
              "#fb9f3a"
             ],
             [
              0.8888888888888888,
              "#fdca26"
             ],
             [
              1,
              "#f0f921"
             ]
            ],
            "type": "histogram2dcontour"
           }
          ],
          "mesh3d": [
           {
            "colorbar": {
             "outlinewidth": 0,
             "ticks": ""
            },
            "type": "mesh3d"
           }
          ],
          "parcoords": [
           {
            "line": {
             "colorbar": {
              "outlinewidth": 0,
              "ticks": ""
             }
            },
            "type": "parcoords"
           }
          ],
          "pie": [
           {
            "automargin": true,
            "type": "pie"
           }
          ],
          "scatter": [
           {
            "marker": {
             "colorbar": {
              "outlinewidth": 0,
              "ticks": ""
             }
            },
            "type": "scatter"
           }
          ],
          "scatter3d": [
           {
            "line": {
             "colorbar": {
              "outlinewidth": 0,
              "ticks": ""
             }
            },
            "marker": {
             "colorbar": {
              "outlinewidth": 0,
              "ticks": ""
             }
            },
            "type": "scatter3d"
           }
          ],
          "scattercarpet": [
           {
            "marker": {
             "colorbar": {
              "outlinewidth": 0,
              "ticks": ""
             }
            },
            "type": "scattercarpet"
           }
          ],
          "scattergeo": [
           {
            "marker": {
             "colorbar": {
              "outlinewidth": 0,
              "ticks": ""
             }
            },
            "type": "scattergeo"
           }
          ],
          "scattergl": [
           {
            "marker": {
             "colorbar": {
              "outlinewidth": 0,
              "ticks": ""
             }
            },
            "type": "scattergl"
           }
          ],
          "scattermapbox": [
           {
            "marker": {
             "colorbar": {
              "outlinewidth": 0,
              "ticks": ""
             }
            },
            "type": "scattermapbox"
           }
          ],
          "scatterpolar": [
           {
            "marker": {
             "colorbar": {
              "outlinewidth": 0,
              "ticks": ""
             }
            },
            "type": "scatterpolar"
           }
          ],
          "scatterpolargl": [
           {
            "marker": {
             "colorbar": {
              "outlinewidth": 0,
              "ticks": ""
             }
            },
            "type": "scatterpolargl"
           }
          ],
          "scatterternary": [
           {
            "marker": {
             "colorbar": {
              "outlinewidth": 0,
              "ticks": ""
             }
            },
            "type": "scatterternary"
           }
          ],
          "surface": [
           {
            "colorbar": {
             "outlinewidth": 0,
             "ticks": ""
            },
            "colorscale": [
             [
              0,
              "#0d0887"
             ],
             [
              0.1111111111111111,
              "#46039f"
             ],
             [
              0.2222222222222222,
              "#7201a8"
             ],
             [
              0.3333333333333333,
              "#9c179e"
             ],
             [
              0.4444444444444444,
              "#bd3786"
             ],
             [
              0.5555555555555556,
              "#d8576b"
             ],
             [
              0.6666666666666666,
              "#ed7953"
             ],
             [
              0.7777777777777778,
              "#fb9f3a"
             ],
             [
              0.8888888888888888,
              "#fdca26"
             ],
             [
              1,
              "#f0f921"
             ]
            ],
            "type": "surface"
           }
          ],
          "table": [
           {
            "cells": {
             "fill": {
              "color": "#EBF0F8"
             },
             "line": {
              "color": "white"
             }
            },
            "header": {
             "fill": {
              "color": "#C8D4E3"
             },
             "line": {
              "color": "white"
             }
            },
            "type": "table"
           }
          ]
         },
         "layout": {
          "annotationdefaults": {
           "arrowcolor": "#2a3f5f",
           "arrowhead": 0,
           "arrowwidth": 1
          },
          "coloraxis": {
           "colorbar": {
            "outlinewidth": 0,
            "ticks": ""
           }
          },
          "colorscale": {
           "diverging": [
            [
             0,
             "#8e0152"
            ],
            [
             0.1,
             "#c51b7d"
            ],
            [
             0.2,
             "#de77ae"
            ],
            [
             0.3,
             "#f1b6da"
            ],
            [
             0.4,
             "#fde0ef"
            ],
            [
             0.5,
             "#f7f7f7"
            ],
            [
             0.6,
             "#e6f5d0"
            ],
            [
             0.7,
             "#b8e186"
            ],
            [
             0.8,
             "#7fbc41"
            ],
            [
             0.9,
             "#4d9221"
            ],
            [
             1,
             "#276419"
            ]
           ],
           "sequential": [
            [
             0,
             "#0d0887"
            ],
            [
             0.1111111111111111,
             "#46039f"
            ],
            [
             0.2222222222222222,
             "#7201a8"
            ],
            [
             0.3333333333333333,
             "#9c179e"
            ],
            [
             0.4444444444444444,
             "#bd3786"
            ],
            [
             0.5555555555555556,
             "#d8576b"
            ],
            [
             0.6666666666666666,
             "#ed7953"
            ],
            [
             0.7777777777777778,
             "#fb9f3a"
            ],
            [
             0.8888888888888888,
             "#fdca26"
            ],
            [
             1,
             "#f0f921"
            ]
           ],
           "sequentialminus": [
            [
             0,
             "#0d0887"
            ],
            [
             0.1111111111111111,
             "#46039f"
            ],
            [
             0.2222222222222222,
             "#7201a8"
            ],
            [
             0.3333333333333333,
             "#9c179e"
            ],
            [
             0.4444444444444444,
             "#bd3786"
            ],
            [
             0.5555555555555556,
             "#d8576b"
            ],
            [
             0.6666666666666666,
             "#ed7953"
            ],
            [
             0.7777777777777778,
             "#fb9f3a"
            ],
            [
             0.8888888888888888,
             "#fdca26"
            ],
            [
             1,
             "#f0f921"
            ]
           ]
          },
          "colorway": [
           "#636efa",
           "#EF553B",
           "#00cc96",
           "#ab63fa",
           "#FFA15A",
           "#19d3f3",
           "#FF6692",
           "#B6E880",
           "#FF97FF",
           "#FECB52"
          ],
          "font": {
           "color": "#2a3f5f"
          },
          "geo": {
           "bgcolor": "white",
           "lakecolor": "white",
           "landcolor": "#E5ECF6",
           "showlakes": true,
           "showland": true,
           "subunitcolor": "white"
          },
          "hoverlabel": {
           "align": "left"
          },
          "hovermode": "closest",
          "mapbox": {
           "style": "light"
          },
          "paper_bgcolor": "white",
          "plot_bgcolor": "#E5ECF6",
          "polar": {
           "angularaxis": {
            "gridcolor": "white",
            "linecolor": "white",
            "ticks": ""
           },
           "bgcolor": "#E5ECF6",
           "radialaxis": {
            "gridcolor": "white",
            "linecolor": "white",
            "ticks": ""
           }
          },
          "scene": {
           "xaxis": {
            "backgroundcolor": "#E5ECF6",
            "gridcolor": "white",
            "gridwidth": 2,
            "linecolor": "white",
            "showbackground": true,
            "ticks": "",
            "zerolinecolor": "white"
           },
           "yaxis": {
            "backgroundcolor": "#E5ECF6",
            "gridcolor": "white",
            "gridwidth": 2,
            "linecolor": "white",
            "showbackground": true,
            "ticks": "",
            "zerolinecolor": "white"
           },
           "zaxis": {
            "backgroundcolor": "#E5ECF6",
            "gridcolor": "white",
            "gridwidth": 2,
            "linecolor": "white",
            "showbackground": true,
            "ticks": "",
            "zerolinecolor": "white"
           }
          },
          "shapedefaults": {
           "line": {
            "color": "#2a3f5f"
           }
          },
          "ternary": {
           "aaxis": {
            "gridcolor": "white",
            "linecolor": "white",
            "ticks": ""
           },
           "baxis": {
            "gridcolor": "white",
            "linecolor": "white",
            "ticks": ""
           },
           "bgcolor": "#E5ECF6",
           "caxis": {
            "gridcolor": "white",
            "linecolor": "white",
            "ticks": ""
           }
          },
          "title": {
           "x": 0.05
          },
          "xaxis": {
           "automargin": true,
           "gridcolor": "white",
           "linecolor": "white",
           "ticks": "",
           "title": {
            "standoff": 15
           },
           "zerolinecolor": "white",
           "zerolinewidth": 2
          },
          "yaxis": {
           "automargin": true,
           "gridcolor": "white",
           "linecolor": "white",
           "ticks": "",
           "title": {
            "standoff": 15
           },
           "zerolinecolor": "white",
           "zerolinewidth": 2
          }
         }
        },
        "xaxis": {
         "anchor": "y2",
         "autorange": true,
         "domain": [
          0,
          1
         ],
         "range": [
          50.874352711302805,
          61.32597470792203
         ],
         "type": "linear",
         "zeroline": false
        },
        "yaxis": {
         "anchor": "free",
         "autorange": true,
         "domain": [
          0.35,
          1
         ],
         "position": 0,
         "range": [
          -0.02040803098275236,
          0.462625546509247
         ],
         "type": "linear"
        },
        "yaxis2": {
         "anchor": "x",
         "autorange": true,
         "domain": [
          0,
          0.25
         ],
         "dtick": 1,
         "range": [
          -0.13380281690140847,
          1.1338028169014085
         ],
         "showticklabels": false,
         "type": "category"
        }
       }
      },
      "image/png": "[encoded data removed]"
     },
     "metadata": {},
     "output_type": "display_data"
    }
   ],
   "source": [
    "import plotly.figure_factory as ff\n",
    "\n",
    "w1 = wdata[wdata['Sex'] == 'M'].iloc[:, 1]\n",
    "w2 = wdata[wdata['Sex'] == 'F'].iloc[:, 1]\n",
    "\n",
    "hist_data = [w1, w2]\n",
    "group_labels = ['M', 'F']\n",
    "\n",
    "fig = ff.create_distplot(hist_data, group_labels, show_hist=False)\n",
    "fig.show()"
   ]
  },
  {
   "cell_type": "code",
   "execution_count": null,
   "metadata": {},
   "outputs": [],
   "source": []
  }
 ],
 "metadata": {
  "kernelspec": {
   "display_name": "Python 3.7.4 64-bit ('anaconda3': virtualenv)",
   "language": "python",
   "name": "python37464bitanaconda3virtualenv03289b9f3e044ac7aa6154d011db7413"
  },
  "language_info": {
   "codemirror_mode": {
    "name": "ipython",
    "version": 3
   },
   "file_extension": ".py",
   "mimetype": "text/x-python",
   "name": "python",
   "nbconvert_exporter": "python",
   "pygments_lexer": "ipython3",
   "version": "3.7.6"
  }
 },
 "nbformat": 4,
 "nbformat_minor": 4
}
